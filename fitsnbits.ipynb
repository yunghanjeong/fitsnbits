{
 "cells": [
  {
   "cell_type": "markdown",
   "metadata": {},
   "source": [
    "# Overview"
   ]
  },
  {
   "cell_type": "code",
   "execution_count": 1,
   "metadata": {},
   "outputs": [],
   "source": [
    "import pandas as pd\n",
    "import numpy as np\n",
    "import os\n",
    "from statsmodels.tsa.arima.model import ARIMA\n",
    "from statsmodels.graphics.tsaplots import plot_acf\n",
    "from statsmodels.graphics.tsaplots import plot_pacf\n",
    "from sklearn.metrics import mean_squared_error\n",
    "import matplotlib.pyplot as plt\n",
    "\n",
    "%matplotlib inline"
   ]
  },
  {
   "cell_type": "markdown",
   "metadata": {},
   "source": [
    "## Data Import"
   ]
  },
  {
   "cell_type": "code",
   "execution_count": null,
   "metadata": {},
   "outputs": [],
   "source": [
    "symbols=[\"SPY\", \"AAPL\", \"MSFT\", \"AMZN\", \"FB\", \"GOOGL\", \"GOOG\", \"BRK.B\", \"JNJ\", \"JPM\", \"V\"] #big 10 symbols to collect\n",
    "pricetype = \"close\"\n",
    "analysis_date_start = \"2019-01-01\"\n",
    "analysis_date_end = \"2020-02-28\""
   ]
  },
  {
   "cell_type": "code",
   "execution_count": null,
   "metadata": {},
   "outputs": [],
   "source": [
    "for symbol in symbols:\n",
    "    filepath = \"../data/{}_daily01.csv\".format(symbol)\n",
    "    stock_df = pd.read_csv(filepath)\n",
    "    stock_df = stock_df[(stock_df.to_datetime > analysis_date_start) & (stock_df.to_datetime < analysis_date_end)][\"close\"]\n",
    "    plot_title = \"{} ACF and PACF\".format(symbol)\n",
    "    fig, ax = plt.subplots(1,2, figsize=(12,8))\n",
    "    plot_acf(stock_df.values, ax=ax[0]);\n",
    "    plot_pacf(stock_df.values, ax=ax[1]);\n",
    "    fig.suptitle(plot_title, size=18)"
   ]
  },
  {
   "cell_type": "code",
   "execution_count": null,
   "metadata": {},
   "outputs": [],
   "source": []
  },
  {
   "cell_type": "code",
   "execution_count": null,
   "metadata": {},
   "outputs": [],
   "source": [
    "def ARIMA_gridsearch(p_max:int, d_max:int, q_max:int, data, prediction_length):\n",
    "    return_list = [] #initialize return list\n",
    "    train_data_idx = len(data) - prediction_length\n",
    "    train = data[:train_data_idx] #slice train and test data\n",
    "    test = data[train_data_idx:]\n",
    "    p_range = range(1, p_max) #set ARIMA ranges\n",
    "    d_range = range(0, d_max)\n",
    "    q_range = range(1, q_max)\n",
    "    for p in p_range: #loop through ARIMA ranges\n",
    "        for d in d_range:\n",
    "            for q in q_range:\n",
    "                model = ARIMA(train, order=(p,d,q)) #fit and predict\n",
    "                arima_model = model.fit()\n",
    "                model_prediction = arima_model.forecast(steps=prediction_length)\n",
    "                warning = arima_model.mle_retvals[\"warnflag\"]\n",
    "                convergence = arima_model.mle_retvals[\"converged\"]\n",
    "                rmse_result = np.sqrt(mean_squared_error(test, model_prediction)) #get rmse\n",
    "                return_list.append([p,d,q,convergence, warning, rmse_result])\n",
    "    return sorted(return_list, key=lambda x: (x[-1], x[-2], (x[-3]*-1)))"
   ]
  },
  {
   "cell_type": "code",
   "execution_count": null,
   "metadata": {},
   "outputs": [],
   "source": []
  },
  {
   "cell_type": "code",
   "execution_count": null,
   "metadata": {},
   "outputs": [],
   "source": []
  },
  {
   "cell_type": "code",
   "execution_count": null,
   "metadata": {},
   "outputs": [],
   "source": []
  }
 ],
 "metadata": {
  "kernelspec": {
   "display_name": "fitsnbits",
   "language": "python",
   "name": "fitsnbits"
  },
  "language_info": {
   "codemirror_mode": {
    "name": "ipython",
    "version": 3
   },
   "file_extension": ".py",
   "mimetype": "text/x-python",
   "name": "python",
   "nbconvert_exporter": "python",
   "pygments_lexer": "ipython3",
   "version": "3.7.9"
  }
 },
 "nbformat": 4,
 "nbformat_minor": 4
}
