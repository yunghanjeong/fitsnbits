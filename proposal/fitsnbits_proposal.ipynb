{
 "cells": [
  {
   "cell_type": "code",
   "execution_count": null,
   "metadata": {},
   "outputs": [],
   "source": []
  },
  {
   "cell_type": "code",
   "execution_count": 11,
   "metadata": {},
   "outputs": [],
   "source": [
    "import pandas as pd\n",
    "\n",
    "from sklearn.preprocessing import StandardScaler, MinMaxScaler\n",
    "\n",
    "import math\n",
    "import random\n",
    "import numpy as np\n",
    "\n",
    "import matplotlib\n",
    "import matplotlib.pyplot as plt\n",
    "import seaborn as sns\n",
    "\n",
    "import torch\n",
    "import torch.optim as optim"
   ]
  },
  {
   "cell_type": "code",
   "execution_count": null,
   "metadata": {},
   "outputs": [],
   "source": []
  },
  {
   "cell_type": "code",
   "execution_count": null,
   "metadata": {},
   "outputs": [],
   "source": [
    "class LSTM_Regression(torch.nn.Module):\n",
    "    \"\"\"\n",
    "    This model has takes in the input size of following  variables in order:\n",
    "        num_obs: number of observations/rows of input/train data\n",
    "        num_feat: number of features/columns of input/train data\n",
    "        test_obs: number of observations/rows in output/prediction data\n",
    "        test_features: number of features/columns in output/prediction data\n",
    "    \"\"\"\n",
    "    def __init__(self, num_obs, num_feat, test_obs, test_features, hidden_size, layers):\n",
    "        \n",
    "        self.num_feat = num_feat # number of columns(features) in data\n",
    "        self.test_obs = test_obs # number of first layer variance \n",
    "        self.test_features = test_features # number of predictions\n",
    "        self.num_obs = num_obs # number of rows(observations) in data \n",
    "        self.hidden_size = hidden_size\n",
    "        self.layers = layers\n",
    "        \n",
    "        super().__init__()\n",
    "        self.LSTM1 = torch.nn.LSTM(input_size=self.num_feat, \n",
    "                                   hidden_size = self.hidden_size,\n",
    "                                   num_layesr = self.layers) # random linear regression with \"num_var guesses\"\n",
    "        self.relu = nn.ReLU() # activate first layer \n",
    "        self.linear2 = torch.nn.Linear(self.num_obs, self.test_features) # make regression with prediction. NOTE transposed\n",
    "    \n",
    "    def forward(self, x):\n",
    "        # x is input, an array size of (num_obs, num_feat)\n",
    "        # regression with ((numb_obs, num_feat) * (num_feat, test_obs)) || output shape:(num_obs, test_obs)\n",
    "        h0 = torch.zeros(self.num_layers, x.size(0))\n",
    "        \n",
    "        x = self.linear1(x) \n",
    "        # activate (num_obs, test_obs)\n",
    "        x = self.relu(x)\n",
    "        # transpose to (test_obs, num_obs)\n",
    "        x = x.t() \n",
    "        # regression with ((test_obs, num_obs), (num_obs, test_features)) || output shape: (test_obs, test_features)\n",
    "        y_pred = self.linear2(x) \n",
    "        \n",
    "        return y_pred"
   ]
  },
  {
   "cell_type": "code",
   "execution_count": null,
   "metadata": {},
   "outputs": [],
   "source": []
  },
  {
   "cell_type": "code",
   "execution_count": null,
   "metadata": {},
   "outputs": [],
   "source": []
  },
  {
   "cell_type": "code",
   "execution_count": null,
   "metadata": {},
   "outputs": [],
   "source": []
  },
  {
   "cell_type": "code",
   "execution_count": null,
   "metadata": {},
   "outputs": [],
   "source": []
  },
  {
   "cell_type": "markdown",
   "metadata": {},
   "source": [
    "Following are some ways to check that you are assigning work the cuda."
   ]
  },
  {
   "cell_type": "code",
   "execution_count": 3,
   "metadata": {},
   "outputs": [
    {
     "data": {
      "text/plain": [
       "'GeForce GTX 1070 Ti'"
      ]
     },
     "execution_count": 3,
     "metadata": {},
     "output_type": "execute_result"
    }
   ],
   "source": [
    "torch.cuda.get_device_name(0)"
   ]
  },
  {
   "cell_type": "code",
   "execution_count": 4,
   "metadata": {},
   "outputs": [
    {
     "name": "stdout",
     "output_type": "stream",
     "text": [
      "Using device: cuda\n"
     ]
    }
   ],
   "source": [
    "device = torch.device('cuda' if torch.cuda.is_available() else 'cpu')\n",
    "print('Using device:', device)"
   ]
  },
  {
   "cell_type": "code",
   "execution_count": null,
   "metadata": {},
   "outputs": [],
   "source": []
  }
 ],
 "metadata": {
  "kernelspec": {
   "display_name": "fitsnbits",
   "language": "python",
   "name": "fitsnbits"
  },
  "language_info": {
   "codemirror_mode": {
    "name": "ipython",
    "version": 3
   },
   "file_extension": ".py",
   "mimetype": "text/x-python",
   "name": "python",
   "nbconvert_exporter": "python",
   "pygments_lexer": "ipython3",
   "version": "3.7.9"
  }
 },
 "nbformat": 4,
 "nbformat_minor": 4
}
