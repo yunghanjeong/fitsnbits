{
 "cells": [
  {
   "cell_type": "markdown",
   "metadata": {},
   "source": [
    "# Overview\n",
    "\n",
    "The objective of this notebook is to build a function that combines acf/pacf to arima gridsearch to automatically determine ARIMA model"
   ]
  },
  {
   "cell_type": "code",
   "execution_count": 62,
   "metadata": {},
   "outputs": [],
   "source": [
    "import pandas as pd\n",
    "import numpy as np\n",
    "import os\n",
    "from statsmodels.tsa.stattools import acf, pacf\n",
    "from statsmodels.tsa.arima.model import ARIMA\n",
    "from statsmodels.graphics.tsaplots import plot_acf, plot_pacf\n",
    "from statsmodels.tsa.statespace.sarimax import SARIMAX\n",
    "\n",
    "import warnings\n",
    "from statsmodels.tools.sm_exceptions import ConvergenceWarning\n",
    "warnings.simplefilter('ignore', ConvergenceWarning)\n",
    "warnings.simplefilter('ignore', category=UserWarning)\n",
    "\n",
    "from sklearn.metrics import mean_squared_error\n",
    "\n",
    "import matplotlib.pyplot as plt\n",
    "\n",
    "%matplotlib inline"
   ]
  },
  {
   "cell_type": "markdown",
   "metadata": {},
   "source": [
    "## Data Preparation"
   ]
  },
  {
   "cell_type": "code",
   "execution_count": 173,
   "metadata": {},
   "outputs": [],
   "source": [
    "symbols=[\"SPY\", \"AAPL\", \"MSFT\"]# , \"AMZN\", \"FB\", \"GOOGL\", \"GOOG\", \"BRK.B\", \"JNJ\", \"JPM\", \"V\"] #big 10 symbols to collect\n",
    "pricetype = \"close\"\n",
    "analysis_date_start = \"2019-01-04\"\n",
    "analysis_date_end = \"2020-01-01\""
   ]
  },
  {
   "cell_type": "code",
   "execution_count": 174,
   "metadata": {},
   "outputs": [],
   "source": [
    "filepath = \"../data/{}_daily01.csv\".format(\"SPY\")\n",
    "stock_df = pd.read_csv(filepath)\n",
    "#stock_df = stock_df[(stock_df.to_datetime > analysis_date_start) & (stock_df.to_datetime < analysis_date_end)]"
   ]
  },
  {
   "cell_type": "code",
   "execution_count": 175,
   "metadata": {},
   "outputs": [],
   "source": [
    "stock_df[\"datetime\"] = stock_df[\"to_datetime\"]\n",
    "stock_df[\"datetime\"] = pd.to_datetime(stock_df[\"datetime\"])\n",
    "stock_df.drop(columns=\"to_datetime\", inplace=True)\n",
    "stock_df.index = stock_df.datetime\n",
    "stock_df.drop(columns=\"datetime\", inplace=True)"
   ]
  },
  {
   "cell_type": "code",
   "execution_count": 176,
   "metadata": {
    "scrolled": true
   },
   "outputs": [
    {
     "data": {
      "text/html": [
       "<div>\n",
       "<style scoped>\n",
       "    .dataframe tbody tr th:only-of-type {\n",
       "        vertical-align: middle;\n",
       "    }\n",
       "\n",
       "    .dataframe tbody tr th {\n",
       "        vertical-align: top;\n",
       "    }\n",
       "\n",
       "    .dataframe thead th {\n",
       "        text-align: right;\n",
       "    }\n",
       "</style>\n",
       "<table border=\"1\" class=\"dataframe\">\n",
       "  <thead>\n",
       "    <tr style=\"text-align: right;\">\n",
       "      <th></th>\n",
       "      <th>open</th>\n",
       "      <th>high</th>\n",
       "      <th>low</th>\n",
       "      <th>close</th>\n",
       "      <th>volume</th>\n",
       "    </tr>\n",
       "    <tr>\n",
       "      <th>datetime</th>\n",
       "      <th></th>\n",
       "      <th></th>\n",
       "      <th></th>\n",
       "      <th></th>\n",
       "      <th></th>\n",
       "    </tr>\n",
       "  </thead>\n",
       "  <tbody>\n",
       "    <tr>\n",
       "      <th>2015-10-14 01:00:00</th>\n",
       "      <td>200.18</td>\n",
       "      <td>200.8700</td>\n",
       "      <td>198.9400</td>\n",
       "      <td>199.2900</td>\n",
       "      <td>99106161</td>\n",
       "    </tr>\n",
       "    <tr>\n",
       "      <th>2015-10-15 01:00:00</th>\n",
       "      <td>200.08</td>\n",
       "      <td>202.3600</td>\n",
       "      <td>199.6400</td>\n",
       "      <td>202.3500</td>\n",
       "      <td>134142195</td>\n",
       "    </tr>\n",
       "    <tr>\n",
       "      <th>2015-10-16 01:00:00</th>\n",
       "      <td>202.83</td>\n",
       "      <td>203.2900</td>\n",
       "      <td>201.9200</td>\n",
       "      <td>203.2700</td>\n",
       "      <td>114580052</td>\n",
       "    </tr>\n",
       "    <tr>\n",
       "      <th>2015-10-19 01:00:00</th>\n",
       "      <td>202.50</td>\n",
       "      <td>203.3700</td>\n",
       "      <td>202.1300</td>\n",
       "      <td>203.3700</td>\n",
       "      <td>76523897</td>\n",
       "    </tr>\n",
       "    <tr>\n",
       "      <th>2015-10-20 01:00:00</th>\n",
       "      <td>202.85</td>\n",
       "      <td>203.8400</td>\n",
       "      <td>202.5471</td>\n",
       "      <td>203.0900</td>\n",
       "      <td>78448484</td>\n",
       "    </tr>\n",
       "    <tr>\n",
       "      <th>...</th>\n",
       "      <td>...</td>\n",
       "      <td>...</td>\n",
       "      <td>...</td>\n",
       "      <td>...</td>\n",
       "      <td>...</td>\n",
       "    </tr>\n",
       "    <tr>\n",
       "      <th>2020-12-11 01:00:00</th>\n",
       "      <td>364.90</td>\n",
       "      <td>366.7402</td>\n",
       "      <td>363.2600</td>\n",
       "      <td>366.3000</td>\n",
       "      <td>57698614</td>\n",
       "    </tr>\n",
       "    <tr>\n",
       "      <th>2020-12-14 01:00:00</th>\n",
       "      <td>368.64</td>\n",
       "      <td>369.8000</td>\n",
       "      <td>364.4700</td>\n",
       "      <td>364.6600</td>\n",
       "      <td>69216174</td>\n",
       "    </tr>\n",
       "    <tr>\n",
       "      <th>2020-12-15 01:00:00</th>\n",
       "      <td>367.40</td>\n",
       "      <td>369.5900</td>\n",
       "      <td>365.9200</td>\n",
       "      <td>369.5900</td>\n",
       "      <td>64071099</td>\n",
       "    </tr>\n",
       "    <tr>\n",
       "      <th>2020-12-16 01:00:00</th>\n",
       "      <td>369.82</td>\n",
       "      <td>371.1600</td>\n",
       "      <td>368.8676</td>\n",
       "      <td>370.1700</td>\n",
       "      <td>58420517</td>\n",
       "    </tr>\n",
       "    <tr>\n",
       "      <th>2020-12-17 00:00:00</th>\n",
       "      <td>371.94</td>\n",
       "      <td>372.4600</td>\n",
       "      <td>371.3500</td>\n",
       "      <td>371.7999</td>\n",
       "      <td>10058579</td>\n",
       "    </tr>\n",
       "  </tbody>\n",
       "</table>\n",
       "<p>1305 rows × 5 columns</p>\n",
       "</div>"
      ],
      "text/plain": [
       "                       open      high       low     close     volume\n",
       "datetime                                                            \n",
       "2015-10-14 01:00:00  200.18  200.8700  198.9400  199.2900   99106161\n",
       "2015-10-15 01:00:00  200.08  202.3600  199.6400  202.3500  134142195\n",
       "2015-10-16 01:00:00  202.83  203.2900  201.9200  203.2700  114580052\n",
       "2015-10-19 01:00:00  202.50  203.3700  202.1300  203.3700   76523897\n",
       "2015-10-20 01:00:00  202.85  203.8400  202.5471  203.0900   78448484\n",
       "...                     ...       ...       ...       ...        ...\n",
       "2020-12-11 01:00:00  364.90  366.7402  363.2600  366.3000   57698614\n",
       "2020-12-14 01:00:00  368.64  369.8000  364.4700  364.6600   69216174\n",
       "2020-12-15 01:00:00  367.40  369.5900  365.9200  369.5900   64071099\n",
       "2020-12-16 01:00:00  369.82  371.1600  368.8676  370.1700   58420517\n",
       "2020-12-17 00:00:00  371.94  372.4600  371.3500  371.7999   10058579\n",
       "\n",
       "[1305 rows x 5 columns]"
      ]
     },
     "execution_count": 176,
     "metadata": {},
     "output_type": "execute_result"
    }
   ],
   "source": [
    "stock_df"
   ]
  },
  {
   "cell_type": "markdown",
   "metadata": {},
   "source": [
    "## Moving Average Crossovers"
   ]
  },
  {
   "cell_type": "code",
   "execution_count": 239,
   "metadata": {
    "scrolled": true
   },
   "outputs": [
    {
     "data": {
      "text/html": [
       "<div>\n",
       "<style scoped>\n",
       "    .dataframe tbody tr th:only-of-type {\n",
       "        vertical-align: middle;\n",
       "    }\n",
       "\n",
       "    .dataframe tbody tr th {\n",
       "        vertical-align: top;\n",
       "    }\n",
       "\n",
       "    .dataframe thead th {\n",
       "        text-align: right;\n",
       "    }\n",
       "</style>\n",
       "<table border=\"1\" class=\"dataframe\">\n",
       "  <thead>\n",
       "    <tr style=\"text-align: right;\">\n",
       "      <th></th>\n",
       "      <th>close</th>\n",
       "      <th>10_rolling_mean</th>\n",
       "      <th>50_rolling_mean</th>\n",
       "      <th>signal</th>\n",
       "      <th>position</th>\n",
       "    </tr>\n",
       "    <tr>\n",
       "      <th>datetime</th>\n",
       "      <th></th>\n",
       "      <th></th>\n",
       "      <th></th>\n",
       "      <th></th>\n",
       "      <th></th>\n",
       "    </tr>\n",
       "  </thead>\n",
       "  <tbody>\n",
       "    <tr>\n",
       "      <th>2015-12-23 01:00:00</th>\n",
       "      <td>206.0200</td>\n",
       "      <td>203.97824</td>\n",
       "      <td>206.550624</td>\n",
       "      <td>0</td>\n",
       "      <td>NaN</td>\n",
       "    </tr>\n",
       "    <tr>\n",
       "      <th>2015-12-24 01:00:00</th>\n",
       "      <td>205.6800</td>\n",
       "      <td>203.95924</td>\n",
       "      <td>206.678424</td>\n",
       "      <td>0</td>\n",
       "      <td>0.0</td>\n",
       "    </tr>\n",
       "    <tr>\n",
       "      <th>2015-12-28 01:00:00</th>\n",
       "      <td>205.2100</td>\n",
       "      <td>204.29224</td>\n",
       "      <td>206.735624</td>\n",
       "      <td>0</td>\n",
       "      <td>0.0</td>\n",
       "    </tr>\n",
       "    <tr>\n",
       "      <th>2015-12-29 01:00:00</th>\n",
       "      <td>207.4000</td>\n",
       "      <td>204.74216</td>\n",
       "      <td>206.818224</td>\n",
       "      <td>0</td>\n",
       "      <td>0.0</td>\n",
       "    </tr>\n",
       "    <tr>\n",
       "      <th>2015-12-30 01:00:00</th>\n",
       "      <td>205.9300</td>\n",
       "      <td>204.83208</td>\n",
       "      <td>206.869424</td>\n",
       "      <td>0</td>\n",
       "      <td>0.0</td>\n",
       "    </tr>\n",
       "    <tr>\n",
       "      <th>2015-12-31 01:00:00</th>\n",
       "      <td>203.8700</td>\n",
       "      <td>204.41608</td>\n",
       "      <td>206.885024</td>\n",
       "      <td>0</td>\n",
       "      <td>0.0</td>\n",
       "    </tr>\n",
       "    <tr>\n",
       "      <th>2016-01-04 01:00:00</th>\n",
       "      <td>201.0192</td>\n",
       "      <td>204.03200</td>\n",
       "      <td>206.868408</td>\n",
       "      <td>0</td>\n",
       "      <td>0.0</td>\n",
       "    </tr>\n",
       "    <tr>\n",
       "      <th>2016-01-05 01:00:00</th>\n",
       "      <td>201.3600</td>\n",
       "      <td>204.16592</td>\n",
       "      <td>206.790408</td>\n",
       "      <td>0</td>\n",
       "      <td>0.0</td>\n",
       "    </tr>\n",
       "    <tr>\n",
       "      <th>2016-01-06 01:00:00</th>\n",
       "      <td>198.8200</td>\n",
       "      <td>203.88092</td>\n",
       "      <td>206.616608</td>\n",
       "      <td>0</td>\n",
       "      <td>0.0</td>\n",
       "    </tr>\n",
       "    <tr>\n",
       "      <th>2016-01-07 01:00:00</th>\n",
       "      <td>194.0500</td>\n",
       "      <td>202.93592</td>\n",
       "      <td>206.357608</td>\n",
       "      <td>0</td>\n",
       "      <td>0.0</td>\n",
       "    </tr>\n",
       "    <tr>\n",
       "      <th>2016-01-08 01:00:00</th>\n",
       "      <td>191.9230</td>\n",
       "      <td>201.52622</td>\n",
       "      <td>206.064068</td>\n",
       "      <td>0</td>\n",
       "      <td>0.0</td>\n",
       "    </tr>\n",
       "    <tr>\n",
       "      <th>2016-01-11 01:00:00</th>\n",
       "      <td>192.1100</td>\n",
       "      <td>200.16922</td>\n",
       "      <td>205.727268</td>\n",
       "      <td>0</td>\n",
       "      <td>0.0</td>\n",
       "    </tr>\n",
       "    <tr>\n",
       "      <th>2016-01-12 01:00:00</th>\n",
       "      <td>193.6608</td>\n",
       "      <td>199.01430</td>\n",
       "      <td>205.423884</td>\n",
       "      <td>0</td>\n",
       "      <td>0.0</td>\n",
       "    </tr>\n",
       "    <tr>\n",
       "      <th>2016-01-13 01:00:00</th>\n",
       "      <td>188.8300</td>\n",
       "      <td>197.15730</td>\n",
       "      <td>205.041884</td>\n",
       "      <td>0</td>\n",
       "      <td>0.0</td>\n",
       "    </tr>\n",
       "    <tr>\n",
       "      <th>2016-01-14 01:00:00</th>\n",
       "      <td>191.8800</td>\n",
       "      <td>195.75230</td>\n",
       "      <td>204.671684</td>\n",
       "      <td>0</td>\n",
       "      <td>0.0</td>\n",
       "    </tr>\n",
       "    <tr>\n",
       "      <th>2016-01-15 01:00:00</th>\n",
       "      <td>187.8100</td>\n",
       "      <td>194.14630</td>\n",
       "      <td>204.207884</td>\n",
       "      <td>0</td>\n",
       "      <td>0.0</td>\n",
       "    </tr>\n",
       "    <tr>\n",
       "      <th>2016-01-19 01:00:00</th>\n",
       "      <td>188.0600</td>\n",
       "      <td>192.85038</td>\n",
       "      <td>203.761884</td>\n",
       "      <td>0</td>\n",
       "      <td>0.0</td>\n",
       "    </tr>\n",
       "    <tr>\n",
       "      <th>2016-01-20 01:00:00</th>\n",
       "      <td>185.6500</td>\n",
       "      <td>191.27938</td>\n",
       "      <td>203.271884</td>\n",
       "      <td>0</td>\n",
       "      <td>0.0</td>\n",
       "    </tr>\n",
       "    <tr>\n",
       "      <th>2016-01-21 01:00:00</th>\n",
       "      <td>186.6900</td>\n",
       "      <td>190.06638</td>\n",
       "      <td>202.804884</td>\n",
       "      <td>0</td>\n",
       "      <td>0.0</td>\n",
       "    </tr>\n",
       "    <tr>\n",
       "      <th>2016-01-22 01:00:00</th>\n",
       "      <td>190.5200</td>\n",
       "      <td>189.71338</td>\n",
       "      <td>202.453684</td>\n",
       "      <td>0</td>\n",
       "      <td>0.0</td>\n",
       "    </tr>\n",
       "    <tr>\n",
       "      <th>2016-01-25 01:00:00</th>\n",
       "      <td>187.6400</td>\n",
       "      <td>189.28508</td>\n",
       "      <td>202.035284</td>\n",
       "      <td>0</td>\n",
       "      <td>0.0</td>\n",
       "    </tr>\n",
       "    <tr>\n",
       "      <th>2016-01-26 01:00:00</th>\n",
       "      <td>190.2000</td>\n",
       "      <td>189.09408</td>\n",
       "      <td>201.684484</td>\n",
       "      <td>0</td>\n",
       "      <td>0.0</td>\n",
       "    </tr>\n",
       "    <tr>\n",
       "      <th>2016-01-27 01:00:00</th>\n",
       "      <td>188.1300</td>\n",
       "      <td>188.54100</td>\n",
       "      <td>201.350284</td>\n",
       "      <td>0</td>\n",
       "      <td>0.0</td>\n",
       "    </tr>\n",
       "    <tr>\n",
       "      <th>2016-01-28 01:00:00</th>\n",
       "      <td>189.1100</td>\n",
       "      <td>188.56900</td>\n",
       "      <td>201.081684</td>\n",
       "      <td>0</td>\n",
       "      <td>0.0</td>\n",
       "    </tr>\n",
       "    <tr>\n",
       "      <th>2016-01-29 01:00:00</th>\n",
       "      <td>193.7208</td>\n",
       "      <td>188.75308</td>\n",
       "      <td>200.843700</td>\n",
       "      <td>0</td>\n",
       "      <td>0.0</td>\n",
       "    </tr>\n",
       "    <tr>\n",
       "      <th>2016-02-01 01:00:00</th>\n",
       "      <td>193.6500</td>\n",
       "      <td>189.33708</td>\n",
       "      <td>200.607300</td>\n",
       "      <td>0</td>\n",
       "      <td>0.0</td>\n",
       "    </tr>\n",
       "    <tr>\n",
       "      <th>2016-02-02 01:00:00</th>\n",
       "      <td>190.1600</td>\n",
       "      <td>189.54708</td>\n",
       "      <td>200.235900</td>\n",
       "      <td>0</td>\n",
       "      <td>0.0</td>\n",
       "    </tr>\n",
       "    <tr>\n",
       "      <th>2016-02-03 01:00:00</th>\n",
       "      <td>191.3000</td>\n",
       "      <td>190.11208</td>\n",
       "      <td>199.890900</td>\n",
       "      <td>0</td>\n",
       "      <td>0.0</td>\n",
       "    </tr>\n",
       "    <tr>\n",
       "      <th>2016-02-04 01:00:00</th>\n",
       "      <td>191.6000</td>\n",
       "      <td>190.60308</td>\n",
       "      <td>199.536684</td>\n",
       "      <td>0</td>\n",
       "      <td>0.0</td>\n",
       "    </tr>\n",
       "    <tr>\n",
       "      <th>2016-02-05 01:00:00</th>\n",
       "      <td>187.9500</td>\n",
       "      <td>190.34608</td>\n",
       "      <td>199.114284</td>\n",
       "      <td>0</td>\n",
       "      <td>0.0</td>\n",
       "    </tr>\n",
       "    <tr>\n",
       "      <th>2016-02-08 01:00:00</th>\n",
       "      <td>185.4200</td>\n",
       "      <td>190.12408</td>\n",
       "      <td>198.635684</td>\n",
       "      <td>0</td>\n",
       "      <td>0.0</td>\n",
       "    </tr>\n",
       "    <tr>\n",
       "      <th>2016-02-09 01:00:00</th>\n",
       "      <td>185.4300</td>\n",
       "      <td>189.64708</td>\n",
       "      <td>198.157884</td>\n",
       "      <td>0</td>\n",
       "      <td>0.0</td>\n",
       "    </tr>\n",
       "    <tr>\n",
       "      <th>2016-02-10 01:00:00</th>\n",
       "      <td>185.2700</td>\n",
       "      <td>189.36108</td>\n",
       "      <td>197.672084</td>\n",
       "      <td>0</td>\n",
       "      <td>0.0</td>\n",
       "    </tr>\n",
       "    <tr>\n",
       "      <th>2016-02-11 01:00:00</th>\n",
       "      <td>182.8600</td>\n",
       "      <td>188.73608</td>\n",
       "      <td>197.155484</td>\n",
       "      <td>0</td>\n",
       "      <td>0.0</td>\n",
       "    </tr>\n",
       "    <tr>\n",
       "      <th>2016-02-12 01:00:00</th>\n",
       "      <td>186.6300</td>\n",
       "      <td>188.02700</td>\n",
       "      <td>196.674484</td>\n",
       "      <td>0</td>\n",
       "      <td>0.0</td>\n",
       "    </tr>\n",
       "    <tr>\n",
       "      <th>2016-02-16 01:00:00</th>\n",
       "      <td>189.7800</td>\n",
       "      <td>187.64000</td>\n",
       "      <td>196.299504</td>\n",
       "      <td>0</td>\n",
       "      <td>0.0</td>\n",
       "    </tr>\n",
       "    <tr>\n",
       "      <th>2016-02-17 01:00:00</th>\n",
       "      <td>192.8800</td>\n",
       "      <td>187.91200</td>\n",
       "      <td>196.044904</td>\n",
       "      <td>0</td>\n",
       "      <td>0.0</td>\n",
       "    </tr>\n",
       "    <tr>\n",
       "      <th>2016-02-18 01:00:00</th>\n",
       "      <td>192.0900</td>\n",
       "      <td>187.99100</td>\n",
       "      <td>195.694304</td>\n",
       "      <td>0</td>\n",
       "      <td>0.0</td>\n",
       "    </tr>\n",
       "    <tr>\n",
       "      <th>2016-02-19 01:00:00</th>\n",
       "      <td>192.0000</td>\n",
       "      <td>188.03100</td>\n",
       "      <td>195.367304</td>\n",
       "      <td>0</td>\n",
       "      <td>0.0</td>\n",
       "    </tr>\n",
       "    <tr>\n",
       "      <th>2016-02-22 01:00:00</th>\n",
       "      <td>194.7800</td>\n",
       "      <td>188.71400</td>\n",
       "      <td>195.123924</td>\n",
       "      <td>0</td>\n",
       "      <td>0.0</td>\n",
       "    </tr>\n",
       "    <tr>\n",
       "      <th>2016-02-23 01:00:00</th>\n",
       "      <td>192.3200</td>\n",
       "      <td>189.40400</td>\n",
       "      <td>194.863524</td>\n",
       "      <td>0</td>\n",
       "      <td>0.0</td>\n",
       "    </tr>\n",
       "    <tr>\n",
       "      <th>2016-02-24 01:00:00</th>\n",
       "      <td>193.2000</td>\n",
       "      <td>190.18100</td>\n",
       "      <td>194.610124</td>\n",
       "      <td>0</td>\n",
       "      <td>0.0</td>\n",
       "    </tr>\n",
       "    <tr>\n",
       "      <th>2016-02-25 01:00:00</th>\n",
       "      <td>195.5400</td>\n",
       "      <td>191.20800</td>\n",
       "      <td>194.483324</td>\n",
       "      <td>0</td>\n",
       "      <td>0.0</td>\n",
       "    </tr>\n",
       "    <tr>\n",
       "      <th>2016-02-26 01:00:00</th>\n",
       "      <td>195.0892</td>\n",
       "      <td>192.43092</td>\n",
       "      <td>194.327092</td>\n",
       "      <td>0</td>\n",
       "      <td>0.0</td>\n",
       "    </tr>\n",
       "    <tr>\n",
       "      <th>2016-02-29 01:00:00</th>\n",
       "      <td>193.5600</td>\n",
       "      <td>193.12392</td>\n",
       "      <td>194.097676</td>\n",
       "      <td>0</td>\n",
       "      <td>0.0</td>\n",
       "    </tr>\n",
       "    <tr>\n",
       "      <th>2016-03-01 01:00:00</th>\n",
       "      <td>198.1100</td>\n",
       "      <td>193.95692</td>\n",
       "      <td>193.899276</td>\n",
       "      <td>1</td>\n",
       "      <td>1.0</td>\n",
       "    </tr>\n",
       "    <tr>\n",
       "      <th>2016-03-02 01:00:00</th>\n",
       "      <td>199.0000</td>\n",
       "      <td>194.56892</td>\n",
       "      <td>193.782076</td>\n",
       "      <td>1</td>\n",
       "      <td>0.0</td>\n",
       "    </tr>\n",
       "    <tr>\n",
       "      <th>2016-03-03 01:00:00</th>\n",
       "      <td>199.7750</td>\n",
       "      <td>195.33742</td>\n",
       "      <td>193.777160</td>\n",
       "      <td>1</td>\n",
       "      <td>0.0</td>\n",
       "    </tr>\n",
       "    <tr>\n",
       "      <th>2016-03-04 01:00:00</th>\n",
       "      <td>200.4300</td>\n",
       "      <td>196.18042</td>\n",
       "      <td>193.752360</td>\n",
       "      <td>1</td>\n",
       "      <td>0.0</td>\n",
       "    </tr>\n",
       "    <tr>\n",
       "      <th>2016-03-07 01:00:00</th>\n",
       "      <td>200.5900</td>\n",
       "      <td>196.76142</td>\n",
       "      <td>193.694160</td>\n",
       "      <td>1</td>\n",
       "      <td>0.0</td>\n",
       "    </tr>\n",
       "  </tbody>\n",
       "</table>\n",
       "</div>"
      ],
      "text/plain": [
       "                        close  10_rolling_mean  50_rolling_mean  signal  \\\n",
       "datetime                                                                  \n",
       "2015-12-23 01:00:00  206.0200        203.97824       206.550624       0   \n",
       "2015-12-24 01:00:00  205.6800        203.95924       206.678424       0   \n",
       "2015-12-28 01:00:00  205.2100        204.29224       206.735624       0   \n",
       "2015-12-29 01:00:00  207.4000        204.74216       206.818224       0   \n",
       "2015-12-30 01:00:00  205.9300        204.83208       206.869424       0   \n",
       "2015-12-31 01:00:00  203.8700        204.41608       206.885024       0   \n",
       "2016-01-04 01:00:00  201.0192        204.03200       206.868408       0   \n",
       "2016-01-05 01:00:00  201.3600        204.16592       206.790408       0   \n",
       "2016-01-06 01:00:00  198.8200        203.88092       206.616608       0   \n",
       "2016-01-07 01:00:00  194.0500        202.93592       206.357608       0   \n",
       "2016-01-08 01:00:00  191.9230        201.52622       206.064068       0   \n",
       "2016-01-11 01:00:00  192.1100        200.16922       205.727268       0   \n",
       "2016-01-12 01:00:00  193.6608        199.01430       205.423884       0   \n",
       "2016-01-13 01:00:00  188.8300        197.15730       205.041884       0   \n",
       "2016-01-14 01:00:00  191.8800        195.75230       204.671684       0   \n",
       "2016-01-15 01:00:00  187.8100        194.14630       204.207884       0   \n",
       "2016-01-19 01:00:00  188.0600        192.85038       203.761884       0   \n",
       "2016-01-20 01:00:00  185.6500        191.27938       203.271884       0   \n",
       "2016-01-21 01:00:00  186.6900        190.06638       202.804884       0   \n",
       "2016-01-22 01:00:00  190.5200        189.71338       202.453684       0   \n",
       "2016-01-25 01:00:00  187.6400        189.28508       202.035284       0   \n",
       "2016-01-26 01:00:00  190.2000        189.09408       201.684484       0   \n",
       "2016-01-27 01:00:00  188.1300        188.54100       201.350284       0   \n",
       "2016-01-28 01:00:00  189.1100        188.56900       201.081684       0   \n",
       "2016-01-29 01:00:00  193.7208        188.75308       200.843700       0   \n",
       "2016-02-01 01:00:00  193.6500        189.33708       200.607300       0   \n",
       "2016-02-02 01:00:00  190.1600        189.54708       200.235900       0   \n",
       "2016-02-03 01:00:00  191.3000        190.11208       199.890900       0   \n",
       "2016-02-04 01:00:00  191.6000        190.60308       199.536684       0   \n",
       "2016-02-05 01:00:00  187.9500        190.34608       199.114284       0   \n",
       "2016-02-08 01:00:00  185.4200        190.12408       198.635684       0   \n",
       "2016-02-09 01:00:00  185.4300        189.64708       198.157884       0   \n",
       "2016-02-10 01:00:00  185.2700        189.36108       197.672084       0   \n",
       "2016-02-11 01:00:00  182.8600        188.73608       197.155484       0   \n",
       "2016-02-12 01:00:00  186.6300        188.02700       196.674484       0   \n",
       "2016-02-16 01:00:00  189.7800        187.64000       196.299504       0   \n",
       "2016-02-17 01:00:00  192.8800        187.91200       196.044904       0   \n",
       "2016-02-18 01:00:00  192.0900        187.99100       195.694304       0   \n",
       "2016-02-19 01:00:00  192.0000        188.03100       195.367304       0   \n",
       "2016-02-22 01:00:00  194.7800        188.71400       195.123924       0   \n",
       "2016-02-23 01:00:00  192.3200        189.40400       194.863524       0   \n",
       "2016-02-24 01:00:00  193.2000        190.18100       194.610124       0   \n",
       "2016-02-25 01:00:00  195.5400        191.20800       194.483324       0   \n",
       "2016-02-26 01:00:00  195.0892        192.43092       194.327092       0   \n",
       "2016-02-29 01:00:00  193.5600        193.12392       194.097676       0   \n",
       "2016-03-01 01:00:00  198.1100        193.95692       193.899276       1   \n",
       "2016-03-02 01:00:00  199.0000        194.56892       193.782076       1   \n",
       "2016-03-03 01:00:00  199.7750        195.33742       193.777160       1   \n",
       "2016-03-04 01:00:00  200.4300        196.18042       193.752360       1   \n",
       "2016-03-07 01:00:00  200.5900        196.76142       193.694160       1   \n",
       "\n",
       "                     position  \n",
       "datetime                       \n",
       "2015-12-23 01:00:00       NaN  \n",
       "2015-12-24 01:00:00       0.0  \n",
       "2015-12-28 01:00:00       0.0  \n",
       "2015-12-29 01:00:00       0.0  \n",
       "2015-12-30 01:00:00       0.0  \n",
       "2015-12-31 01:00:00       0.0  \n",
       "2016-01-04 01:00:00       0.0  \n",
       "2016-01-05 01:00:00       0.0  \n",
       "2016-01-06 01:00:00       0.0  \n",
       "2016-01-07 01:00:00       0.0  \n",
       "2016-01-08 01:00:00       0.0  \n",
       "2016-01-11 01:00:00       0.0  \n",
       "2016-01-12 01:00:00       0.0  \n",
       "2016-01-13 01:00:00       0.0  \n",
       "2016-01-14 01:00:00       0.0  \n",
       "2016-01-15 01:00:00       0.0  \n",
       "2016-01-19 01:00:00       0.0  \n",
       "2016-01-20 01:00:00       0.0  \n",
       "2016-01-21 01:00:00       0.0  \n",
       "2016-01-22 01:00:00       0.0  \n",
       "2016-01-25 01:00:00       0.0  \n",
       "2016-01-26 01:00:00       0.0  \n",
       "2016-01-27 01:00:00       0.0  \n",
       "2016-01-28 01:00:00       0.0  \n",
       "2016-01-29 01:00:00       0.0  \n",
       "2016-02-01 01:00:00       0.0  \n",
       "2016-02-02 01:00:00       0.0  \n",
       "2016-02-03 01:00:00       0.0  \n",
       "2016-02-04 01:00:00       0.0  \n",
       "2016-02-05 01:00:00       0.0  \n",
       "2016-02-08 01:00:00       0.0  \n",
       "2016-02-09 01:00:00       0.0  \n",
       "2016-02-10 01:00:00       0.0  \n",
       "2016-02-11 01:00:00       0.0  \n",
       "2016-02-12 01:00:00       0.0  \n",
       "2016-02-16 01:00:00       0.0  \n",
       "2016-02-17 01:00:00       0.0  \n",
       "2016-02-18 01:00:00       0.0  \n",
       "2016-02-19 01:00:00       0.0  \n",
       "2016-02-22 01:00:00       0.0  \n",
       "2016-02-23 01:00:00       0.0  \n",
       "2016-02-24 01:00:00       0.0  \n",
       "2016-02-25 01:00:00       0.0  \n",
       "2016-02-26 01:00:00       0.0  \n",
       "2016-02-29 01:00:00       0.0  \n",
       "2016-03-01 01:00:00       1.0  \n",
       "2016-03-02 01:00:00       0.0  \n",
       "2016-03-03 01:00:00       0.0  \n",
       "2016-03-04 01:00:00       0.0  \n",
       "2016-03-07 01:00:00       0.0  "
      ]
     },
     "execution_count": 239,
     "metadata": {},
     "output_type": "execute_result"
    }
   ],
   "source": [
    "test_data_df = stock_df.close\n",
    "rolling_days = [10, 50]\n",
    "concatdf_list = [test_data_df]\n",
    "\n",
    "for days in rolling_days:\n",
    "    r_mean = test_data_df.rolling(days).mean()\n",
    "    r_mean.name = f\"{days}_rolling_mean\"\n",
    "    concatdf_list.append(r_mean)\n",
    "\n",
    "test_data_df = pd.concat(concatdf_list, axis=1)\n",
    "test_data_df.dropna(inplace=True)\n",
    "test_data_df[\"signal\"] = np.where(test_data_df[\"10_rolling_mean\"] > test_data_df[\"50_rolling_mean\"], 1, 0)\n",
    "test_data_df[\"position\"] = test_data_df[\"signal\"].diff()\n",
    "\n",
    "test_data_df.head(50)\n",
    "\n",
    "\n",
    "\n",
    "# r_10_mean = test_data_df.rolling(first_rolling_days).mean()\n",
    "# r_10_mean.name = f\"{first_rolling_days}_day_rolling_mean\"\n",
    "\n",
    "# r_50_mean = test_data_df.rolling(second_rolling_days).mean()\n",
    "# r_50_mean.name = f\"{second_rolling_days}_day_rolling_mean\"\n",
    "\n",
    "# test_data_df = pd.concat([test_data_df, r_10_mean, r_50_mean], axis=1)\n",
    "# test_data_df.head(50)"
   ]
  },
  {
   "cell_type": "code",
   "execution_count": 244,
   "metadata": {
    "scrolled": false
   },
   "outputs": [
    {
     "data": {
      "text/plain": [
       "<matplotlib.legend.Legend at 0x7f9c7f12fc18>"
      ]
     },
     "execution_count": 244,
     "metadata": {},
     "output_type": "execute_result"
    },
    {
     "data": {
      "image/png": "[encoded data removed]",
      "text/plain": [
       "<Figure size 864x576 with 1 Axes>"
      ]
     },
     "metadata": {
      "needs_background": "light"
     },
     "output_type": "display_data"
    }
   ],
   "source": [
    "fig, ax = plt.subplots(figsize=(12,8))\n",
    "\n",
    "ax.plot(test_data_df.close, label=\"daily\")\n",
    "ax.plot(test_data_df[\"10_rolling_mean\"], label=\"10_day\")\n",
    "ax.plot(test_data_df[\"50_rolling_mean\"], label=\"50_day\")\n",
    "plt.legend()"
   ]
  },
  {
   "cell_type": "code",
   "execution_count": null,
   "metadata": {},
   "outputs": [],
   "source": []
  },
  {
   "cell_type": "code",
   "execution_count": null,
   "metadata": {},
   "outputs": [],
   "source": []
  },
  {
   "cell_type": "markdown",
   "metadata": {},
   "source": [
    "## Auto GridSearch ARIMA"
   ]
  },
  {
   "cell_type": "code",
   "execution_count": null,
   "metadata": {},
   "outputs": [],
   "source": [
    "def GridSearch_ARIMA(data, column, start, train_length, forecast_length, p_max, q_max, r_max):\n",
    "    clean_data = data[column][start:].iloc[:(train_length+forecast_length)]\n",
    "    true_data = clean_data[train_length:] #get y_true\n",
    "    train_data = clean_data[:train_length] #set training data\n",
    "    \n",
    "    order_list = permutate_list(p_max, q_max, r_max)\n",
    "    \n",
    "    for order in order_list:\n",
    "        model = ARIMA(train_data, order=order)\n",
    "        results = model.fit()\n",
    "        prediction = results.forecast(forecast_length)\n"
   ]
  },
  {
   "cell_type": "code",
   "execution_count": 142,
   "metadata": {},
   "outputs": [],
   "source": [
    "def permutate_orders(p, d, q):\n",
    "    p_list = range(0, p)\n",
    "    d_list = range(0, d)\n",
    "    q_list = range(0, q)\n",
    "    permutate_list = []\n",
    "    \n",
    "    for p_val in p_list:\n",
    "        for d_val in d_list:\n",
    "            for q_val in q_list:\n",
    "                permutate_list.append((p_val, d_val, q_val))\n",
    "                \n",
    "    return permutate_list"
   ]
  },
  {
   "cell_type": "code",
   "execution_count": null,
   "metadata": {},
   "outputs": [],
   "source": []
  },
  {
   "cell_type": "code",
   "execution_count": null,
   "metadata": {},
   "outputs": [],
   "source": []
  },
  {
   "cell_type": "code",
   "execution_count": null,
   "metadata": {},
   "outputs": [],
   "source": []
  },
  {
   "cell_type": "code",
   "execution_count": 113,
   "metadata": {},
   "outputs": [],
   "source": [
    "# Create a function that builds and plots ARIMA\n",
    "\n",
    "def ARIMA_visualize(data, column, start, train_length, forecast_length, order=(1,0,0)):\n",
    "    clean_data = data[column][start:].iloc[:(train_length+forecast_length)] #reformat input data\n",
    "    true_data = clean_data[train_length:] #get y_true\n",
    "    train_data = clean_data[:train_length] #set training data\n",
    "    \n",
    "    model = ARIMA(train_data, order=order)\n",
    "    results = model.fit()\n",
    "    prediction = results.forecast(forecast_length)\n",
    "    \n",
    "    fig, ax = plt.subplots(figsize=(12,8))\n",
    "    ax.plot(clean_data.reset_index()[\"close\"])\n",
    "    ax.plot(results.fittedvalues.reset_index()[0][5:])\n",
    "    ax.plot(prediction)\n",
    "    \n",
    "    return prediction"
   ]
  },
  {
   "cell_type": "code",
   "execution_count": 121,
   "metadata": {
    "scrolled": false
   },
   "outputs": [
    {
     "data": {
      "text/plain": [
       "25    277.810898\n",
       "26    277.355400\n",
       "27    279.537982\n",
       "28    281.469311\n",
       "29    280.907899\n",
       "dtype: float64"
      ]
     },
     "execution_count": 121,
     "metadata": {},
     "output_type": "execute_result"
    },
    {
     "data": {
      "image/png": "[encoded data removed]",
      "text/plain": [
       "<Figure size 864x576 with 1 Axes>"
      ]
     },
     "metadata": {
      "needs_background": "light"
     },
     "output_type": "display_data"
    }
   ],
   "source": [
    "ARIMA_visualize(stock_df, \"close\", \"2019-01-14\", 25, 5, order=(6,4,3))"
   ]
  },
  {
   "cell_type": "code",
   "execution_count": 115,
   "metadata": {},
   "outputs": [],
   "source": [
    "# Create a function that builds and plots ARIMA\n",
    "\n",
    "def ARIMA_log_visualize(data, column, start, train_length, forecast_length, order=(1,0,0)):\n",
    "    clean_data = data[column][start:].iloc[:(train_length+forecast_length)] #reformat input data\n",
    "    clean_data = np.log(clean_data)\n",
    "    true_data = clean_data[train_length:] #get y_true\n",
    "    train_data = clean_data[:train_length] #set training data\n",
    "    \n",
    "    model = ARIMA(train_data, order=order)\n",
    "    results = model.fit()\n",
    "    prediction = results.forecast(forecast_length)\n",
    "    \n",
    "    fig, ax = plt.subplots(figsize=(12,8))\n",
    "    ax.plot(clean_data.reset_index()[\"close\"])\n",
    "    ax.plot(results.fittedvalues.reset_index()[0][5:])\n",
    "    ax.plot(prediction)\n",
    "    \n",
    "    return prediction"
   ]
  },
  {
   "cell_type": "code",
   "execution_count": 116,
   "metadata": {},
   "outputs": [
    {
     "data": {
      "text/plain": [
       "25    5.629425\n",
       "26    5.633314\n",
       "27    5.635990\n",
       "28    5.639284\n",
       "29    5.642333\n",
       "dtype: float64"
      ]
     },
     "execution_count": 116,
     "metadata": {},
     "output_type": "execute_result"
    },
    {
     "data": {
      "image/png": "[encoded data removed]",
      "text/plain": [
       "<Figure size 864x576 with 1 Axes>"
      ]
     },
     "metadata": {
      "needs_background": "light"
     },
     "output_type": "display_data"
    }
   ],
   "source": [
    "ARIMA_log_visualize(stock_df, \"close\", \"2019-01-14\", 25, 5, order=(2,2,2))"
   ]
  },
  {
   "cell_type": "code",
   "execution_count": 96,
   "metadata": {},
   "outputs": [
    {
     "data": {
      "text/plain": [
       "1"
      ]
     },
     "execution_count": 96,
     "metadata": {},
     "output_type": "execute_result"
    }
   ],
   "source": [
    "p"
   ]
  },
  {
   "cell_type": "code",
   "execution_count": 172,
   "metadata": {
    "scrolled": true
   },
   "outputs": [
    {
     "data": {
      "text/plain": [
       "[<matplotlib.lines.Line2D at 0x7f9cbfc7c240>]"
      ]
     },
     "execution_count": 172,
     "metadata": {},
     "output_type": "execute_result"
    },
    {
     "data": {
      "image/png": "[encoded data removed]",
      "text/plain": [
       "<Figure size 1080x576 with 1 Axes>"
      ]
     },
     "metadata": {
      "needs_background": "light"
     },
     "output_type": "display_data"
    }
   ],
   "source": [
    "# Generate \n",
    "prediction_length = 5\n",
    "\n",
    "test_series = stock_df[\"close\"][:50]\n",
    "test_model = ARIMA(test_series[:-prediction_length], order=(7,3,6))\n",
    "result = test_model.fit()\n",
    "predict = result.forecast(prediction_length)\n",
    "\n",
    "\n",
    "fig, ax = plt.subplots(figsize=(15, 8))\n",
    "plt.plot(test_series.reset_index()[\"close\"])\n",
    "plt.plot(result.fittedvalues.reset_index()[0][5:])\n",
    "plt.plot(predict, color=\"red\")\n"
   ]
  },
  {
   "cell_type": "code",
   "execution_count": 162,
   "metadata": {},
   "outputs": [
    {
     "data": {
      "text/html": [
       "<table class=\"simpletable\">\n",
       "<caption>SARIMAX Results</caption>\n",
       "<tr>\n",
       "  <th>Dep. Variable:</th>         <td>close</td>      <th>  No. Observations:  </th>    <td>245</td>  \n",
       "</tr>\n",
       "<tr>\n",
       "  <th>Model:</th>            <td>ARIMA(7, 3, 6)</td>  <th>  Log Likelihood     </th> <td>-537.610</td>\n",
       "</tr>\n",
       "<tr>\n",
       "  <th>Date:</th>            <td>Mon, 21 Dec 2020</td> <th>  AIC                </th> <td>1103.220</td>\n",
       "</tr>\n",
       "<tr>\n",
       "  <th>Time:</th>                <td>13:05:30</td>     <th>  BIC                </th> <td>1152.065</td>\n",
       "</tr>\n",
       "<tr>\n",
       "  <th>Sample:</th>                  <td>0</td>        <th>  HQIC               </th> <td>1122.897</td>\n",
       "</tr>\n",
       "<tr>\n",
       "  <th></th>                      <td> - 245</td>      <th>                     </th>     <td> </td>   \n",
       "</tr>\n",
       "<tr>\n",
       "  <th>Covariance Type:</th>        <td>opg</td>       <th>                     </th>     <td> </td>   \n",
       "</tr>\n",
       "</table>\n",
       "<table class=\"simpletable\">\n",
       "<tr>\n",
       "     <td></td>       <th>coef</th>     <th>std err</th>      <th>z</th>      <th>P>|z|</th>  <th>[0.025</th>    <th>0.975]</th>  \n",
       "</tr>\n",
       "<tr>\n",
       "  <th>ar.L1</th>  <td>   -1.0892</td> <td>    0.340</td> <td>   -3.201</td> <td> 0.001</td> <td>   -1.756</td> <td>   -0.422</td>\n",
       "</tr>\n",
       "<tr>\n",
       "  <th>ar.L2</th>  <td>   -0.3744</td> <td>    0.185</td> <td>   -2.020</td> <td> 0.043</td> <td>   -0.738</td> <td>   -0.011</td>\n",
       "</tr>\n",
       "<tr>\n",
       "  <th>ar.L3</th>  <td>   -1.0515</td> <td>    0.156</td> <td>   -6.749</td> <td> 0.000</td> <td>   -1.357</td> <td>   -0.746</td>\n",
       "</tr>\n",
       "<tr>\n",
       "  <th>ar.L4</th>  <td>   -1.0555</td> <td>    0.367</td> <td>   -2.879</td> <td> 0.004</td> <td>   -1.774</td> <td>   -0.337</td>\n",
       "</tr>\n",
       "<tr>\n",
       "  <th>ar.L5</th>  <td>   -0.1519</td> <td>    0.109</td> <td>   -1.396</td> <td> 0.163</td> <td>   -0.365</td> <td>    0.061</td>\n",
       "</tr>\n",
       "<tr>\n",
       "  <th>ar.L6</th>  <td>   -0.0934</td> <td>    0.106</td> <td>   -0.878</td> <td> 0.380</td> <td>   -0.302</td> <td>    0.115</td>\n",
       "</tr>\n",
       "<tr>\n",
       "  <th>ar.L7</th>  <td>   -0.0134</td> <td>    0.063</td> <td>   -0.214</td> <td> 0.831</td> <td>   -0.136</td> <td>    0.109</td>\n",
       "</tr>\n",
       "<tr>\n",
       "  <th>ma.L1</th>  <td>   -0.9664</td> <td>    0.532</td> <td>   -1.817</td> <td> 0.069</td> <td>   -2.009</td> <td>    0.076</td>\n",
       "</tr>\n",
       "<tr>\n",
       "  <th>ma.L2</th>  <td>   -0.7815</td> <td>    0.953</td> <td>   -0.820</td> <td> 0.412</td> <td>   -2.648</td> <td>    1.085</td>\n",
       "</tr>\n",
       "<tr>\n",
       "  <th>ma.L3</th>  <td>    1.5056</td> <td>    0.426</td> <td>    3.534</td> <td> 0.000</td> <td>    0.671</td> <td>    2.341</td>\n",
       "</tr>\n",
       "<tr>\n",
       "  <th>ma.L4</th>  <td>   -0.7595</td> <td>    0.696</td> <td>   -1.091</td> <td> 0.275</td> <td>   -2.124</td> <td>    0.605</td>\n",
       "</tr>\n",
       "<tr>\n",
       "  <th>ma.L5</th>  <td>   -0.9679</td> <td>    1.110</td> <td>   -0.872</td> <td> 0.383</td> <td>   -3.144</td> <td>    1.208</td>\n",
       "</tr>\n",
       "<tr>\n",
       "  <th>ma.L6</th>  <td>    0.9744</td> <td>    0.551</td> <td>    1.767</td> <td> 0.077</td> <td>   -0.106</td> <td>    2.055</td>\n",
       "</tr>\n",
       "<tr>\n",
       "  <th>sigma2</th> <td>    4.6065</td> <td>    1.068</td> <td>    4.315</td> <td> 0.000</td> <td>    2.514</td> <td>    6.699</td>\n",
       "</tr>\n",
       "</table>\n",
       "<table class=\"simpletable\">\n",
       "<tr>\n",
       "  <th>Ljung-Box (Q):</th>          <td>47.28</td> <th>  Jarque-Bera (JB):  </th> <td>79.63</td>\n",
       "</tr>\n",
       "<tr>\n",
       "  <th>Prob(Q):</th>                <td>0.20</td>  <th>  Prob(JB):          </th> <td>0.00</td> \n",
       "</tr>\n",
       "<tr>\n",
       "  <th>Heteroskedasticity (H):</th> <td>1.15</td>  <th>  Skew:              </th> <td>-0.78</td>\n",
       "</tr>\n",
       "<tr>\n",
       "  <th>Prob(H) (two-sided):</th>    <td>0.53</td>  <th>  Kurtosis:          </th> <td>5.34</td> \n",
       "</tr>\n",
       "</table><br/><br/>Warnings:<br/>[1] Covariance matrix calculated using the outer product of gradients (complex-step)."
      ],
      "text/plain": [
       "<class 'statsmodels.iolib.summary.Summary'>\n",
       "\"\"\"\n",
       "                               SARIMAX Results                                \n",
       "==============================================================================\n",
       "Dep. Variable:                  close   No. Observations:                  245\n",
       "Model:                 ARIMA(7, 3, 6)   Log Likelihood                -537.610\n",
       "Date:                Mon, 21 Dec 2020   AIC                           1103.220\n",
       "Time:                        13:05:30   BIC                           1152.065\n",
       "Sample:                             0   HQIC                          1122.897\n",
       "                                - 245                                         \n",
       "Covariance Type:                  opg                                         \n",
       "==============================================================================\n",
       "                 coef    std err          z      P>|z|      [0.025      0.975]\n",
       "------------------------------------------------------------------------------\n",
       "ar.L1         -1.0892      0.340     -3.201      0.001      -1.756      -0.422\n",
       "ar.L2         -0.3744      0.185     -2.020      0.043      -0.738      -0.011\n",
       "ar.L3         -1.0515      0.156     -6.749      0.000      -1.357      -0.746\n",
       "ar.L4         -1.0555      0.367     -2.879      0.004      -1.774      -0.337\n",
       "ar.L5         -0.1519      0.109     -1.396      0.163      -0.365       0.061\n",
       "ar.L6         -0.0934      0.106     -0.878      0.380      -0.302       0.115\n",
       "ar.L7         -0.0134      0.063     -0.214      0.831      -0.136       0.109\n",
       "ma.L1         -0.9664      0.532     -1.817      0.069      -2.009       0.076\n",
       "ma.L2         -0.7815      0.953     -0.820      0.412      -2.648       1.085\n",
       "ma.L3          1.5056      0.426      3.534      0.000       0.671       2.341\n",
       "ma.L4         -0.7595      0.696     -1.091      0.275      -2.124       0.605\n",
       "ma.L5         -0.9679      1.110     -0.872      0.383      -3.144       1.208\n",
       "ma.L6          0.9744      0.551      1.767      0.077      -0.106       2.055\n",
       "sigma2         4.6065      1.068      4.315      0.000       2.514       6.699\n",
       "===================================================================================\n",
       "Ljung-Box (Q):                       47.28   Jarque-Bera (JB):                79.63\n",
       "Prob(Q):                              0.20   Prob(JB):                         0.00\n",
       "Heteroskedasticity (H):               1.15   Skew:                            -0.78\n",
       "Prob(H) (two-sided):                  0.53   Kurtosis:                         5.34\n",
       "===================================================================================\n",
       "\n",
       "Warnings:\n",
       "[1] Covariance matrix calculated using the outer product of gradients (complex-step).\n",
       "\"\"\""
      ]
     },
     "execution_count": 162,
     "metadata": {},
     "output_type": "execute_result"
    }
   ],
   "source": [
    "result.summary()"
   ]
  },
  {
   "cell_type": "code",
   "execution_count": null,
   "metadata": {},
   "outputs": [],
   "source": []
  },
  {
   "cell_type": "code",
   "execution_count": null,
   "metadata": {},
   "outputs": [],
   "source": []
  },
  {
   "cell_type": "code",
   "execution_count": null,
   "metadata": {},
   "outputs": [],
   "source": []
  },
  {
   "cell_type": "code",
   "execution_count": null,
   "metadata": {},
   "outputs": [],
   "source": []
  },
  {
   "cell_type": "code",
   "execution_count": 170,
   "metadata": {
    "scrolled": true
   },
   "outputs": [
    {
     "data": {
      "text/plain": [
       "[<matplotlib.lines.Line2D at 0x7f9cc1e673c8>]"
      ]
     },
     "execution_count": 170,
     "metadata": {},
     "output_type": "execute_result"
    },
    {
     "data": {
      "image/png": "[encoded data removed]",
      "text/plain": [
       "<Figure size 1080x576 with 1 Axes>"
      ]
     },
     "metadata": {
      "needs_background": "light"
     },
     "output_type": "display_data"
    }
   ],
   "source": [
    "# Generate \n",
    "prediction_length = 10\n",
    "\n",
    "test_series = stock_df[\"close\"][:50]\n",
    "test_model = SARIMAX(test_series[:-prediction_length], seasonal_order=(5,2,3,3))\n",
    "result = test_model.fit()\n",
    "predict = result.forecast(prediction_length)\n",
    "\n",
    "\n",
    "fig, ax = plt.subplots(figsize=(15, 8))\n",
    "plt.plot(test_series.reset_index()[\"close\"])\n",
    "plt.plot(result.fittedvalues.reset_index()[0])\n",
    "plt.plot(predict, color=\"red\")"
   ]
  },
  {
   "cell_type": "code",
   "execution_count": 171,
   "metadata": {},
   "outputs": [
    {
     "data": {
      "text/html": [
       "<table class=\"simpletable\">\n",
       "<caption>SARIMAX Results</caption>\n",
       "<tr>\n",
       "  <th>Dep. Variable:</th>                   <td>close</td>                 <th>  No. Observations:  </th>   <td>40</td>   \n",
       "</tr>\n",
       "<tr>\n",
       "  <th>Model:</th>           <td>SARIMAX(1, 0, 0)x(5, 2, [1, 2, 3], 3)</td> <th>  Log Likelihood     </th> <td>-68.877</td>\n",
       "</tr>\n",
       "<tr>\n",
       "  <th>Date:</th>                      <td>Mon, 21 Dec 2020</td>            <th>  AIC                </th> <td>157.753</td>\n",
       "</tr>\n",
       "<tr>\n",
       "  <th>Time:</th>                          <td>13:11:48</td>                <th>  BIC                </th> <td>173.017</td>\n",
       "</tr>\n",
       "<tr>\n",
       "  <th>Sample:</th>                            <td>0</td>                   <th>  HQIC               </th> <td>162.959</td>\n",
       "</tr>\n",
       "<tr>\n",
       "  <th></th>                                 <td> - 40</td>                 <th>                     </th>    <td> </td>   \n",
       "</tr>\n",
       "<tr>\n",
       "  <th>Covariance Type:</th>                  <td>opg</td>                  <th>                     </th>    <td> </td>   \n",
       "</tr>\n",
       "</table>\n",
       "<table class=\"simpletable\">\n",
       "<tr>\n",
       "      <td></td>        <th>coef</th>     <th>std err</th>      <th>z</th>      <th>P>|z|</th>  <th>[0.025</th>    <th>0.975]</th>  \n",
       "</tr>\n",
       "<tr>\n",
       "  <th>ar.L1</th>    <td>    0.5494</td> <td>    0.249</td> <td>    2.206</td> <td> 0.027</td> <td>    0.061</td> <td>    1.038</td>\n",
       "</tr>\n",
       "<tr>\n",
       "  <th>ar.S.L3</th>  <td>   -1.0407</td> <td>    1.132</td> <td>   -0.919</td> <td> 0.358</td> <td>   -3.260</td> <td>    1.178</td>\n",
       "</tr>\n",
       "<tr>\n",
       "  <th>ar.S.L6</th>  <td>   -1.4435</td> <td>    1.581</td> <td>   -0.913</td> <td> 0.361</td> <td>   -4.541</td> <td>    1.654</td>\n",
       "</tr>\n",
       "<tr>\n",
       "  <th>ar.S.L9</th>  <td>   -0.9073</td> <td>    1.842</td> <td>   -0.492</td> <td> 0.622</td> <td>   -4.518</td> <td>    2.704</td>\n",
       "</tr>\n",
       "<tr>\n",
       "  <th>ar.S.L12</th> <td>   -0.3924</td> <td>    1.416</td> <td>   -0.277</td> <td> 0.782</td> <td>   -3.167</td> <td>    2.382</td>\n",
       "</tr>\n",
       "<tr>\n",
       "  <th>ar.S.L15</th> <td>    0.1015</td> <td>    0.785</td> <td>    0.129</td> <td> 0.897</td> <td>   -1.437</td> <td>    1.640</td>\n",
       "</tr>\n",
       "<tr>\n",
       "  <th>ma.S.L3</th>  <td>   -0.8361</td> <td>   81.364</td> <td>   -0.010</td> <td> 0.992</td> <td> -160.307</td> <td>  158.635</td>\n",
       "</tr>\n",
       "<tr>\n",
       "  <th>ma.S.L6</th>  <td>    0.8198</td> <td>   15.446</td> <td>    0.053</td> <td> 0.958</td> <td>  -29.453</td> <td>   31.093</td>\n",
       "</tr>\n",
       "<tr>\n",
       "  <th>ma.S.L9</th>  <td>   -0.9799</td> <td>   83.122</td> <td>   -0.012</td> <td> 0.991</td> <td> -163.895</td> <td>  161.935</td>\n",
       "</tr>\n",
       "<tr>\n",
       "  <th>sigma2</th>   <td>    1.3555</td> <td>  113.967</td> <td>    0.012</td> <td> 0.991</td> <td> -222.017</td> <td>  224.728</td>\n",
       "</tr>\n",
       "</table>\n",
       "<table class=\"simpletable\">\n",
       "<tr>\n",
       "  <th>Ljung-Box (Q):</th>          <td>23.47</td> <th>  Jarque-Bera (JB):  </th> <td>0.74</td>\n",
       "</tr>\n",
       "<tr>\n",
       "  <th>Prob(Q):</th>                <td>0.89</td>  <th>  Prob(JB):          </th> <td>0.69</td>\n",
       "</tr>\n",
       "<tr>\n",
       "  <th>Heteroskedasticity (H):</th> <td>0.30</td>  <th>  Skew:              </th> <td>0.11</td>\n",
       "</tr>\n",
       "<tr>\n",
       "  <th>Prob(H) (two-sided):</th>    <td>0.06</td>  <th>  Kurtosis:          </th> <td>2.31</td>\n",
       "</tr>\n",
       "</table><br/><br/>Warnings:<br/>[1] Covariance matrix calculated using the outer product of gradients (complex-step)."
      ],
      "text/plain": [
       "<class 'statsmodels.iolib.summary.Summary'>\n",
       "\"\"\"\n",
       "                                         SARIMAX Results                                         \n",
       "=================================================================================================\n",
       "Dep. Variable:                                     close   No. Observations:                   40\n",
       "Model:             SARIMAX(1, 0, 0)x(5, 2, [1, 2, 3], 3)   Log Likelihood                 -68.877\n",
       "Date:                                   Mon, 21 Dec 2020   AIC                            157.753\n",
       "Time:                                           13:11:48   BIC                            173.017\n",
       "Sample:                                                0   HQIC                           162.959\n",
       "                                                    - 40                                         \n",
       "Covariance Type:                                     opg                                         \n",
       "==============================================================================\n",
       "                 coef    std err          z      P>|z|      [0.025      0.975]\n",
       "------------------------------------------------------------------------------\n",
       "ar.L1          0.5494      0.249      2.206      0.027       0.061       1.038\n",
       "ar.S.L3       -1.0407      1.132     -0.919      0.358      -3.260       1.178\n",
       "ar.S.L6       -1.4435      1.581     -0.913      0.361      -4.541       1.654\n",
       "ar.S.L9       -0.9073      1.842     -0.492      0.622      -4.518       2.704\n",
       "ar.S.L12      -0.3924      1.416     -0.277      0.782      -3.167       2.382\n",
       "ar.S.L15       0.1015      0.785      0.129      0.897      -1.437       1.640\n",
       "ma.S.L3       -0.8361     81.364     -0.010      0.992    -160.307     158.635\n",
       "ma.S.L6        0.8198     15.446      0.053      0.958     -29.453      31.093\n",
       "ma.S.L9       -0.9799     83.122     -0.012      0.991    -163.895     161.935\n",
       "sigma2         1.3555    113.967      0.012      0.991    -222.017     224.728\n",
       "===================================================================================\n",
       "Ljung-Box (Q):                       23.47   Jarque-Bera (JB):                 0.74\n",
       "Prob(Q):                              0.89   Prob(JB):                         0.69\n",
       "Heteroskedasticity (H):               0.30   Skew:                             0.11\n",
       "Prob(H) (two-sided):                  0.06   Kurtosis:                         2.31\n",
       "===================================================================================\n",
       "\n",
       "Warnings:\n",
       "[1] Covariance matrix calculated using the outer product of gradients (complex-step).\n",
       "\"\"\""
      ]
     },
     "execution_count": 171,
     "metadata": {},
     "output_type": "execute_result"
    }
   ],
   "source": [
    "result.summary()"
   ]
  },
  {
   "cell_type": "code",
   "execution_count": 78,
   "metadata": {},
   "outputs": [
    {
     "data": {
      "text/plain": [
       "datetime\n",
       "2019-02-11 01:00:00    270.722321\n",
       "2019-02-12 01:00:00    270.697468\n",
       "2019-02-13 01:00:00    273.761570\n",
       "2019-02-14 01:00:00    274.765268\n",
       "2019-02-15 01:00:00    274.662802\n",
       "                          ...    \n",
       "2019-11-18 01:00:00    311.854192\n",
       "2019-11-19 01:00:00    311.851973\n",
       "2019-11-20 01:00:00    311.827888\n",
       "2019-11-21 01:00:00    310.949204\n",
       "2019-11-22 01:00:00    310.424208\n",
       "Length: 200, dtype: float64"
      ]
     },
     "execution_count": 78,
     "metadata": {},
     "output_type": "execute_result"
    }
   ],
   "source": [
    "predict.reset_index()"
   ]
  },
  {
   "cell_type": "code",
   "execution_count": 24,
   "metadata": {
    "scrolled": true
   },
   "outputs": [
    {
     "data": {
      "text/plain": [
       "datetime\n",
       "2019-01-04 01:00:00    288.255743\n",
       "2019-01-07 01:00:00    252.500296\n",
       "2019-01-08 01:00:00    254.519357\n",
       "2019-01-09 01:00:00    256.874639\n",
       "2019-01-10 01:00:00    258.077778\n",
       "                          ...    \n",
       "2019-12-24 01:00:00    321.172621\n",
       "2019-12-26 01:00:00    321.074748\n",
       "2019-12-27 01:00:00    322.938416\n",
       "2019-12-30 01:00:00    322.646077\n",
       "2019-12-31 01:00:00    321.031965\n",
       "Length: 250, dtype: float64"
      ]
     },
     "execution_count": 24,
     "metadata": {},
     "output_type": "execute_result"
    }
   ],
   "source": [
    "result.fittedvalues"
   ]
  },
  {
   "cell_type": "code",
   "execution_count": 25,
   "metadata": {},
   "outputs": [
    {
     "data": {
      "text/plain": [
       "datetime\n",
       "2019-01-04 01:00:00    252.39\n",
       "2019-01-07 01:00:00    254.38\n",
       "2019-01-08 01:00:00    256.77\n",
       "2019-01-09 01:00:00    257.97\n",
       "2019-01-10 01:00:00    258.88\n",
       "                        ...  \n",
       "2019-12-24 01:00:00    321.23\n",
       "2019-12-26 01:00:00    322.94\n",
       "2019-12-27 01:00:00    322.86\n",
       "2019-12-30 01:00:00    321.08\n",
       "2019-12-31 01:00:00    321.86\n",
       "Name: close, Length: 250, dtype: float64"
      ]
     },
     "execution_count": 25,
     "metadata": {},
     "output_type": "execute_result"
    }
   ],
   "source": [
    "test_series"
   ]
  },
  {
   "cell_type": "code",
   "execution_count": null,
   "metadata": {},
   "outputs": [],
   "source": []
  },
  {
   "cell_type": "code",
   "execution_count": null,
   "metadata": {},
   "outputs": [],
   "source": []
  },
  {
   "cell_type": "code",
   "execution_count": null,
   "metadata": {},
   "outputs": [],
   "source": []
  },
  {
   "cell_type": "code",
   "execution_count": null,
   "metadata": {},
   "outputs": [],
   "source": []
  },
  {
   "cell_type": "code",
   "execution_count": null,
   "metadata": {},
   "outputs": [],
   "source": []
  },
  {
   "cell_type": "code",
   "execution_count": null,
   "metadata": {},
   "outputs": [],
   "source": []
  },
  {
   "cell_type": "code",
   "execution_count": null,
   "metadata": {},
   "outputs": [],
   "source": []
  },
  {
   "cell_type": "code",
   "execution_count": null,
   "metadata": {},
   "outputs": [],
   "source": []
  },
  {
   "cell_type": "code",
   "execution_count": null,
   "metadata": {},
   "outputs": [],
   "source": []
  },
  {
   "cell_type": "code",
   "execution_count": null,
   "metadata": {},
   "outputs": [],
   "source": []
  },
  {
   "cell_type": "code",
   "execution_count": null,
   "metadata": {},
   "outputs": [],
   "source": []
  },
  {
   "cell_type": "code",
   "execution_count": null,
   "metadata": {},
   "outputs": [],
   "source": []
  },
  {
   "cell_type": "code",
   "execution_count": null,
   "metadata": {},
   "outputs": [],
   "source": []
  },
  {
   "cell_type": "code",
   "execution_count": null,
   "metadata": {},
   "outputs": [],
   "source": []
  },
  {
   "cell_type": "code",
   "execution_count": 42,
   "metadata": {},
   "outputs": [
    {
     "data": {
      "text/plain": [
       "[<matplotlib.lines.Line2D at 0x1df9a0430c8>]"
      ]
     },
     "execution_count": 42,
     "metadata": {},
     "output_type": "execute_result"
    },
    {
     "data": {
      "image/png": "[encoded data removed]",
      "text/plain": [
       "<Figure size 432x288 with 1 Axes>"
      ]
     },
     "metadata": {
      "needs_background": "light"
     },
     "output_type": "display_data"
    }
   ],
   "source": [
    "plt.plot(test_values)"
   ]
  },
  {
   "cell_type": "code",
   "execution_count": 56,
   "metadata": {},
   "outputs": [
    {
     "data": {
      "text/plain": [
       "[<matplotlib.lines.Line2D at 0x1df9da64d08>]"
      ]
     },
     "execution_count": 56,
     "metadata": {},
     "output_type": "execute_result"
    },
    {
     "data": {
      "image/png": "[encoded data removed]",
      "text/plain": [
       "<Figure size 432x288 with 1 Axes>"
      ]
     },
     "metadata": {
      "needs_background": "light"
     },
     "output_type": "display_data"
    }
   ],
   "source": [
    "diff_test_values = pd.DataFrame(stock_df[pricetype].values[:25])\n",
    "diff_test_values = diff_test_values\n",
    "plt.plot(diff_test_values)"
   ]
  },
  {
   "cell_type": "code",
   "execution_count": null,
   "metadata": {},
   "outputs": [],
   "source": []
  },
  {
   "cell_type": "code",
   "execution_count": null,
   "metadata": {},
   "outputs": [],
   "source": []
  },
  {
   "cell_type": "code",
   "execution_count": 144,
   "metadata": {},
   "outputs": [
    {
     "ename": "NameError",
     "evalue": "name 'test_values' is not defined",
     "output_type": "error",
     "traceback": [
      "\u001b[0;31m---------------------------------------------------------------------------\u001b[0m",
      "\u001b[0;31mNameError\u001b[0m                                 Traceback (most recent call last)",
      "\u001b[0;32m<ipython-input-144-1d21889f3f97>\u001b[0m in \u001b[0;36m<module>\u001b[0;34m()\u001b[0m\n\u001b[0;32m----> 1\u001b[0;31m \u001b[0mmodel\u001b[0m \u001b[0;34m=\u001b[0m \u001b[0mARIMA\u001b[0m\u001b[0;34m(\u001b[0m\u001b[0mtest_values\u001b[0m\u001b[0;34m,\u001b[0m \u001b[0morder\u001b[0m\u001b[0;34m=\u001b[0m\u001b[0;34m(\u001b[0m\u001b[0;36m2\u001b[0m\u001b[0;34m,\u001b[0m\u001b[0;36m2\u001b[0m\u001b[0;34m,\u001b[0m\u001b[0;36m2\u001b[0m\u001b[0;34m)\u001b[0m\u001b[0;34m)\u001b[0m \u001b[0;31m#fit and predictarima_model = model.fit()\u001b[0m\u001b[0;34m\u001b[0m\u001b[0;34m\u001b[0m\u001b[0m\n\u001b[0m\u001b[1;32m      2\u001b[0m \u001b[0marima_model\u001b[0m \u001b[0;34m=\u001b[0m \u001b[0mmodel\u001b[0m\u001b[0;34m.\u001b[0m\u001b[0mfit\u001b[0m\u001b[0;34m(\u001b[0m\u001b[0;34m)\u001b[0m\u001b[0;34m\u001b[0m\u001b[0;34m\u001b[0m\u001b[0m\n\u001b[1;32m      3\u001b[0m \u001b[0mmodel_prediction\u001b[0m \u001b[0;34m=\u001b[0m \u001b[0marima_model\u001b[0m\u001b[0;34m.\u001b[0m\u001b[0mforecast\u001b[0m\u001b[0;34m(\u001b[0m\u001b[0msteps\u001b[0m\u001b[0;34m=\u001b[0m\u001b[0;36m5\u001b[0m\u001b[0;34m)\u001b[0m\u001b[0;34m\u001b[0m\u001b[0;34m\u001b[0m\u001b[0m\n",
      "\u001b[0;31mNameError\u001b[0m: name 'test_values' is not defined"
     ]
    }
   ],
   "source": [
    "model = ARIMA(test_values, order=(2,2,2)) #fit and predictarima_model = model.fit()\n",
    "arima_model = model.fit()\n",
    "model_prediction = arima_model.forecast(steps=5)"
   ]
  },
  {
   "cell_type": "code",
   "execution_count": 74,
   "metadata": {},
   "outputs": [
    {
     "data": {
      "text/plain": [
       "array([105.76119155, 105.89078098, 106.11395383, 106.23085007,\n",
       "       106.41044929])"
      ]
     },
     "execution_count": 74,
     "metadata": {},
     "output_type": "execute_result"
    }
   ],
   "source": [
    "model_prediction"
   ]
  },
  {
   "cell_type": "code",
   "execution_count": 81,
   "metadata": {
    "scrolled": false
   },
   "outputs": [
    {
     "data": {
      "text/plain": [
       "statsmodels.tsa.arima.model.ARIMAResultsWrapper"
      ]
     },
     "execution_count": 81,
     "metadata": {},
     "output_type": "execute_result"
    }
   ],
   "source": [
    "type(arima_model)"
   ]
  },
  {
   "cell_type": "code",
   "execution_count": null,
   "metadata": {},
   "outputs": [],
   "source": []
  },
  {
   "cell_type": "code",
   "execution_count": null,
   "metadata": {},
   "outputs": [],
   "source": []
  },
  {
   "cell_type": "code",
   "execution_count": null,
   "metadata": {},
   "outputs": [],
   "source": []
  },
  {
   "cell_type": "code",
   "execution_count": null,
   "metadata": {},
   "outputs": [],
   "source": []
  },
  {
   "cell_type": "code",
   "execution_count": 91,
   "metadata": {},
   "outputs": [],
   "source": [
    "from statsmodels.tsa.api import STLForecast\n",
    "from statsmodels.tsa.seasonal import STL"
   ]
  },
  {
   "cell_type": "code",
   "execution_count": 118,
   "metadata": {},
   "outputs": [
    {
     "data": {
      "text/plain": [
       "DatetimeIndex(['2019-01-04 01:00:00', '2019-01-07 01:00:00',\n",
       "               '2019-01-08 01:00:00', '2019-01-09 01:00:00',\n",
       "               '2019-01-10 01:00:00', '2019-01-11 01:00:00',\n",
       "               '2019-01-14 01:00:00', '2019-01-15 01:00:00',\n",
       "               '2019-01-16 01:00:00', '2019-01-17 01:00:00',\n",
       "               ...\n",
       "               '2019-12-17 01:00:00', '2019-12-18 01:00:00',\n",
       "               '2019-12-19 01:00:00', '2019-12-20 01:00:00',\n",
       "               '2019-12-23 01:00:00', '2019-12-24 01:00:00',\n",
       "               '2019-12-26 01:00:00', '2019-12-27 01:00:00',\n",
       "               '2019-12-30 01:00:00', '2019-12-31 01:00:00'],\n",
       "              dtype='datetime64[ns]', name='datetime', length=250, freq=None)"
      ]
     },
     "execution_count": 118,
     "metadata": {},
     "output_type": "execute_result"
    }
   ],
   "source": [
    "stock_df.index"
   ]
  },
  {
   "cell_type": "code",
   "execution_count": 119,
   "metadata": {
    "scrolled": true
   },
   "outputs": [
    {
     "data": {
      "text/plain": [
       "datetime\n",
       "2019-01-04 01:00:00    252.39\n",
       "2019-01-07 01:00:00    254.38\n",
       "2019-01-08 01:00:00    256.77\n",
       "2019-01-09 01:00:00    257.97\n",
       "2019-01-10 01:00:00    258.88\n",
       "2019-01-11 01:00:00    258.98\n",
       "2019-01-14 01:00:00    257.40\n",
       "2019-01-15 01:00:00    260.35\n",
       "2019-01-16 01:00:00    260.98\n",
       "2019-01-17 01:00:00    262.96\n",
       "2019-01-18 01:00:00    266.46\n",
       "2019-01-22 01:00:00    262.86\n",
       "2019-01-23 01:00:00    263.41\n",
       "2019-01-24 01:00:00    263.55\n",
       "2019-01-25 01:00:00    265.78\n",
       "2019-01-28 01:00:00    263.76\n",
       "2019-01-29 01:00:00    263.41\n",
       "2019-01-30 01:00:00    267.58\n",
       "2019-01-31 01:00:00    269.93\n",
       "2019-02-01 01:00:00    270.06\n",
       "2019-02-04 01:00:00    271.96\n",
       "2019-02-05 01:00:00    273.10\n",
       "2019-02-06 01:00:00    272.74\n",
       "2019-02-07 01:00:00    270.14\n",
       "2019-02-08 01:00:00    270.47\n",
       "2019-02-11 01:00:00    270.62\n",
       "2019-02-12 01:00:00    274.10\n",
       "2019-02-13 01:00:00    274.99\n",
       "2019-02-14 01:00:00    274.38\n",
       "2019-02-15 01:00:00    277.37\n",
       "2019-02-19 01:00:00    277.85\n",
       "2019-02-20 01:00:00    278.41\n",
       "2019-02-21 01:00:00    277.42\n",
       "2019-02-22 01:00:00    279.14\n",
       "2019-02-25 01:00:00    279.52\n",
       "2019-02-26 01:00:00    279.32\n",
       "2019-02-27 01:00:00    279.20\n",
       "2019-02-28 01:00:00    278.68\n",
       "2019-03-01 01:00:00    280.42\n",
       "2019-03-04 01:00:00    279.40\n",
       "Name: close, dtype: float64"
      ]
     },
     "execution_count": 119,
     "metadata": {},
     "output_type": "execute_result"
    }
   ],
   "source": [
    "test_values2 =stock_df[pricetype]\n",
    "test_values2[:40]"
   ]
  },
  {
   "cell_type": "code",
   "execution_count": 138,
   "metadata": {
    "scrolled": true
   },
   "outputs": [
    {
     "data": {
      "image/png": "[encoded data removed]",
      "text/plain": [
       "<Figure size 432x288 with 4 Axes>"
      ]
     },
     "metadata": {
      "needs_background": "light"
     },
     "output_type": "display_data"
    }
   ],
   "source": [
    "res = STL(test_values2.values, period=40).fit()\n",
    "res.plot()\n",
    "plt.show()"
   ]
  },
  {
   "cell_type": "code",
   "execution_count": 145,
   "metadata": {},
   "outputs": [],
   "source": [
    "stlf = STLForecast(test_values2.values, ARIMA, model_kwargs={\"order\": (2, 1, 2)},period=40)\n",
    "res = stlf.fit()\n",
    "forecasts = res.forecast(5)"
   ]
  },
  {
   "cell_type": "code",
   "execution_count": 146,
   "metadata": {
    "scrolled": false
   },
   "outputs": [
    {
     "data": {
      "text/plain": [
       "array([326.26776488, 325.37289933, 325.63848804, 326.85077111,\n",
       "       326.85995751])"
      ]
     },
     "execution_count": 146,
     "metadata": {},
     "output_type": "execute_result"
    }
   ],
   "source": [
    "forecasts"
   ]
  },
  {
   "cell_type": "code",
   "execution_count": null,
   "metadata": {},
   "outputs": [],
   "source": []
  },
  {
   "cell_type": "code",
   "execution_count": null,
   "metadata": {},
   "outputs": [],
   "source": []
  },
  {
   "cell_type": "code",
   "execution_count": null,
   "metadata": {},
   "outputs": [],
   "source": [
    "statsmodels.tsa.arima.model.ARIMA"
   ]
  },
  {
   "cell_type": "code",
   "execution_count": 132,
   "metadata": {
    "scrolled": false
   },
   "outputs": [
    {
     "name": "stderr",
     "output_type": "stream",
     "text": [
      "C:\\Users\\Yung\\Anaconda3\\envs\\fitsnbits\\lib\\site-packages\\statsmodels\\tsa\\arima_model.py:472: FutureWarning: \n",
      "statsmodels.tsa.arima_model.ARMA and statsmodels.tsa.arima_model.ARIMA have\n",
      "been deprecated in favor of statsmodels.tsa.arima.model.ARIMA (note the .\n",
      "between arima and model) and\n",
      "statsmodels.tsa.SARIMAX. These will be removed after the 0.12 release.\n",
      "\n",
      "statsmodels.tsa.arima.model.ARIMA makes use of the statespace framework and\n",
      "is both well tested and maintained.\n",
      "\n",
      "To silence this warning and continue using ARMA and ARIMA until they are\n",
      "removed, use:\n",
      "\n",
      "import warnings\n",
      "warnings.filterwarnings('ignore', 'statsmodels.tsa.arima_model.ARMA',\n",
      "                        FutureWarning)\n",
      "warnings.filterwarnings('ignore', 'statsmodels.tsa.arima_model.ARIMA',\n",
      "                        FutureWarning)\n",
      "\n",
      "  warnings.warn(ARIMA_DEPRECATION_WARN, FutureWarning)\n",
      "C:\\Users\\Yung\\Anaconda3\\envs\\fitsnbits\\lib\\site-packages\\statsmodels\\tsa\\arima_model.py:472: FutureWarning: \n",
      "statsmodels.tsa.arima_model.ARMA and statsmodels.tsa.arima_model.ARIMA have\n",
      "been deprecated in favor of statsmodels.tsa.arima.model.ARIMA (note the .\n",
      "between arima and model) and\n",
      "statsmodels.tsa.SARIMAX. These will be removed after the 0.12 release.\n",
      "\n",
      "statsmodels.tsa.arima.model.ARIMA makes use of the statespace framework and\n",
      "is both well tested and maintained.\n",
      "\n",
      "To silence this warning and continue using ARMA and ARIMA until they are\n",
      "removed, use:\n",
      "\n",
      "import warnings\n",
      "warnings.filterwarnings('ignore', 'statsmodels.tsa.arima_model.ARMA',\n",
      "                        FutureWarning)\n",
      "warnings.filterwarnings('ignore', 'statsmodels.tsa.arima_model.ARIMA',\n",
      "                        FutureWarning)\n",
      "\n",
      "  warnings.warn(ARIMA_DEPRECATION_WARN, FutureWarning)\n",
      "C:\\Users\\Yung\\Anaconda3\\envs\\fitsnbits\\lib\\site-packages\\statsmodels\\tsa\\arima_model.py:472: FutureWarning: \n",
      "statsmodels.tsa.arima_model.ARMA and statsmodels.tsa.arima_model.ARIMA have\n",
      "been deprecated in favor of statsmodels.tsa.arima.model.ARIMA (note the .\n",
      "between arima and model) and\n",
      "statsmodels.tsa.SARIMAX. These will be removed after the 0.12 release.\n",
      "\n",
      "statsmodels.tsa.arima.model.ARIMA makes use of the statespace framework and\n",
      "is both well tested and maintained.\n",
      "\n",
      "To silence this warning and continue using ARMA and ARIMA until they are\n",
      "removed, use:\n",
      "\n",
      "import warnings\n",
      "warnings.filterwarnings('ignore', 'statsmodels.tsa.arima_model.ARMA',\n",
      "                        FutureWarning)\n",
      "warnings.filterwarnings('ignore', 'statsmodels.tsa.arima_model.ARIMA',\n",
      "                        FutureWarning)\n",
      "\n",
      "  warnings.warn(ARIMA_DEPRECATION_WARN, FutureWarning)\n",
      "C:\\Users\\Yung\\Anaconda3\\envs\\fitsnbits\\lib\\site-packages\\statsmodels\\tsa\\arima_model.py:472: FutureWarning: \n",
      "statsmodels.tsa.arima_model.ARMA and statsmodels.tsa.arima_model.ARIMA have\n",
      "been deprecated in favor of statsmodels.tsa.arima.model.ARIMA (note the .\n",
      "between arima and model) and\n",
      "statsmodels.tsa.SARIMAX. These will be removed after the 0.12 release.\n",
      "\n",
      "statsmodels.tsa.arima.model.ARIMA makes use of the statespace framework and\n",
      "is both well tested and maintained.\n",
      "\n",
      "To silence this warning and continue using ARMA and ARIMA until they are\n",
      "removed, use:\n",
      "\n",
      "import warnings\n",
      "warnings.filterwarnings('ignore', 'statsmodels.tsa.arima_model.ARMA',\n",
      "                        FutureWarning)\n",
      "warnings.filterwarnings('ignore', 'statsmodels.tsa.arima_model.ARIMA',\n",
      "                        FutureWarning)\n",
      "\n",
      "  warnings.warn(ARIMA_DEPRECATION_WARN, FutureWarning)\n",
      "C:\\Users\\Yung\\Anaconda3\\envs\\fitsnbits\\lib\\site-packages\\statsmodels\\tsa\\arima_model.py:472: FutureWarning: \n",
      "statsmodels.tsa.arima_model.ARMA and statsmodels.tsa.arima_model.ARIMA have\n",
      "been deprecated in favor of statsmodels.tsa.arima.model.ARIMA (note the .\n",
      "between arima and model) and\n",
      "statsmodels.tsa.SARIMAX. These will be removed after the 0.12 release.\n",
      "\n",
      "statsmodels.tsa.arima.model.ARIMA makes use of the statespace framework and\n",
      "is both well tested and maintained.\n",
      "\n",
      "To silence this warning and continue using ARMA and ARIMA until they are\n",
      "removed, use:\n",
      "\n",
      "import warnings\n",
      "warnings.filterwarnings('ignore', 'statsmodels.tsa.arima_model.ARMA',\n",
      "                        FutureWarning)\n",
      "warnings.filterwarnings('ignore', 'statsmodels.tsa.arima_model.ARIMA',\n",
      "                        FutureWarning)\n",
      "\n",
      "  warnings.warn(ARIMA_DEPRECATION_WARN, FutureWarning)\n",
      "C:\\Users\\Yung\\Anaconda3\\envs\\fitsnbits\\lib\\site-packages\\statsmodels\\tsa\\arima_model.py:472: FutureWarning: \n",
      "statsmodels.tsa.arima_model.ARMA and statsmodels.tsa.arima_model.ARIMA have\n",
      "been deprecated in favor of statsmodels.tsa.arima.model.ARIMA (note the .\n",
      "between arima and model) and\n",
      "statsmodels.tsa.SARIMAX. These will be removed after the 0.12 release.\n",
      "\n",
      "statsmodels.tsa.arima.model.ARIMA makes use of the statespace framework and\n",
      "is both well tested and maintained.\n",
      "\n",
      "To silence this warning and continue using ARMA and ARIMA until they are\n",
      "removed, use:\n",
      "\n",
      "import warnings\n",
      "warnings.filterwarnings('ignore', 'statsmodels.tsa.arima_model.ARMA',\n",
      "                        FutureWarning)\n",
      "warnings.filterwarnings('ignore', 'statsmodels.tsa.arima_model.ARIMA',\n",
      "                        FutureWarning)\n",
      "\n",
      "  warnings.warn(ARIMA_DEPRECATION_WARN, FutureWarning)\n",
      "C:\\Users\\Yung\\Anaconda3\\envs\\fitsnbits\\lib\\site-packages\\statsmodels\\tsa\\arima_model.py:472: FutureWarning: \n",
      "statsmodels.tsa.arima_model.ARMA and statsmodels.tsa.arima_model.ARIMA have\n",
      "been deprecated in favor of statsmodels.tsa.arima.model.ARIMA (note the .\n",
      "between arima and model) and\n",
      "statsmodels.tsa.SARIMAX. These will be removed after the 0.12 release.\n",
      "\n",
      "statsmodels.tsa.arima.model.ARIMA makes use of the statespace framework and\n",
      "is both well tested and maintained.\n",
      "\n",
      "To silence this warning and continue using ARMA and ARIMA until they are\n",
      "removed, use:\n",
      "\n",
      "import warnings\n",
      "warnings.filterwarnings('ignore', 'statsmodels.tsa.arima_model.ARMA',\n",
      "                        FutureWarning)\n",
      "warnings.filterwarnings('ignore', 'statsmodels.tsa.arima_model.ARIMA',\n",
      "                        FutureWarning)\n",
      "\n",
      "  warnings.warn(ARIMA_DEPRECATION_WARN, FutureWarning)\n",
      "C:\\Users\\Yung\\Anaconda3\\envs\\fitsnbits\\lib\\site-packages\\statsmodels\\tsa\\arima_model.py:472: FutureWarning: \n",
      "statsmodels.tsa.arima_model.ARMA and statsmodels.tsa.arima_model.ARIMA have\n",
      "been deprecated in favor of statsmodels.tsa.arima.model.ARIMA (note the .\n",
      "between arima and model) and\n",
      "statsmodels.tsa.SARIMAX. These will be removed after the 0.12 release.\n",
      "\n",
      "statsmodels.tsa.arima.model.ARIMA makes use of the statespace framework and\n",
      "is both well tested and maintained.\n",
      "\n",
      "To silence this warning and continue using ARMA and ARIMA until they are\n",
      "removed, use:\n",
      "\n",
      "import warnings\n",
      "warnings.filterwarnings('ignore', 'statsmodels.tsa.arima_model.ARMA',\n",
      "                        FutureWarning)\n",
      "warnings.filterwarnings('ignore', 'statsmodels.tsa.arima_model.ARIMA',\n",
      "                        FutureWarning)\n",
      "\n",
      "  warnings.warn(ARIMA_DEPRECATION_WARN, FutureWarning)\n",
      "C:\\Users\\Yung\\Anaconda3\\envs\\fitsnbits\\lib\\site-packages\\statsmodels\\tsa\\arima_model.py:472: FutureWarning: \n",
      "statsmodels.tsa.arima_model.ARMA and statsmodels.tsa.arima_model.ARIMA have\n",
      "been deprecated in favor of statsmodels.tsa.arima.model.ARIMA (note the .\n",
      "between arima and model) and\n",
      "statsmodels.tsa.SARIMAX. These will be removed after the 0.12 release.\n",
      "\n",
      "statsmodels.tsa.arima.model.ARIMA makes use of the statespace framework and\n",
      "is both well tested and maintained.\n",
      "\n",
      "To silence this warning and continue using ARMA and ARIMA until they are\n",
      "removed, use:\n",
      "\n",
      "import warnings\n",
      "warnings.filterwarnings('ignore', 'statsmodels.tsa.arima_model.ARMA',\n",
      "                        FutureWarning)\n",
      "warnings.filterwarnings('ignore', 'statsmodels.tsa.arima_model.ARIMA',\n",
      "                        FutureWarning)\n",
      "\n",
      "  warnings.warn(ARIMA_DEPRECATION_WARN, FutureWarning)\n"
     ]
    },
    {
     "data": {
      "text/plain": [
       "(1, 1)"
      ]
     },
     "execution_count": 132,
     "metadata": {},
     "output_type": "execute_result"
    }
   ],
   "source": [
    "res = sm.tsa.arma_order_select_ic(test_values2.values, ic=[\"aic\", \"bic\"], trend=\"nc\")\n"
   ]
  },
  {
   "cell_type": "code",
   "execution_count": 134,
   "metadata": {},
   "outputs": [
    {
     "data": {
      "text/plain": [
       "(1, 1)"
      ]
     },
     "execution_count": 134,
     "metadata": {},
     "output_type": "execute_result"
    }
   ],
   "source": [
    "\n",
    "res.bic_min_order"
   ]
  },
  {
   "cell_type": "code",
   "execution_count": 133,
   "metadata": {},
   "outputs": [
    {
     "data": {
      "text/plain": [
       "(2, 1)"
      ]
     },
     "execution_count": 133,
     "metadata": {},
     "output_type": "execute_result"
    }
   ],
   "source": [
    "res.aic_min_order"
   ]
  },
  {
   "cell_type": "code",
   "execution_count": 100,
   "metadata": {
    "scrolled": true
   },
   "outputs": [],
   "source": [
    "stock_df.index = stock_df.to_datetime"
   ]
  },
  {
   "cell_type": "code",
   "execution_count": null,
   "metadata": {},
   "outputs": [],
   "source": []
  },
  {
   "cell_type": "code",
   "execution_count": 131,
   "metadata": {},
   "outputs": [
    {
     "name": "stderr",
     "output_type": "stream",
     "text": [
      "C:\\Users\\Yung\\Anaconda3\\envs\\fitsnbits\\lib\\site-packages\\statsmodels\\tsa\\arima_model.py:472: FutureWarning: \n",
      "statsmodels.tsa.arima_model.ARMA and statsmodels.tsa.arima_model.ARIMA have\n",
      "been deprecated in favor of statsmodels.tsa.arima.model.ARIMA (note the .\n",
      "between arima and model) and\n",
      "statsmodels.tsa.SARIMAX. These will be removed after the 0.12 release.\n",
      "\n",
      "statsmodels.tsa.arima.model.ARIMA makes use of the statespace framework and\n",
      "is both well tested and maintained.\n",
      "\n",
      "To silence this warning and continue using ARMA and ARIMA until they are\n",
      "removed, use:\n",
      "\n",
      "import warnings\n",
      "warnings.filterwarnings('ignore', 'statsmodels.tsa.arima_model.ARMA',\n",
      "                        FutureWarning)\n",
      "warnings.filterwarnings('ignore', 'statsmodels.tsa.arima_model.ARIMA',\n",
      "                        FutureWarning)\n",
      "\n",
      "  warnings.warn(ARIMA_DEPRECATION_WARN, FutureWarning)\n",
      "C:\\Users\\Yung\\Anaconda3\\envs\\fitsnbits\\lib\\site-packages\\statsmodels\\tsa\\arima_model.py:472: FutureWarning: \n",
      "statsmodels.tsa.arima_model.ARMA and statsmodels.tsa.arima_model.ARIMA have\n",
      "been deprecated in favor of statsmodels.tsa.arima.model.ARIMA (note the .\n",
      "between arima and model) and\n",
      "statsmodels.tsa.SARIMAX. These will be removed after the 0.12 release.\n",
      "\n",
      "statsmodels.tsa.arima.model.ARIMA makes use of the statespace framework and\n",
      "is both well tested and maintained.\n",
      "\n",
      "To silence this warning and continue using ARMA and ARIMA until they are\n",
      "removed, use:\n",
      "\n",
      "import warnings\n",
      "warnings.filterwarnings('ignore', 'statsmodels.tsa.arima_model.ARMA',\n",
      "                        FutureWarning)\n",
      "warnings.filterwarnings('ignore', 'statsmodels.tsa.arima_model.ARIMA',\n",
      "                        FutureWarning)\n",
      "\n",
      "  warnings.warn(ARIMA_DEPRECATION_WARN, FutureWarning)\n",
      "C:\\Users\\Yung\\Anaconda3\\envs\\fitsnbits\\lib\\site-packages\\statsmodels\\tsa\\arima_model.py:472: FutureWarning: \n",
      "statsmodels.tsa.arima_model.ARMA and statsmodels.tsa.arima_model.ARIMA have\n",
      "been deprecated in favor of statsmodels.tsa.arima.model.ARIMA (note the .\n",
      "between arima and model) and\n",
      "statsmodels.tsa.SARIMAX. These will be removed after the 0.12 release.\n",
      "\n",
      "statsmodels.tsa.arima.model.ARIMA makes use of the statespace framework and\n",
      "is both well tested and maintained.\n",
      "\n",
      "To silence this warning and continue using ARMA and ARIMA until they are\n",
      "removed, use:\n",
      "\n",
      "import warnings\n",
      "warnings.filterwarnings('ignore', 'statsmodels.tsa.arima_model.ARMA',\n",
      "                        FutureWarning)\n",
      "warnings.filterwarnings('ignore', 'statsmodels.tsa.arima_model.ARIMA',\n",
      "                        FutureWarning)\n",
      "\n",
      "  warnings.warn(ARIMA_DEPRECATION_WARN, FutureWarning)\n",
      "C:\\Users\\Yung\\Anaconda3\\envs\\fitsnbits\\lib\\site-packages\\statsmodels\\tsa\\arima_model.py:472: FutureWarning: \n",
      "statsmodels.tsa.arima_model.ARMA and statsmodels.tsa.arima_model.ARIMA have\n",
      "been deprecated in favor of statsmodels.tsa.arima.model.ARIMA (note the .\n",
      "between arima and model) and\n",
      "statsmodels.tsa.SARIMAX. These will be removed after the 0.12 release.\n",
      "\n",
      "statsmodels.tsa.arima.model.ARIMA makes use of the statespace framework and\n",
      "is both well tested and maintained.\n",
      "\n",
      "To silence this warning and continue using ARMA and ARIMA until they are\n",
      "removed, use:\n",
      "\n",
      "import warnings\n",
      "warnings.filterwarnings('ignore', 'statsmodels.tsa.arima_model.ARMA',\n",
      "                        FutureWarning)\n",
      "warnings.filterwarnings('ignore', 'statsmodels.tsa.arima_model.ARIMA',\n",
      "                        FutureWarning)\n",
      "\n",
      "  warnings.warn(ARIMA_DEPRECATION_WARN, FutureWarning)\n",
      "C:\\Users\\Yung\\Anaconda3\\envs\\fitsnbits\\lib\\site-packages\\statsmodels\\tsa\\arima_model.py:472: FutureWarning: \n",
      "statsmodels.tsa.arima_model.ARMA and statsmodels.tsa.arima_model.ARIMA have\n",
      "been deprecated in favor of statsmodels.tsa.arima.model.ARIMA (note the .\n",
      "between arima and model) and\n",
      "statsmodels.tsa.SARIMAX. These will be removed after the 0.12 release.\n",
      "\n",
      "statsmodels.tsa.arima.model.ARIMA makes use of the statespace framework and\n",
      "is both well tested and maintained.\n",
      "\n",
      "To silence this warning and continue using ARMA and ARIMA until they are\n",
      "removed, use:\n",
      "\n",
      "import warnings\n",
      "warnings.filterwarnings('ignore', 'statsmodels.tsa.arima_model.ARMA',\n",
      "                        FutureWarning)\n",
      "warnings.filterwarnings('ignore', 'statsmodels.tsa.arima_model.ARIMA',\n",
      "                        FutureWarning)\n",
      "\n",
      "  warnings.warn(ARIMA_DEPRECATION_WARN, FutureWarning)\n",
      "C:\\Users\\Yung\\Anaconda3\\envs\\fitsnbits\\lib\\site-packages\\statsmodels\\tsa\\arima_model.py:472: FutureWarning: \n",
      "statsmodels.tsa.arima_model.ARMA and statsmodels.tsa.arima_model.ARIMA have\n",
      "been deprecated in favor of statsmodels.tsa.arima.model.ARIMA (note the .\n",
      "between arima and model) and\n",
      "statsmodels.tsa.SARIMAX. These will be removed after the 0.12 release.\n",
      "\n",
      "statsmodels.tsa.arima.model.ARIMA makes use of the statespace framework and\n",
      "is both well tested and maintained.\n",
      "\n",
      "To silence this warning and continue using ARMA and ARIMA until they are\n",
      "removed, use:\n",
      "\n",
      "import warnings\n",
      "warnings.filterwarnings('ignore', 'statsmodels.tsa.arima_model.ARMA',\n",
      "                        FutureWarning)\n",
      "warnings.filterwarnings('ignore', 'statsmodels.tsa.arima_model.ARIMA',\n",
      "                        FutureWarning)\n",
      "\n",
      "  warnings.warn(ARIMA_DEPRECATION_WARN, FutureWarning)\n",
      "C:\\Users\\Yung\\Anaconda3\\envs\\fitsnbits\\lib\\site-packages\\statsmodels\\tsa\\arima_model.py:472: FutureWarning: \n",
      "statsmodels.tsa.arima_model.ARMA and statsmodels.tsa.arima_model.ARIMA have\n",
      "been deprecated in favor of statsmodels.tsa.arima.model.ARIMA (note the .\n",
      "between arima and model) and\n",
      "statsmodels.tsa.SARIMAX. These will be removed after the 0.12 release.\n",
      "\n",
      "statsmodels.tsa.arima.model.ARIMA makes use of the statespace framework and\n",
      "is both well tested and maintained.\n",
      "\n",
      "To silence this warning and continue using ARMA and ARIMA until they are\n",
      "removed, use:\n",
      "\n",
      "import warnings\n",
      "warnings.filterwarnings('ignore', 'statsmodels.tsa.arima_model.ARMA',\n",
      "                        FutureWarning)\n",
      "warnings.filterwarnings('ignore', 'statsmodels.tsa.arima_model.ARIMA',\n",
      "                        FutureWarning)\n",
      "\n",
      "  warnings.warn(ARIMA_DEPRECATION_WARN, FutureWarning)\n",
      "C:\\Users\\Yung\\Anaconda3\\envs\\fitsnbits\\lib\\site-packages\\statsmodels\\tsa\\arima_model.py:472: FutureWarning: \n",
      "statsmodels.tsa.arima_model.ARMA and statsmodels.tsa.arima_model.ARIMA have\n",
      "been deprecated in favor of statsmodels.tsa.arima.model.ARIMA (note the .\n",
      "between arima and model) and\n",
      "statsmodels.tsa.SARIMAX. These will be removed after the 0.12 release.\n",
      "\n",
      "statsmodels.tsa.arima.model.ARIMA makes use of the statespace framework and\n",
      "is both well tested and maintained.\n",
      "\n",
      "To silence this warning and continue using ARMA and ARIMA until they are\n",
      "removed, use:\n",
      "\n",
      "import warnings\n",
      "warnings.filterwarnings('ignore', 'statsmodels.tsa.arima_model.ARMA',\n",
      "                        FutureWarning)\n",
      "warnings.filterwarnings('ignore', 'statsmodels.tsa.arima_model.ARIMA',\n",
      "                        FutureWarning)\n",
      "\n",
      "  warnings.warn(ARIMA_DEPRECATION_WARN, FutureWarning)\n"
     ]
    },
    {
     "data": {
      "text/plain": [
       "(1, 2)"
      ]
     },
     "execution_count": 131,
     "metadata": {},
     "output_type": "execute_result"
    }
   ],
   "source": [
    "\n",
    "import statsmodels.api as sm\n",
    "import numpy as np\n",
    "arparams = np.array([.75, -.25])\n",
    "maparams = np.array([.65, .35])\n",
    "arparams = np.r_[1, -arparams]\n",
    "maparam = np.r_[1, maparams]\n",
    "nobs = 250\n",
    "np.random.seed(2014)\n",
    "y = arma_generate_sample(arparams, maparams, nobs)\n",
    "res = sm.tsa.arma_order_select_ic(y, ic=[\"aic\", \"bic\"], trend=\"nc\")\n",
    "res.aic_min_order\n",
    "res.bic_min_order"
   ]
  },
  {
   "cell_type": "code",
   "execution_count": null,
   "metadata": {},
   "outputs": [],
   "source": []
  },
  {
   "cell_type": "code",
   "execution_count": null,
   "metadata": {},
   "outputs": [],
   "source": []
  },
  {
   "cell_type": "code",
   "execution_count": null,
   "metadata": {},
   "outputs": [],
   "source": []
  },
  {
   "cell_type": "code",
   "execution_count": null,
   "metadata": {},
   "outputs": [],
   "source": []
  },
  {
   "cell_type": "code",
   "execution_count": null,
   "metadata": {},
   "outputs": [],
   "source": []
  },
  {
   "cell_type": "code",
   "execution_count": null,
   "metadata": {},
   "outputs": [],
   "source": []
  },
  {
   "cell_type": "code",
   "execution_count": null,
   "metadata": {},
   "outputs": [],
   "source": [
    "arima_model()"
   ]
  },
  {
   "cell_type": "code",
   "execution_count": 44,
   "metadata": {},
   "outputs": [
    {
     "name": "stderr",
     "output_type": "stream",
     "text": [
      "C:\\Users\\Yung\\Anaconda3\\envs\\fitsnbits\\lib\\site-packages\\statsmodels\\tsa\\arima_model.py:472: FutureWarning: \n",
      "statsmodels.tsa.arima_model.ARMA and statsmodels.tsa.arima_model.ARIMA have\n",
      "been deprecated in favor of statsmodels.tsa.arima.model.ARIMA (note the .\n",
      "between arima and model) and\n",
      "statsmodels.tsa.SARIMAX. These will be removed after the 0.12 release.\n",
      "\n",
      "statsmodels.tsa.arima.model.ARIMA makes use of the statespace framework and\n",
      "is both well tested and maintained.\n",
      "\n",
      "To silence this warning and continue using ARMA and ARIMA until they are\n",
      "removed, use:\n",
      "\n",
      "import warnings\n",
      "warnings.filterwarnings('ignore', 'statsmodels.tsa.arima_model.ARMA',\n",
      "                        FutureWarning)\n",
      "warnings.filterwarnings('ignore', 'statsmodels.tsa.arima_model.ARIMA',\n",
      "                        FutureWarning)\n",
      "\n",
      "  warnings.warn(ARIMA_DEPRECATION_WARN, FutureWarning)\n",
      "C:\\Users\\Yung\\Anaconda3\\envs\\fitsnbits\\lib\\site-packages\\statsmodels\\tsa\\arima_model.py:472: FutureWarning: \n",
      "statsmodels.tsa.arima_model.ARMA and statsmodels.tsa.arima_model.ARIMA have\n",
      "been deprecated in favor of statsmodels.tsa.arima.model.ARIMA (note the .\n",
      "between arima and model) and\n",
      "statsmodels.tsa.SARIMAX. These will be removed after the 0.12 release.\n",
      "\n",
      "statsmodels.tsa.arima.model.ARIMA makes use of the statespace framework and\n",
      "is both well tested and maintained.\n",
      "\n",
      "To silence this warning and continue using ARMA and ARIMA until they are\n",
      "removed, use:\n",
      "\n",
      "import warnings\n",
      "warnings.filterwarnings('ignore', 'statsmodels.tsa.arima_model.ARMA',\n",
      "                        FutureWarning)\n",
      "warnings.filterwarnings('ignore', 'statsmodels.tsa.arima_model.ARIMA',\n",
      "                        FutureWarning)\n",
      "\n",
      "  warnings.warn(ARIMA_DEPRECATION_WARN, FutureWarning)\n",
      "C:\\Users\\Yung\\Anaconda3\\envs\\fitsnbits\\lib\\site-packages\\statsmodels\\tsa\\arima_model.py:472: FutureWarning: \n",
      "statsmodels.tsa.arima_model.ARMA and statsmodels.tsa.arima_model.ARIMA have\n",
      "been deprecated in favor of statsmodels.tsa.arima.model.ARIMA (note the .\n",
      "between arima and model) and\n",
      "statsmodels.tsa.SARIMAX. These will be removed after the 0.12 release.\n",
      "\n",
      "statsmodels.tsa.arima.model.ARIMA makes use of the statespace framework and\n",
      "is both well tested and maintained.\n",
      "\n",
      "To silence this warning and continue using ARMA and ARIMA until they are\n",
      "removed, use:\n",
      "\n",
      "import warnings\n",
      "warnings.filterwarnings('ignore', 'statsmodels.tsa.arima_model.ARMA',\n",
      "                        FutureWarning)\n",
      "warnings.filterwarnings('ignore', 'statsmodels.tsa.arima_model.ARIMA',\n",
      "                        FutureWarning)\n",
      "\n",
      "  warnings.warn(ARIMA_DEPRECATION_WARN, FutureWarning)\n",
      "C:\\Users\\Yung\\Anaconda3\\envs\\fitsnbits\\lib\\site-packages\\statsmodels\\tsa\\arima_model.py:472: FutureWarning: \n",
      "statsmodels.tsa.arima_model.ARMA and statsmodels.tsa.arima_model.ARIMA have\n",
      "been deprecated in favor of statsmodels.tsa.arima.model.ARIMA (note the .\n",
      "between arima and model) and\n",
      "statsmodels.tsa.SARIMAX. These will be removed after the 0.12 release.\n",
      "\n",
      "statsmodels.tsa.arima.model.ARIMA makes use of the statespace framework and\n",
      "is both well tested and maintained.\n",
      "\n",
      "To silence this warning and continue using ARMA and ARIMA until they are\n",
      "removed, use:\n",
      "\n",
      "import warnings\n",
      "warnings.filterwarnings('ignore', 'statsmodels.tsa.arima_model.ARMA',\n",
      "                        FutureWarning)\n",
      "warnings.filterwarnings('ignore', 'statsmodels.tsa.arima_model.ARIMA',\n",
      "                        FutureWarning)\n",
      "\n",
      "  warnings.warn(ARIMA_DEPRECATION_WARN, FutureWarning)\n",
      "C:\\Users\\Yung\\Anaconda3\\envs\\fitsnbits\\lib\\site-packages\\statsmodels\\tsa\\arima_model.py:472: FutureWarning: \n",
      "statsmodels.tsa.arima_model.ARMA and statsmodels.tsa.arima_model.ARIMA have\n",
      "been deprecated in favor of statsmodels.tsa.arima.model.ARIMA (note the .\n",
      "between arima and model) and\n",
      "statsmodels.tsa.SARIMAX. These will be removed after the 0.12 release.\n",
      "\n",
      "statsmodels.tsa.arima.model.ARIMA makes use of the statespace framework and\n",
      "is both well tested and maintained.\n",
      "\n",
      "To silence this warning and continue using ARMA and ARIMA until they are\n",
      "removed, use:\n",
      "\n",
      "import warnings\n",
      "warnings.filterwarnings('ignore', 'statsmodels.tsa.arima_model.ARMA',\n",
      "                        FutureWarning)\n",
      "warnings.filterwarnings('ignore', 'statsmodels.tsa.arima_model.ARIMA',\n",
      "                        FutureWarning)\n",
      "\n",
      "  warnings.warn(ARIMA_DEPRECATION_WARN, FutureWarning)\n",
      "C:\\Users\\Yung\\Anaconda3\\envs\\fitsnbits\\lib\\site-packages\\statsmodels\\tsa\\arima_model.py:472: FutureWarning: \n",
      "statsmodels.tsa.arima_model.ARMA and statsmodels.tsa.arima_model.ARIMA have\n",
      "been deprecated in favor of statsmodels.tsa.arima.model.ARIMA (note the .\n",
      "between arima and model) and\n",
      "statsmodels.tsa.SARIMAX. These will be removed after the 0.12 release.\n",
      "\n",
      "statsmodels.tsa.arima.model.ARIMA makes use of the statespace framework and\n",
      "is both well tested and maintained.\n",
      "\n",
      "To silence this warning and continue using ARMA and ARIMA until they are\n",
      "removed, use:\n",
      "\n",
      "import warnings\n",
      "warnings.filterwarnings('ignore', 'statsmodels.tsa.arima_model.ARMA',\n",
      "                        FutureWarning)\n",
      "warnings.filterwarnings('ignore', 'statsmodels.tsa.arima_model.ARIMA',\n",
      "                        FutureWarning)\n",
      "\n",
      "  warnings.warn(ARIMA_DEPRECATION_WARN, FutureWarning)\n",
      "C:\\Users\\Yung\\Anaconda3\\envs\\fitsnbits\\lib\\site-packages\\statsmodels\\tsa\\arima_model.py:472: FutureWarning: \n",
      "statsmodels.tsa.arima_model.ARMA and statsmodels.tsa.arima_model.ARIMA have\n",
      "been deprecated in favor of statsmodels.tsa.arima.model.ARIMA (note the .\n",
      "between arima and model) and\n",
      "statsmodels.tsa.SARIMAX. These will be removed after the 0.12 release.\n",
      "\n",
      "statsmodels.tsa.arima.model.ARIMA makes use of the statespace framework and\n",
      "is both well tested and maintained.\n",
      "\n",
      "To silence this warning and continue using ARMA and ARIMA until they are\n",
      "removed, use:\n",
      "\n",
      "import warnings\n",
      "warnings.filterwarnings('ignore', 'statsmodels.tsa.arima_model.ARMA',\n",
      "                        FutureWarning)\n",
      "warnings.filterwarnings('ignore', 'statsmodels.tsa.arima_model.ARIMA',\n",
      "                        FutureWarning)\n",
      "\n",
      "  warnings.warn(ARIMA_DEPRECATION_WARN, FutureWarning)\n",
      "C:\\Users\\Yung\\Anaconda3\\envs\\fitsnbits\\lib\\site-packages\\statsmodels\\tsa\\arima_model.py:472: FutureWarning: \n",
      "statsmodels.tsa.arima_model.ARMA and statsmodels.tsa.arima_model.ARIMA have\n",
      "been deprecated in favor of statsmodels.tsa.arima.model.ARIMA (note the .\n",
      "between arima and model) and\n",
      "statsmodels.tsa.SARIMAX. These will be removed after the 0.12 release.\n",
      "\n",
      "statsmodels.tsa.arima.model.ARIMA makes use of the statespace framework and\n",
      "is both well tested and maintained.\n",
      "\n",
      "To silence this warning and continue using ARMA and ARIMA until they are\n",
      "removed, use:\n",
      "\n",
      "import warnings\n",
      "warnings.filterwarnings('ignore', 'statsmodels.tsa.arima_model.ARMA',\n",
      "                        FutureWarning)\n",
      "warnings.filterwarnings('ignore', 'statsmodels.tsa.arima_model.ARIMA',\n",
      "                        FutureWarning)\n",
      "\n",
      "  warnings.warn(ARIMA_DEPRECATION_WARN, FutureWarning)\n"
     ]
    },
    {
     "data": {
      "text/plain": [
       "(1, 2)"
      ]
     },
     "execution_count": 44,
     "metadata": {},
     "output_type": "execute_result"
    }
   ],
   "source": [
    "from statsmodels.tsa.arima_process import arma_generate_sample\n",
    "import statsmodels.api as sm\n",
    "import numpy as np\n",
    "arparams = np.array([.75, -.25])\n",
    "maparams = np.array([.65, .35])\n",
    "arparams = np.r_[1, -arparams]\n",
    "maparam = np.r_[1, maparams]\n",
    "nobs = 250\n",
    "np.random.seed(2014)\n",
    "y = arma_generate_sample(arparams, maparams, nobs)\n",
    "res = sm.tsa.arma_order_select_ic(y, ic=[\"aic\", \"bic\"], trend=\"nc\")\n",
    "res.aic_min_order\n",
    "res.bic_min_order"
   ]
  },
  {
   "cell_type": "code",
   "execution_count": null,
   "metadata": {},
   "outputs": [],
   "source": []
  },
  {
   "cell_type": "code",
   "execution_count": null,
   "metadata": {},
   "outputs": [],
   "source": []
  },
  {
   "cell_type": "code",
   "execution_count": null,
   "metadata": {},
   "outputs": [],
   "source": []
  },
  {
   "cell_type": "code",
   "execution_count": null,
   "metadata": {},
   "outputs": [],
   "source": []
  },
  {
   "cell_type": "code",
   "execution_count": null,
   "metadata": {},
   "outputs": [],
   "source": []
  },
  {
   "cell_type": "code",
   "execution_count": 13,
   "metadata": {},
   "outputs": [
    {
     "name": "stdout",
     "output_type": "stream",
     "text": [
      "<class 'numpy.ndarray'>\n",
      "<class 'numpy.ndarray'>\n",
      "<class 'numpy.ndarray'>\n"
     ]
    },
    {
     "name": "stderr",
     "output_type": "stream",
     "text": [
      "C:\\Users\\Yung\\Anaconda3\\envs\\fitsnbits\\lib\\site-packages\\statsmodels\\tsa\\stattools.py:657: FutureWarning: The default number of lags is changing from 40 tomin(int(10 * np.log10(nobs)), nobs - 1) after 0.12is released. Set the number of lags to an integer to  silence this warning.\n",
      "  FutureWarning,\n",
      "C:\\Users\\Yung\\Anaconda3\\envs\\fitsnbits\\lib\\site-packages\\statsmodels\\tsa\\stattools.py:666: FutureWarning: fft=True will become the default after the release of the 0.12 release of statsmodels. To suppress this warning, explicitly set fft=False.\n",
      "  FutureWarning,\n",
      "C:\\Users\\Yung\\Anaconda3\\envs\\fitsnbits\\lib\\site-packages\\statsmodels\\tsa\\stattools.py:657: FutureWarning: The default number of lags is changing from 40 tomin(int(10 * np.log10(nobs)), nobs - 1) after 0.12is released. Set the number of lags to an integer to  silence this warning.\n",
      "  FutureWarning,\n",
      "C:\\Users\\Yung\\Anaconda3\\envs\\fitsnbits\\lib\\site-packages\\statsmodels\\tsa\\stattools.py:666: FutureWarning: fft=True will become the default after the release of the 0.12 release of statsmodels. To suppress this warning, explicitly set fft=False.\n",
      "  FutureWarning,\n",
      "C:\\Users\\Yung\\Anaconda3\\envs\\fitsnbits\\lib\\site-packages\\statsmodels\\tsa\\stattools.py:657: FutureWarning: The default number of lags is changing from 40 tomin(int(10 * np.log10(nobs)), nobs - 1) after 0.12is released. Set the number of lags to an integer to  silence this warning.\n",
      "  FutureWarning,\n",
      "C:\\Users\\Yung\\Anaconda3\\envs\\fitsnbits\\lib\\site-packages\\statsmodels\\tsa\\stattools.py:666: FutureWarning: fft=True will become the default after the release of the 0.12 release of statsmodels. To suppress this warning, explicitly set fft=False.\n",
      "  FutureWarning,\n"
     ]
    },
    {
     "data": {
      "image/png": "[encoded data removed]",
      "text/plain": [
       "<Figure size 432x288 with 1 Axes>"
      ]
     },
     "metadata": {
      "needs_background": "light"
     },
     "output_type": "display_data"
    }
   ],
   "source": [
    "for symbol in symbols:\n",
    "    filepath = \"../data/{}_daily01.csv\".format(symbol)\n",
    "    stock_df = pd.read_csv(filepath)\n",
    "    stock_df = stock_df[(stock_df.to_datetime > analysis_date_start) & (stock_df.to_datetime < analysis_date_end)][pricetype]\n",
    "    acf_result = acf(stock_df)\n",
    "    print(type(acf_result))\n",
    "    plt.plot(acf_result)\n",
    "#     plot_title = \"{} ACF and PACF\".format(symbol)\n",
    "#     fig, ax = plt.subplots(1,2, figsize=(9,6))\n",
    "#     plot_acf(stock_df.values, ax=ax[0]);\n",
    "#     plot_pacf(stock_df.values, ax=ax[1]);\n",
    "#     fig.suptitle(plot_title, size=18)"
   ]
  },
  {
   "cell_type": "code",
   "execution_count": 28,
   "metadata": {},
   "outputs": [
    {
     "name": "stdout",
     "output_type": "stream",
     "text": [
      "<class 'tuple'>\n",
      "(41,)\n",
      "[ 1.00000000e+00  9.69889222e-01  3.10493108e-02  1.27593124e-02\n",
      " -7.61310292e-03  9.13116680e-03 -1.07554083e-03 -4.39077395e-04\n",
      " -3.44250352e-02 -4.18381161e-03 -2.84199365e-02  5.05579508e-02\n",
      " -2.11369744e-02 -3.39454063e-02  1.40001132e-02  1.33979489e-02\n",
      " -3.67155540e-02 -4.88355707e-02  4.39294617e-02  2.26902390e-02\n",
      "  2.36965710e-02  1.22318954e-03 -3.87526898e-02  1.96551049e-02\n",
      "  2.91359818e-02  3.90655524e-05  8.56103129e-03  3.86883899e-02\n",
      " -8.48831380e-03 -5.88035645e-02  8.52226351e-02 -1.76684073e-02\n",
      "  1.23886459e-02  1.24861218e-02 -6.60061268e-03 -2.71455308e-02\n",
      " -3.51353040e-02  5.21070203e-02 -3.74670394e-02  2.96713775e-02\n",
      "  1.46152344e-02]\n",
      "(41, 2)\n",
      "[[ 1.          1.        ]\n",
      " [ 0.84593022  1.09384823]\n",
      " [-0.0929097   0.15500832]\n",
      " [-0.11119969  0.13671832]\n",
      " [-0.13157211  0.1163459 ]\n",
      " [-0.11482784  0.13309017]\n",
      " [-0.12503455  0.12288347]\n",
      " [-0.12439808  0.12351993]\n",
      " [-0.15838404  0.08953397]\n",
      " [-0.12814282  0.11977519]\n",
      " [-0.15237894  0.09553907]\n",
      " [-0.07340106  0.17451696]\n",
      " [-0.14509598  0.10282203]\n",
      " [-0.15790441  0.0900136 ]\n",
      " [-0.10995889  0.13795912]\n",
      " [-0.11056106  0.13735696]\n",
      " [-0.16067456  0.08724345]\n",
      " [-0.17279458  0.07512344]\n",
      " [-0.08002954  0.16788847]\n",
      " [-0.10126877  0.14664925]\n",
      " [-0.10026244  0.14765558]\n",
      " [-0.12273582  0.1251822 ]\n",
      " [-0.1627117   0.08520632]\n",
      " [-0.1043039   0.14361411]\n",
      " [-0.09482302  0.15309499]\n",
      " [-0.12391994  0.12399807]\n",
      " [-0.11539798  0.13252004]\n",
      " [-0.08527062  0.1626474 ]\n",
      " [-0.13244732  0.11547069]\n",
      " [-0.18276257  0.06515544]\n",
      " [-0.03873637  0.20918164]\n",
      " [-0.14162741  0.1062906 ]\n",
      " [-0.11157036  0.13634765]\n",
      " [-0.11147288  0.13644513]\n",
      " [-0.13055962  0.11735839]\n",
      " [-0.15110454  0.09681348]\n",
      " [-0.15909431  0.0888237 ]\n",
      " [-0.07185199  0.17606603]\n",
      " [-0.16142605  0.08649197]\n",
      " [-0.09428763  0.15363038]\n",
      " [-0.10934377  0.13857424]]\n",
      "<class 'tuple'>\n",
      "(41,)\n",
      "[ 1.00000000e+00  9.81297671e-01 -9.88866611e-04  3.07480732e-02\n",
      "  3.61657240e-04  1.86015487e-02 -3.71506029e-02  1.41442349e-02\n",
      " -1.82986526e-02 -9.70555506e-04 -4.68346240e-02  1.21709141e-02\n",
      "  3.37132022e-03  1.23470386e-02 -1.74830501e-02  1.26567686e-02\n",
      " -3.74123993e-03 -7.32901895e-02  9.51897011e-02  2.47627683e-02\n",
      "  9.02326974e-03 -2.10538836e-02 -1.55617650e-02 -1.93842985e-03\n",
      " -2.43781481e-03 -4.50160949e-02  1.89960309e-02  3.26620171e-03\n",
      " -3.31087129e-02 -6.45375050e-02  3.76638826e-03 -3.44723102e-02\n",
      "  8.62714795e-03 -2.41624485e-02 -1.93217760e-02 -1.74976870e-02\n",
      "  6.27033159e-03  1.04873674e-02 -2.19541428e-02 -5.11612785e-03\n",
      " -1.88254759e-02]\n",
      "(41, 2)\n",
      "[[ 1.          1.        ]\n",
      " [ 0.85733866  1.10525668]\n",
      " [-0.12494787  0.12297014]\n",
      " [-0.09321093  0.15470708]\n",
      " [-0.12359735  0.12432066]\n",
      " [-0.10535746  0.14256056]\n",
      " [-0.16110961  0.0868084 ]\n",
      " [-0.10981477  0.13810324]\n",
      " [-0.14225766  0.10566035]\n",
      " [-0.12492956  0.12298845]\n",
      " [-0.17079363  0.07712438]\n",
      " [-0.11178809  0.13612992]\n",
      " [-0.12058769  0.12733033]\n",
      " [-0.11161197  0.13630605]\n",
      " [-0.14144206  0.10647596]\n",
      " [-0.11130224  0.13661578]\n",
      " [-0.12770025  0.12021777]\n",
      " [-0.1972492   0.05066882]\n",
      " [-0.02876931  0.21914871]\n",
      " [-0.09919624  0.14872177]\n",
      " [-0.11493574  0.13298228]\n",
      " [-0.14501289  0.10290512]\n",
      " [-0.13952077  0.10839724]\n",
      " [-0.12589744  0.12202058]\n",
      " [-0.12639682  0.12152119]\n",
      " [-0.1689751   0.07894291]\n",
      " [-0.10496298  0.14295504]\n",
      " [-0.1206928   0.12722521]\n",
      " [-0.15706772  0.09085029]\n",
      " [-0.18849651  0.0594215 ]\n",
      " [-0.12019262  0.12772539]\n",
      " [-0.15843132  0.0894867 ]\n",
      " [-0.11533186  0.13258615]\n",
      " [-0.14812145  0.09979656]\n",
      " [-0.14328078  0.10463723]\n",
      " [-0.14145669  0.10646132]\n",
      " [-0.11768867  0.13022934]\n",
      " [-0.11347164  0.13444637]\n",
      " [-0.14591315  0.10200486]\n",
      " [-0.12907513  0.11884288]\n",
      " [-0.14278448  0.10513353]]\n",
      "<class 'tuple'>\n",
      "(41,)\n",
      "[ 1.00000000e+00  9.83874078e-01  1.63039457e-02  1.92179080e-02\n",
      " -9.29417892e-03  2.12052499e-02 -1.40853628e-03 -4.32056465e-03\n",
      "  3.82241703e-02  3.84294353e-02 -1.99592703e-02  1.06056166e-02\n",
      " -2.66485695e-02  2.61531737e-02  9.02918451e-03 -1.30747934e-02\n",
      " -5.34260046e-02 -7.51651014e-02  6.82659559e-02 -5.43163682e-02\n",
      " -3.24138560e-02  3.67258152e-02 -2.24465989e-02 -4.02915924e-02\n",
      " -7.07936980e-03 -1.48454056e-02  3.15367229e-04  2.64864267e-02\n",
      " -4.43443849e-02 -8.29112452e-02  3.93562867e-02 -2.22375264e-02\n",
      " -1.64996076e-02  4.21682433e-02  9.31597216e-03  2.41523141e-02\n",
      " -1.24688886e-02  6.03528145e-02 -1.20458375e-02 -2.55650548e-02\n",
      " -8.05458059e-03]\n",
      "(41, 2)\n",
      "[[ 1.          1.        ]\n",
      " [ 0.85991507  1.10783308]\n",
      " [-0.10765506  0.14026295]\n",
      " [-0.1047411   0.14317691]\n",
      " [-0.13325319  0.11466483]\n",
      " [-0.10275376  0.14516426]\n",
      " [-0.12536754  0.12255047]\n",
      " [-0.12827957  0.11963844]\n",
      " [-0.08573484  0.16218318]\n",
      " [-0.08552957  0.16238844]\n",
      " [-0.14391828  0.10399974]\n",
      " [-0.11335339  0.13456462]\n",
      " [-0.15060758  0.09731044]\n",
      " [-0.09780583  0.15011218]\n",
      " [-0.11492982  0.13298819]\n",
      " [-0.1370338   0.11088421]\n",
      " [-0.17738501  0.070533  ]\n",
      " [-0.19912411  0.04879391]\n",
      " [-0.05569305  0.19222496]\n",
      " [-0.17827537  0.06964264]\n",
      " [-0.15637286  0.09154515]\n",
      " [-0.08723319  0.16068482]\n",
      " [-0.14640561  0.10151241]\n",
      " [-0.1642506   0.08366741]\n",
      " [-0.13103838  0.11687964]\n",
      " [-0.13880441  0.1091136 ]\n",
      " [-0.12364364  0.12427437]\n",
      " [-0.09747258  0.15044543]\n",
      " [-0.16830339  0.07961462]\n",
      " [-0.20687025  0.04104776]\n",
      " [-0.08460272  0.16331529]\n",
      " [-0.14619653  0.10172148]\n",
      " [-0.14045861  0.1074594 ]\n",
      " [-0.08179076  0.16612725]\n",
      " [-0.11464303  0.13327498]\n",
      " [-0.09980669  0.14811132]\n",
      " [-0.1364279   0.11149012]\n",
      " [-0.06360619  0.18431182]\n",
      " [-0.13600484  0.11191317]\n",
      " [-0.14952406  0.09839395]\n",
      " [-0.13201359  0.11590443]]\n"
     ]
    },
    {
     "name": "stderr",
     "output_type": "stream",
     "text": [
      "C:\\Users\\Yung\\Anaconda3\\envs\\fitsnbits\\lib\\site-packages\\statsmodels\\tsa\\stattools.py:1021: FutureWarning: The default number of lags is changing from 40 tomin(int(10 * np.log10(nobs)), nobs // 2 - 1) after 0.12is released. Set the number of lags to an integer to  silence this warning.\n",
      "  FutureWarning,\n",
      "C:\\Users\\Yung\\Anaconda3\\envs\\fitsnbits\\lib\\site-packages\\statsmodels\\tsa\\stattools.py:1021: FutureWarning: The default number of lags is changing from 40 tomin(int(10 * np.log10(nobs)), nobs // 2 - 1) after 0.12is released. Set the number of lags to an integer to  silence this warning.\n",
      "  FutureWarning,\n",
      "C:\\Users\\Yung\\Anaconda3\\envs\\fitsnbits\\lib\\site-packages\\statsmodels\\tsa\\stattools.py:1021: FutureWarning: The default number of lags is changing from 40 tomin(int(10 * np.log10(nobs)), nobs // 2 - 1) after 0.12is released. Set the number of lags to an integer to  silence this warning.\n",
      "  FutureWarning,\n"
     ]
    },
    {
     "data": {
      "image/png": "[encoded data removed]",
      "text/plain": [
       "<Figure size 432x288 with 1 Axes>"
      ]
     },
     "metadata": {
      "needs_background": "light"
     },
     "output_type": "display_data"
    }
   ],
   "source": [
    "for symbol in symbols:\n",
    "    filepath = \"../data/{}_daily01.csv\".format(symbol)\n",
    "    stock_df = pd.read_csv(filepath)\n",
    "    stock_df = stock_df[(stock_df.to_datetime > analysis_date_start) & (stock_df.to_datetime < analysis_date_end)][pricetype]\n",
    "    pacf_result = pacf(stock_df, alpha=0.05)\n",
    "    print(type(pacf_result))\n",
    "    print(pacf_result[0].shape)\n",
    "    print(pacf_result[0])\n",
    "    print(pacf_result[1].shape)\n",
    "    print(pacf_result[1])\n",
    "    plt.plot(pacf_result[0])\n",
    "    plt.plot(pacf_result[1])"
   ]
  },
  {
   "cell_type": "code",
   "execution_count": 29,
   "metadata": {},
   "outputs": [],
   "source": [
    "def ARIMA_gridsearch(p, d_max:int, q_max:int, data, prediction_length):\n",
    "    return_list = [] #initialize return list\n",
    "    train_data_idx = len(data) - prediction_length\n",
    "    train = data[:train_data_idx] #slice train and test data\n",
    "    test = data[train_data_idx:]\n",
    "    d_range = range(0, d_max+1)\n",
    "    q_range = range(1, q_max+1)\n",
    "    for d in d_range:\n",
    "        for q in q_range:\n",
    "            model = ARIMA(train, order=(p,d,q)) #fit and predict\n",
    "            arima_model = model.fit()\n",
    "            model_prediction = arima_model.forecast(steps=prediction_length)\n",
    "            warning = arima_model.mle_retvals[\"warnflag\"]\n",
    "            convergence = arima_model.mle_retvals[\"converged\"]\n",
    "            rmse_result = np.sqrt(mean_squared_error(test, model_prediction)) #get rmse\n",
    "            return_list.append([p,d,q,convergence, warning, rmse_result])\n",
    "    return sorted(return_list, key=lambda x: (x[-1], x[-2], (x[-3]*-1))) #order by RMSE, no warning, and convergence"
   ]
  },
  {
   "cell_type": "code",
   "execution_count": 32,
   "metadata": {},
   "outputs": [
    {
     "name": "stdout",
     "output_type": "stream",
     "text": [
      "SPY\n",
      "[[4, 2, 1, True, 0, 2.364195222441467], [4, 2, 4, False, 1, 2.376068706060797], [4, 2, 2, True, 0, 2.380089872772744], [4, 2, 3, False, 1, 2.4460391708999296], [4, 3, 3, False, 1, 3.9086198126718372], [4, 3, 4, False, 1, 4.189635760763447], [4, 1, 4, False, 1, 4.925671652018947], [4, 1, 1, True, 0, 6.067742281246259], [4, 1, 2, False, 1, 6.1541845561440125], [4, 1, 3, False, 1, 6.281136047846952], [4, 0, 4, False, 1, 6.430454524063897], [4, 0, 2, False, 1, 7.022610546643211], [4, 0, 3, False, 1, 7.376284352611175], [4, 0, 1, True, 0, 7.94746935809074], [4, 3, 1, True, 0, 9.754326202553715], [4, 3, 2, True, 0, 10.4106753798811]]\n",
      "AAPL\n",
      "[[4, 2, 1, True, 0, 1.5256281211765224], [4, 2, 3, True, 0, 1.529443294207699], [4, 2, 4, True, 0, 1.5345266573716634], [4, 1, 3, False, 1, 1.5484746035480874], [4, 1, 2, False, 1, 1.603789046103891], [4, 1, 1, True, 0, 1.6051689375782199], [4, 1, 4, False, 1, 1.6437753262038601], [4, 2, 2, True, 0, 1.9640255022231319], [4, 3, 1, True, 0, 2.7856980035525103], [4, 3, 2, True, 0, 3.136034893086777], [4, 0, 4, False, 1, 3.3908416809725526], [4, 0, 3, False, 1, 3.3987287446077463], [4, 0, 1, False, 1, 3.434791592896277], [4, 0, 2, False, 1, 3.6138112830847775], [4, 3, 3, False, 1, 5.3717150577462816], [4, 3, 4, False, 1, 5.478716077082293]]\n",
      "MSFT\n",
      "[[4, 2, 3, True, 0, 1.691021881057861], [4, 2, 4, False, 1, 1.691555973361689], [4, 2, 2, True, 0, 1.6937909671628628], [4, 2, 1, True, 0, 1.7151251429051078], [4, 3, 4, False, 1, 3.3062881672196203], [4, 3, 3, False, 1, 4.506293982079514], [4, 1, 3, True, 0, 4.72281102587969], [4, 1, 2, False, 1, 4.906624991920067], [4, 1, 4, False, 1, 5.1438656002690735], [4, 0, 4, False, 1, 5.159635157917076], [4, 1, 1, True, 0, 5.213093052914141], [4, 0, 3, False, 1, 5.488412330049955], [4, 0, 1, True, 0, 5.500887729579904], [4, 0, 2, False, 1, 5.5993665067433005], [4, 3, 1, True, 0, 13.985118229726915], [4, 3, 2, True, 0, 14.738127310893752]]\n"
     ]
    }
   ],
   "source": [
    "for symbol in symbols:\n",
    "    filepath = \"../data/{}_daily01.csv\".format(symbol)\n",
    "    stock_df = pd.read_csv(filepath)\n",
    "    stock_df = stock_df[(stock_df.to_datetime > analysis_date_start) & (stock_df.to_datetime < analysis_date_end)][pricetype]\n",
    "    grid_result = ARIMA_gridsearch(4, 3, 4, stock_df.values, 30)\n",
    "    print(symbol)\n",
    "    print(grid_result)"
   ]
  },
  {
   "cell_type": "code",
   "execution_count": null,
   "metadata": {},
   "outputs": [],
   "source": []
  }
 ],
 "metadata": {
  "kernelspec": {
   "display_name": "learn-env",
   "language": "python",
   "name": "learn-env"
  },
  "language_info": {
   "codemirror_mode": {
    "name": "ipython",
    "version": 3
   },
   "file_extension": ".py",
   "mimetype": "text/x-python",
   "name": "python",
   "nbconvert_exporter": "python",
   "pygments_lexer": "ipython3",
   "version": "3.6.9"
  }
 },
 "nbformat": 4,
 "nbformat_minor": 4
}
