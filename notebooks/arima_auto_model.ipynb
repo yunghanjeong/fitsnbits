{
 "cells": [
  {
   "cell_type": "markdown",
   "metadata": {},
   "source": [
    "# Overview\n",
    "\n",
    "The objective of this notebook is to build a function that combines acf/pacf to arima gridsearch to automatically determine ARIMA model"
   ]
  },
  {
   "cell_type": "code",
   "execution_count": 7,
   "metadata": {},
   "outputs": [],
   "source": [
    "import pandas as pd\n",
    "import numpy as np\n",
    "import os\n",
    "from statsmodels.tsa.stattools import acf, pacf\n",
    "from statsmodels.tsa.arima.model import ARIMA\n",
    "from statsmodels.graphics.tsaplots import plot_acf, plot_pacf\n",
    "\n",
    "import warnings\n",
    "from statsmodels.tools.sm_exceptions import ConvergenceWarning\n",
    "warnings.simplefilter('ignore', ConvergenceWarning)\n",
    "warnings.simplefilter('ignore', category=UserWarning)\n",
    "\n",
    "from sklearn.metrics import mean_squared_error\n",
    "\n",
    "import matplotlib.pyplot as plt\n",
    "\n",
    "%matplotlib inline"
   ]
  },
  {
   "cell_type": "markdown",
   "metadata": {},
   "source": [
    "## Data Preparation"
   ]
  },
  {
   "cell_type": "code",
   "execution_count": 110,
   "metadata": {},
   "outputs": [],
   "source": [
    "symbols=[\"SPY\", \"AAPL\", \"MSFT\"]# , \"AMZN\", \"FB\", \"GOOGL\", \"GOOG\", \"BRK.B\", \"JNJ\", \"JPM\", \"V\"] #big 10 symbols to collect\n",
    "pricetype = \"close\"\n",
    "analysis_date_start = \"2019-01-04\"\n",
    "analysis_date_end = \"2020-01-01\""
   ]
  },
  {
   "cell_type": "code",
   "execution_count": 111,
   "metadata": {},
   "outputs": [],
   "source": [
    "filepath = \"../data/{}_daily01.csv\".format(\"SPY\")\n",
    "stock_df = pd.read_csv(filepath)\n",
    "stock_df = stock_df[(stock_df.to_datetime > analysis_date_start) & (stock_df.to_datetime < analysis_date_end)]"
   ]
  },
  {
   "cell_type": "code",
   "execution_count": 113,
   "metadata": {},
   "outputs": [],
   "source": [
    "stock_df[\"datetime\"] = stock_df[\"to_datetime\"]\n",
    "stock_df.drop(columns=\"to_datetime\", inplace=True)"
   ]
  },
  {
   "cell_type": "code",
   "execution_count": 115,
   "metadata": {},
   "outputs": [],
   "source": [
    "stock_df[\"datetime\"] = pd.to_datetime(stock_df[\"datetime\"])"
   ]
  },
  {
   "cell_type": "code",
   "execution_count": 116,
   "metadata": {},
   "outputs": [],
   "source": [
    "stock_df.index = stock_df.datetime"
   ]
  },
  {
   "cell_type": "code",
   "execution_count": 117,
   "metadata": {
    "scrolled": true
   },
   "outputs": [
    {
     "data": {
      "text/html": [
       "<div>\n",
       "<style scoped>\n",
       "    .dataframe tbody tr th:only-of-type {\n",
       "        vertical-align: middle;\n",
       "    }\n",
       "\n",
       "    .dataframe tbody tr th {\n",
       "        vertical-align: top;\n",
       "    }\n",
       "\n",
       "    .dataframe thead th {\n",
       "        text-align: right;\n",
       "    }\n",
       "</style>\n",
       "<table border=\"1\" class=\"dataframe\">\n",
       "  <thead>\n",
       "    <tr style=\"text-align: right;\">\n",
       "      <th></th>\n",
       "      <th>open</th>\n",
       "      <th>high</th>\n",
       "      <th>low</th>\n",
       "      <th>close</th>\n",
       "      <th>volume</th>\n",
       "      <th>datetime</th>\n",
       "    </tr>\n",
       "    <tr>\n",
       "      <th>datetime</th>\n",
       "      <th></th>\n",
       "      <th></th>\n",
       "      <th></th>\n",
       "      <th></th>\n",
       "      <th></th>\n",
       "      <th></th>\n",
       "    </tr>\n",
       "  </thead>\n",
       "  <tbody>\n",
       "    <tr>\n",
       "      <th>2019-01-04 01:00:00</th>\n",
       "      <td>247.59</td>\n",
       "      <td>253.11</td>\n",
       "      <td>247.17</td>\n",
       "      <td>252.39</td>\n",
       "      <td>142628830</td>\n",
       "      <td>2019-01-04 01:00:00</td>\n",
       "    </tr>\n",
       "    <tr>\n",
       "      <th>2019-01-07 01:00:00</th>\n",
       "      <td>252.69</td>\n",
       "      <td>255.95</td>\n",
       "      <td>251.69</td>\n",
       "      <td>254.38</td>\n",
       "      <td>103139100</td>\n",
       "      <td>2019-01-07 01:00:00</td>\n",
       "    </tr>\n",
       "    <tr>\n",
       "      <th>2019-01-08 01:00:00</th>\n",
       "      <td>256.82</td>\n",
       "      <td>257.31</td>\n",
       "      <td>254.00</td>\n",
       "      <td>256.77</td>\n",
       "      <td>102512587</td>\n",
       "      <td>2019-01-08 01:00:00</td>\n",
       "    </tr>\n",
       "    <tr>\n",
       "      <th>2019-01-09 01:00:00</th>\n",
       "      <td>257.56</td>\n",
       "      <td>258.91</td>\n",
       "      <td>256.19</td>\n",
       "      <td>257.97</td>\n",
       "      <td>95006554</td>\n",
       "      <td>2019-01-09 01:00:00</td>\n",
       "    </tr>\n",
       "    <tr>\n",
       "      <th>2019-01-10 01:00:00</th>\n",
       "      <td>256.26</td>\n",
       "      <td>259.16</td>\n",
       "      <td>255.50</td>\n",
       "      <td>258.88</td>\n",
       "      <td>96823923</td>\n",
       "      <td>2019-01-10 01:00:00</td>\n",
       "    </tr>\n",
       "    <tr>\n",
       "      <th>...</th>\n",
       "      <td>...</td>\n",
       "      <td>...</td>\n",
       "      <td>...</td>\n",
       "      <td>...</td>\n",
       "      <td>...</td>\n",
       "      <td>...</td>\n",
       "    </tr>\n",
       "    <tr>\n",
       "      <th>2019-12-24 01:00:00</th>\n",
       "      <td>321.47</td>\n",
       "      <td>321.52</td>\n",
       "      <td>320.90</td>\n",
       "      <td>321.23</td>\n",
       "      <td>20270007</td>\n",
       "      <td>2019-12-24 01:00:00</td>\n",
       "    </tr>\n",
       "    <tr>\n",
       "      <th>2019-12-26 01:00:00</th>\n",
       "      <td>321.65</td>\n",
       "      <td>322.95</td>\n",
       "      <td>321.64</td>\n",
       "      <td>322.94</td>\n",
       "      <td>31024188</td>\n",
       "      <td>2019-12-26 01:00:00</td>\n",
       "    </tr>\n",
       "    <tr>\n",
       "      <th>2019-12-27 01:00:00</th>\n",
       "      <td>323.74</td>\n",
       "      <td>323.80</td>\n",
       "      <td>322.28</td>\n",
       "      <td>322.86</td>\n",
       "      <td>42554820</td>\n",
       "      <td>2019-12-27 01:00:00</td>\n",
       "    </tr>\n",
       "    <tr>\n",
       "      <th>2019-12-30 01:00:00</th>\n",
       "      <td>322.95</td>\n",
       "      <td>323.10</td>\n",
       "      <td>320.55</td>\n",
       "      <td>321.08</td>\n",
       "      <td>49782730</td>\n",
       "      <td>2019-12-30 01:00:00</td>\n",
       "    </tr>\n",
       "    <tr>\n",
       "      <th>2019-12-31 01:00:00</th>\n",
       "      <td>320.53</td>\n",
       "      <td>322.13</td>\n",
       "      <td>320.15</td>\n",
       "      <td>321.86</td>\n",
       "      <td>57106998</td>\n",
       "      <td>2019-12-31 01:00:00</td>\n",
       "    </tr>\n",
       "  </tbody>\n",
       "</table>\n",
       "<p>250 rows × 6 columns</p>\n",
       "</div>"
      ],
      "text/plain": [
       "                       open    high     low   close     volume  \\\n",
       "datetime                                                         \n",
       "2019-01-04 01:00:00  247.59  253.11  247.17  252.39  142628830   \n",
       "2019-01-07 01:00:00  252.69  255.95  251.69  254.38  103139100   \n",
       "2019-01-08 01:00:00  256.82  257.31  254.00  256.77  102512587   \n",
       "2019-01-09 01:00:00  257.56  258.91  256.19  257.97   95006554   \n",
       "2019-01-10 01:00:00  256.26  259.16  255.50  258.88   96823923   \n",
       "...                     ...     ...     ...     ...        ...   \n",
       "2019-12-24 01:00:00  321.47  321.52  320.90  321.23   20270007   \n",
       "2019-12-26 01:00:00  321.65  322.95  321.64  322.94   31024188   \n",
       "2019-12-27 01:00:00  323.74  323.80  322.28  322.86   42554820   \n",
       "2019-12-30 01:00:00  322.95  323.10  320.55  321.08   49782730   \n",
       "2019-12-31 01:00:00  320.53  322.13  320.15  321.86   57106998   \n",
       "\n",
       "                               datetime  \n",
       "datetime                                 \n",
       "2019-01-04 01:00:00 2019-01-04 01:00:00  \n",
       "2019-01-07 01:00:00 2019-01-07 01:00:00  \n",
       "2019-01-08 01:00:00 2019-01-08 01:00:00  \n",
       "2019-01-09 01:00:00 2019-01-09 01:00:00  \n",
       "2019-01-10 01:00:00 2019-01-10 01:00:00  \n",
       "...                                 ...  \n",
       "2019-12-24 01:00:00 2019-12-24 01:00:00  \n",
       "2019-12-26 01:00:00 2019-12-26 01:00:00  \n",
       "2019-12-27 01:00:00 2019-12-27 01:00:00  \n",
       "2019-12-30 01:00:00 2019-12-30 01:00:00  \n",
       "2019-12-31 01:00:00 2019-12-31 01:00:00  \n",
       "\n",
       "[250 rows x 6 columns]"
      ]
     },
     "execution_count": 117,
     "metadata": {},
     "output_type": "execute_result"
    }
   ],
   "source": [
    "stock_df"
   ]
  },
  {
   "cell_type": "markdown",
   "metadata": {},
   "source": [
    "## Auto GridSearch Best ARIMA"
   ]
  },
  {
   "cell_type": "code",
   "execution_count": null,
   "metadata": {},
   "outputs": [],
   "source": [
    "# Generate "
   ]
  },
  {
   "cell_type": "code",
   "execution_count": null,
   "metadata": {},
   "outputs": [],
   "source": []
  },
  {
   "cell_type": "code",
   "execution_count": null,
   "metadata": {},
   "outputs": [],
   "source": []
  },
  {
   "cell_type": "code",
   "execution_count": null,
   "metadata": {},
   "outputs": [],
   "source": []
  },
  {
   "cell_type": "code",
   "execution_count": null,
   "metadata": {},
   "outputs": [],
   "source": []
  },
  {
   "cell_type": "code",
   "execution_count": null,
   "metadata": {},
   "outputs": [],
   "source": []
  },
  {
   "cell_type": "code",
   "execution_count": null,
   "metadata": {},
   "outputs": [],
   "source": []
  },
  {
   "cell_type": "code",
   "execution_count": null,
   "metadata": {},
   "outputs": [],
   "source": []
  },
  {
   "cell_type": "code",
   "execution_count": null,
   "metadata": {},
   "outputs": [],
   "source": []
  },
  {
   "cell_type": "code",
   "execution_count": null,
   "metadata": {},
   "outputs": [],
   "source": []
  },
  {
   "cell_type": "code",
   "execution_count": null,
   "metadata": {},
   "outputs": [],
   "source": []
  },
  {
   "cell_type": "code",
   "execution_count": null,
   "metadata": {},
   "outputs": [],
   "source": []
  },
  {
   "cell_type": "code",
   "execution_count": null,
   "metadata": {},
   "outputs": [],
   "source": []
  },
  {
   "cell_type": "code",
   "execution_count": null,
   "metadata": {},
   "outputs": [],
   "source": []
  },
  {
   "cell_type": "code",
   "execution_count": null,
   "metadata": {},
   "outputs": [],
   "source": []
  },
  {
   "cell_type": "code",
   "execution_count": null,
   "metadata": {},
   "outputs": [],
   "source": []
  },
  {
   "cell_type": "code",
   "execution_count": null,
   "metadata": {},
   "outputs": [],
   "source": []
  },
  {
   "cell_type": "code",
   "execution_count": 42,
   "metadata": {},
   "outputs": [
    {
     "data": {
      "text/plain": [
       "[<matplotlib.lines.Line2D at 0x1df9a0430c8>]"
      ]
     },
     "execution_count": 42,
     "metadata": {},
     "output_type": "execute_result"
    },
    {
     "data": {
      "image/png": "[encoded data removed]",
      "text/plain": [
       "<Figure size 432x288 with 1 Axes>"
      ]
     },
     "metadata": {
      "needs_background": "light"
     },
     "output_type": "display_data"
    }
   ],
   "source": [
    "plt.plot(test_values)"
   ]
  },
  {
   "cell_type": "code",
   "execution_count": 56,
   "metadata": {},
   "outputs": [
    {
     "data": {
      "text/plain": [
       "[<matplotlib.lines.Line2D at 0x1df9da64d08>]"
      ]
     },
     "execution_count": 56,
     "metadata": {},
     "output_type": "execute_result"
    },
    {
     "data": {
      "image/png": "[encoded data removed]",
      "text/plain": [
       "<Figure size 432x288 with 1 Axes>"
      ]
     },
     "metadata": {
      "needs_background": "light"
     },
     "output_type": "display_data"
    }
   ],
   "source": [
    "diff_test_values = pd.DataFrame(stock_df[pricetype].values[:25])\n",
    "diff_test_values = diff_test_values\n",
    "plt.plot(diff_test_values)"
   ]
  },
  {
   "cell_type": "code",
   "execution_count": null,
   "metadata": {},
   "outputs": [],
   "source": []
  },
  {
   "cell_type": "code",
   "execution_count": null,
   "metadata": {},
   "outputs": [],
   "source": []
  },
  {
   "cell_type": "code",
   "execution_count": 73,
   "metadata": {},
   "outputs": [],
   "source": [
    "model = ARIMA(test_values, order=(2,2,2)) #fit and predictarima_model = model.fit()\n",
    "arima_model = model.fit()\n",
    "model_prediction = arima_model.forecast(steps=5)"
   ]
  },
  {
   "cell_type": "code",
   "execution_count": 74,
   "metadata": {},
   "outputs": [
    {
     "data": {
      "text/plain": [
       "array([105.76119155, 105.89078098, 106.11395383, 106.23085007,\n",
       "       106.41044929])"
      ]
     },
     "execution_count": 74,
     "metadata": {},
     "output_type": "execute_result"
    }
   ],
   "source": [
    "model_prediction"
   ]
  },
  {
   "cell_type": "code",
   "execution_count": 81,
   "metadata": {
    "scrolled": false
   },
   "outputs": [
    {
     "data": {
      "text/plain": [
       "statsmodels.tsa.arima.model.ARIMAResultsWrapper"
      ]
     },
     "execution_count": 81,
     "metadata": {},
     "output_type": "execute_result"
    }
   ],
   "source": [
    "type(arima_model)"
   ]
  },
  {
   "cell_type": "code",
   "execution_count": null,
   "metadata": {},
   "outputs": [],
   "source": []
  },
  {
   "cell_type": "code",
   "execution_count": null,
   "metadata": {},
   "outputs": [],
   "source": []
  },
  {
   "cell_type": "code",
   "execution_count": null,
   "metadata": {},
   "outputs": [],
   "source": []
  },
  {
   "cell_type": "code",
   "execution_count": null,
   "metadata": {},
   "outputs": [],
   "source": []
  },
  {
   "cell_type": "code",
   "execution_count": 91,
   "metadata": {},
   "outputs": [],
   "source": [
    "from statsmodels.tsa.api import STLForecast\n",
    "from statsmodels.tsa.seasonal import STL"
   ]
  },
  {
   "cell_type": "code",
   "execution_count": 118,
   "metadata": {},
   "outputs": [
    {
     "data": {
      "text/plain": [
       "DatetimeIndex(['2019-01-04 01:00:00', '2019-01-07 01:00:00',\n",
       "               '2019-01-08 01:00:00', '2019-01-09 01:00:00',\n",
       "               '2019-01-10 01:00:00', '2019-01-11 01:00:00',\n",
       "               '2019-01-14 01:00:00', '2019-01-15 01:00:00',\n",
       "               '2019-01-16 01:00:00', '2019-01-17 01:00:00',\n",
       "               ...\n",
       "               '2019-12-17 01:00:00', '2019-12-18 01:00:00',\n",
       "               '2019-12-19 01:00:00', '2019-12-20 01:00:00',\n",
       "               '2019-12-23 01:00:00', '2019-12-24 01:00:00',\n",
       "               '2019-12-26 01:00:00', '2019-12-27 01:00:00',\n",
       "               '2019-12-30 01:00:00', '2019-12-31 01:00:00'],\n",
       "              dtype='datetime64[ns]', name='datetime', length=250, freq=None)"
      ]
     },
     "execution_count": 118,
     "metadata": {},
     "output_type": "execute_result"
    }
   ],
   "source": [
    "stock_df.index"
   ]
  },
  {
   "cell_type": "code",
   "execution_count": 119,
   "metadata": {
    "scrolled": true
   },
   "outputs": [
    {
     "data": {
      "text/plain": [
       "datetime\n",
       "2019-01-04 01:00:00    252.39\n",
       "2019-01-07 01:00:00    254.38\n",
       "2019-01-08 01:00:00    256.77\n",
       "2019-01-09 01:00:00    257.97\n",
       "2019-01-10 01:00:00    258.88\n",
       "2019-01-11 01:00:00    258.98\n",
       "2019-01-14 01:00:00    257.40\n",
       "2019-01-15 01:00:00    260.35\n",
       "2019-01-16 01:00:00    260.98\n",
       "2019-01-17 01:00:00    262.96\n",
       "2019-01-18 01:00:00    266.46\n",
       "2019-01-22 01:00:00    262.86\n",
       "2019-01-23 01:00:00    263.41\n",
       "2019-01-24 01:00:00    263.55\n",
       "2019-01-25 01:00:00    265.78\n",
       "2019-01-28 01:00:00    263.76\n",
       "2019-01-29 01:00:00    263.41\n",
       "2019-01-30 01:00:00    267.58\n",
       "2019-01-31 01:00:00    269.93\n",
       "2019-02-01 01:00:00    270.06\n",
       "2019-02-04 01:00:00    271.96\n",
       "2019-02-05 01:00:00    273.10\n",
       "2019-02-06 01:00:00    272.74\n",
       "2019-02-07 01:00:00    270.14\n",
       "2019-02-08 01:00:00    270.47\n",
       "2019-02-11 01:00:00    270.62\n",
       "2019-02-12 01:00:00    274.10\n",
       "2019-02-13 01:00:00    274.99\n",
       "2019-02-14 01:00:00    274.38\n",
       "2019-02-15 01:00:00    277.37\n",
       "2019-02-19 01:00:00    277.85\n",
       "2019-02-20 01:00:00    278.41\n",
       "2019-02-21 01:00:00    277.42\n",
       "2019-02-22 01:00:00    279.14\n",
       "2019-02-25 01:00:00    279.52\n",
       "2019-02-26 01:00:00    279.32\n",
       "2019-02-27 01:00:00    279.20\n",
       "2019-02-28 01:00:00    278.68\n",
       "2019-03-01 01:00:00    280.42\n",
       "2019-03-04 01:00:00    279.40\n",
       "Name: close, dtype: float64"
      ]
     },
     "execution_count": 119,
     "metadata": {},
     "output_type": "execute_result"
    }
   ],
   "source": [
    "test_values2 =stock_df[pricetype]\n",
    "test_values2[:40]"
   ]
  },
  {
   "cell_type": "code",
   "execution_count": 138,
   "metadata": {
    "scrolled": true
   },
   "outputs": [
    {
     "data": {
      "image/png": "[encoded data removed]",
      "text/plain": [
       "<Figure size 432x288 with 4 Axes>"
      ]
     },
     "metadata": {
      "needs_background": "light"
     },
     "output_type": "display_data"
    }
   ],
   "source": [
    "res = STL(test_values2.values, period=40).fit()\n",
    "res.plot()\n",
    "plt.show()"
   ]
  },
  {
   "cell_type": "code",
   "execution_count": 145,
   "metadata": {},
   "outputs": [],
   "source": [
    "stlf = STLForecast(test_values2.values, ARIMA, model_kwargs={\"order\": (2, 1, 2)},period=40)\n",
    "res = stlf.fit()\n",
    "forecasts = res.forecast(5)"
   ]
  },
  {
   "cell_type": "code",
   "execution_count": 146,
   "metadata": {
    "scrolled": false
   },
   "outputs": [
    {
     "data": {
      "text/plain": [
       "array([326.26776488, 325.37289933, 325.63848804, 326.85077111,\n",
       "       326.85995751])"
      ]
     },
     "execution_count": 146,
     "metadata": {},
     "output_type": "execute_result"
    }
   ],
   "source": [
    "forecasts"
   ]
  },
  {
   "cell_type": "code",
   "execution_count": null,
   "metadata": {},
   "outputs": [],
   "source": []
  },
  {
   "cell_type": "code",
   "execution_count": null,
   "metadata": {},
   "outputs": [],
   "source": []
  },
  {
   "cell_type": "code",
   "execution_count": null,
   "metadata": {},
   "outputs": [],
   "source": [
    "statsmodels.tsa.arima.model.ARIMA"
   ]
  },
  {
   "cell_type": "code",
   "execution_count": 132,
   "metadata": {
    "scrolled": false
   },
   "outputs": [
    {
     "name": "stderr",
     "output_type": "stream",
     "text": [
      "C:\\Users\\Yung\\Anaconda3\\envs\\fitsnbits\\lib\\site-packages\\statsmodels\\tsa\\arima_model.py:472: FutureWarning: \n",
      "statsmodels.tsa.arima_model.ARMA and statsmodels.tsa.arima_model.ARIMA have\n",
      "been deprecated in favor of statsmodels.tsa.arima.model.ARIMA (note the .\n",
      "between arima and model) and\n",
      "statsmodels.tsa.SARIMAX. These will be removed after the 0.12 release.\n",
      "\n",
      "statsmodels.tsa.arima.model.ARIMA makes use of the statespace framework and\n",
      "is both well tested and maintained.\n",
      "\n",
      "To silence this warning and continue using ARMA and ARIMA until they are\n",
      "removed, use:\n",
      "\n",
      "import warnings\n",
      "warnings.filterwarnings('ignore', 'statsmodels.tsa.arima_model.ARMA',\n",
      "                        FutureWarning)\n",
      "warnings.filterwarnings('ignore', 'statsmodels.tsa.arima_model.ARIMA',\n",
      "                        FutureWarning)\n",
      "\n",
      "  warnings.warn(ARIMA_DEPRECATION_WARN, FutureWarning)\n",
      "C:\\Users\\Yung\\Anaconda3\\envs\\fitsnbits\\lib\\site-packages\\statsmodels\\tsa\\arima_model.py:472: FutureWarning: \n",
      "statsmodels.tsa.arima_model.ARMA and statsmodels.tsa.arima_model.ARIMA have\n",
      "been deprecated in favor of statsmodels.tsa.arima.model.ARIMA (note the .\n",
      "between arima and model) and\n",
      "statsmodels.tsa.SARIMAX. These will be removed after the 0.12 release.\n",
      "\n",
      "statsmodels.tsa.arima.model.ARIMA makes use of the statespace framework and\n",
      "is both well tested and maintained.\n",
      "\n",
      "To silence this warning and continue using ARMA and ARIMA until they are\n",
      "removed, use:\n",
      "\n",
      "import warnings\n",
      "warnings.filterwarnings('ignore', 'statsmodels.tsa.arima_model.ARMA',\n",
      "                        FutureWarning)\n",
      "warnings.filterwarnings('ignore', 'statsmodels.tsa.arima_model.ARIMA',\n",
      "                        FutureWarning)\n",
      "\n",
      "  warnings.warn(ARIMA_DEPRECATION_WARN, FutureWarning)\n",
      "C:\\Users\\Yung\\Anaconda3\\envs\\fitsnbits\\lib\\site-packages\\statsmodels\\tsa\\arima_model.py:472: FutureWarning: \n",
      "statsmodels.tsa.arima_model.ARMA and statsmodels.tsa.arima_model.ARIMA have\n",
      "been deprecated in favor of statsmodels.tsa.arima.model.ARIMA (note the .\n",
      "between arima and model) and\n",
      "statsmodels.tsa.SARIMAX. These will be removed after the 0.12 release.\n",
      "\n",
      "statsmodels.tsa.arima.model.ARIMA makes use of the statespace framework and\n",
      "is both well tested and maintained.\n",
      "\n",
      "To silence this warning and continue using ARMA and ARIMA until they are\n",
      "removed, use:\n",
      "\n",
      "import warnings\n",
      "warnings.filterwarnings('ignore', 'statsmodels.tsa.arima_model.ARMA',\n",
      "                        FutureWarning)\n",
      "warnings.filterwarnings('ignore', 'statsmodels.tsa.arima_model.ARIMA',\n",
      "                        FutureWarning)\n",
      "\n",
      "  warnings.warn(ARIMA_DEPRECATION_WARN, FutureWarning)\n",
      "C:\\Users\\Yung\\Anaconda3\\envs\\fitsnbits\\lib\\site-packages\\statsmodels\\tsa\\arima_model.py:472: FutureWarning: \n",
      "statsmodels.tsa.arima_model.ARMA and statsmodels.tsa.arima_model.ARIMA have\n",
      "been deprecated in favor of statsmodels.tsa.arima.model.ARIMA (note the .\n",
      "between arima and model) and\n",
      "statsmodels.tsa.SARIMAX. These will be removed after the 0.12 release.\n",
      "\n",
      "statsmodels.tsa.arima.model.ARIMA makes use of the statespace framework and\n",
      "is both well tested and maintained.\n",
      "\n",
      "To silence this warning and continue using ARMA and ARIMA until they are\n",
      "removed, use:\n",
      "\n",
      "import warnings\n",
      "warnings.filterwarnings('ignore', 'statsmodels.tsa.arima_model.ARMA',\n",
      "                        FutureWarning)\n",
      "warnings.filterwarnings('ignore', 'statsmodels.tsa.arima_model.ARIMA',\n",
      "                        FutureWarning)\n",
      "\n",
      "  warnings.warn(ARIMA_DEPRECATION_WARN, FutureWarning)\n",
      "C:\\Users\\Yung\\Anaconda3\\envs\\fitsnbits\\lib\\site-packages\\statsmodels\\tsa\\arima_model.py:472: FutureWarning: \n",
      "statsmodels.tsa.arima_model.ARMA and statsmodels.tsa.arima_model.ARIMA have\n",
      "been deprecated in favor of statsmodels.tsa.arima.model.ARIMA (note the .\n",
      "between arima and model) and\n",
      "statsmodels.tsa.SARIMAX. These will be removed after the 0.12 release.\n",
      "\n",
      "statsmodels.tsa.arima.model.ARIMA makes use of the statespace framework and\n",
      "is both well tested and maintained.\n",
      "\n",
      "To silence this warning and continue using ARMA and ARIMA until they are\n",
      "removed, use:\n",
      "\n",
      "import warnings\n",
      "warnings.filterwarnings('ignore', 'statsmodels.tsa.arima_model.ARMA',\n",
      "                        FutureWarning)\n",
      "warnings.filterwarnings('ignore', 'statsmodels.tsa.arima_model.ARIMA',\n",
      "                        FutureWarning)\n",
      "\n",
      "  warnings.warn(ARIMA_DEPRECATION_WARN, FutureWarning)\n",
      "C:\\Users\\Yung\\Anaconda3\\envs\\fitsnbits\\lib\\site-packages\\statsmodels\\tsa\\arima_model.py:472: FutureWarning: \n",
      "statsmodels.tsa.arima_model.ARMA and statsmodels.tsa.arima_model.ARIMA have\n",
      "been deprecated in favor of statsmodels.tsa.arima.model.ARIMA (note the .\n",
      "between arima and model) and\n",
      "statsmodels.tsa.SARIMAX. These will be removed after the 0.12 release.\n",
      "\n",
      "statsmodels.tsa.arima.model.ARIMA makes use of the statespace framework and\n",
      "is both well tested and maintained.\n",
      "\n",
      "To silence this warning and continue using ARMA and ARIMA until they are\n",
      "removed, use:\n",
      "\n",
      "import warnings\n",
      "warnings.filterwarnings('ignore', 'statsmodels.tsa.arima_model.ARMA',\n",
      "                        FutureWarning)\n",
      "warnings.filterwarnings('ignore', 'statsmodels.tsa.arima_model.ARIMA',\n",
      "                        FutureWarning)\n",
      "\n",
      "  warnings.warn(ARIMA_DEPRECATION_WARN, FutureWarning)\n",
      "C:\\Users\\Yung\\Anaconda3\\envs\\fitsnbits\\lib\\site-packages\\statsmodels\\tsa\\arima_model.py:472: FutureWarning: \n",
      "statsmodels.tsa.arima_model.ARMA and statsmodels.tsa.arima_model.ARIMA have\n",
      "been deprecated in favor of statsmodels.tsa.arima.model.ARIMA (note the .\n",
      "between arima and model) and\n",
      "statsmodels.tsa.SARIMAX. These will be removed after the 0.12 release.\n",
      "\n",
      "statsmodels.tsa.arima.model.ARIMA makes use of the statespace framework and\n",
      "is both well tested and maintained.\n",
      "\n",
      "To silence this warning and continue using ARMA and ARIMA until they are\n",
      "removed, use:\n",
      "\n",
      "import warnings\n",
      "warnings.filterwarnings('ignore', 'statsmodels.tsa.arima_model.ARMA',\n",
      "                        FutureWarning)\n",
      "warnings.filterwarnings('ignore', 'statsmodels.tsa.arima_model.ARIMA',\n",
      "                        FutureWarning)\n",
      "\n",
      "  warnings.warn(ARIMA_DEPRECATION_WARN, FutureWarning)\n",
      "C:\\Users\\Yung\\Anaconda3\\envs\\fitsnbits\\lib\\site-packages\\statsmodels\\tsa\\arima_model.py:472: FutureWarning: \n",
      "statsmodels.tsa.arima_model.ARMA and statsmodels.tsa.arima_model.ARIMA have\n",
      "been deprecated in favor of statsmodels.tsa.arima.model.ARIMA (note the .\n",
      "between arima and model) and\n",
      "statsmodels.tsa.SARIMAX. These will be removed after the 0.12 release.\n",
      "\n",
      "statsmodels.tsa.arima.model.ARIMA makes use of the statespace framework and\n",
      "is both well tested and maintained.\n",
      "\n",
      "To silence this warning and continue using ARMA and ARIMA until they are\n",
      "removed, use:\n",
      "\n",
      "import warnings\n",
      "warnings.filterwarnings('ignore', 'statsmodels.tsa.arima_model.ARMA',\n",
      "                        FutureWarning)\n",
      "warnings.filterwarnings('ignore', 'statsmodels.tsa.arima_model.ARIMA',\n",
      "                        FutureWarning)\n",
      "\n",
      "  warnings.warn(ARIMA_DEPRECATION_WARN, FutureWarning)\n",
      "C:\\Users\\Yung\\Anaconda3\\envs\\fitsnbits\\lib\\site-packages\\statsmodels\\tsa\\arima_model.py:472: FutureWarning: \n",
      "statsmodels.tsa.arima_model.ARMA and statsmodels.tsa.arima_model.ARIMA have\n",
      "been deprecated in favor of statsmodels.tsa.arima.model.ARIMA (note the .\n",
      "between arima and model) and\n",
      "statsmodels.tsa.SARIMAX. These will be removed after the 0.12 release.\n",
      "\n",
      "statsmodels.tsa.arima.model.ARIMA makes use of the statespace framework and\n",
      "is both well tested and maintained.\n",
      "\n",
      "To silence this warning and continue using ARMA and ARIMA until they are\n",
      "removed, use:\n",
      "\n",
      "import warnings\n",
      "warnings.filterwarnings('ignore', 'statsmodels.tsa.arima_model.ARMA',\n",
      "                        FutureWarning)\n",
      "warnings.filterwarnings('ignore', 'statsmodels.tsa.arima_model.ARIMA',\n",
      "                        FutureWarning)\n",
      "\n",
      "  warnings.warn(ARIMA_DEPRECATION_WARN, FutureWarning)\n"
     ]
    },
    {
     "data": {
      "text/plain": [
       "(1, 1)"
      ]
     },
     "execution_count": 132,
     "metadata": {},
     "output_type": "execute_result"
    }
   ],
   "source": [
    "res = sm.tsa.arma_order_select_ic(test_values2.values, ic=[\"aic\", \"bic\"], trend=\"nc\")\n"
   ]
  },
  {
   "cell_type": "code",
   "execution_count": 134,
   "metadata": {},
   "outputs": [
    {
     "data": {
      "text/plain": [
       "(1, 1)"
      ]
     },
     "execution_count": 134,
     "metadata": {},
     "output_type": "execute_result"
    }
   ],
   "source": [
    "\n",
    "res.bic_min_order"
   ]
  },
  {
   "cell_type": "code",
   "execution_count": 133,
   "metadata": {},
   "outputs": [
    {
     "data": {
      "text/plain": [
       "(2, 1)"
      ]
     },
     "execution_count": 133,
     "metadata": {},
     "output_type": "execute_result"
    }
   ],
   "source": [
    "res.aic_min_order"
   ]
  },
  {
   "cell_type": "code",
   "execution_count": 100,
   "metadata": {
    "scrolled": true
   },
   "outputs": [],
   "source": [
    "stock_df.index = stock_df.to_datetime"
   ]
  },
  {
   "cell_type": "code",
   "execution_count": null,
   "metadata": {},
   "outputs": [],
   "source": []
  },
  {
   "cell_type": "code",
   "execution_count": 131,
   "metadata": {},
   "outputs": [
    {
     "name": "stderr",
     "output_type": "stream",
     "text": [
      "C:\\Users\\Yung\\Anaconda3\\envs\\fitsnbits\\lib\\site-packages\\statsmodels\\tsa\\arima_model.py:472: FutureWarning: \n",
      "statsmodels.tsa.arima_model.ARMA and statsmodels.tsa.arima_model.ARIMA have\n",
      "been deprecated in favor of statsmodels.tsa.arima.model.ARIMA (note the .\n",
      "between arima and model) and\n",
      "statsmodels.tsa.SARIMAX. These will be removed after the 0.12 release.\n",
      "\n",
      "statsmodels.tsa.arima.model.ARIMA makes use of the statespace framework and\n",
      "is both well tested and maintained.\n",
      "\n",
      "To silence this warning and continue using ARMA and ARIMA until they are\n",
      "removed, use:\n",
      "\n",
      "import warnings\n",
      "warnings.filterwarnings('ignore', 'statsmodels.tsa.arima_model.ARMA',\n",
      "                        FutureWarning)\n",
      "warnings.filterwarnings('ignore', 'statsmodels.tsa.arima_model.ARIMA',\n",
      "                        FutureWarning)\n",
      "\n",
      "  warnings.warn(ARIMA_DEPRECATION_WARN, FutureWarning)\n",
      "C:\\Users\\Yung\\Anaconda3\\envs\\fitsnbits\\lib\\site-packages\\statsmodels\\tsa\\arima_model.py:472: FutureWarning: \n",
      "statsmodels.tsa.arima_model.ARMA and statsmodels.tsa.arima_model.ARIMA have\n",
      "been deprecated in favor of statsmodels.tsa.arima.model.ARIMA (note the .\n",
      "between arima and model) and\n",
      "statsmodels.tsa.SARIMAX. These will be removed after the 0.12 release.\n",
      "\n",
      "statsmodels.tsa.arima.model.ARIMA makes use of the statespace framework and\n",
      "is both well tested and maintained.\n",
      "\n",
      "To silence this warning and continue using ARMA and ARIMA until they are\n",
      "removed, use:\n",
      "\n",
      "import warnings\n",
      "warnings.filterwarnings('ignore', 'statsmodels.tsa.arima_model.ARMA',\n",
      "                        FutureWarning)\n",
      "warnings.filterwarnings('ignore', 'statsmodels.tsa.arima_model.ARIMA',\n",
      "                        FutureWarning)\n",
      "\n",
      "  warnings.warn(ARIMA_DEPRECATION_WARN, FutureWarning)\n",
      "C:\\Users\\Yung\\Anaconda3\\envs\\fitsnbits\\lib\\site-packages\\statsmodels\\tsa\\arima_model.py:472: FutureWarning: \n",
      "statsmodels.tsa.arima_model.ARMA and statsmodels.tsa.arima_model.ARIMA have\n",
      "been deprecated in favor of statsmodels.tsa.arima.model.ARIMA (note the .\n",
      "between arima and model) and\n",
      "statsmodels.tsa.SARIMAX. These will be removed after the 0.12 release.\n",
      "\n",
      "statsmodels.tsa.arima.model.ARIMA makes use of the statespace framework and\n",
      "is both well tested and maintained.\n",
      "\n",
      "To silence this warning and continue using ARMA and ARIMA until they are\n",
      "removed, use:\n",
      "\n",
      "import warnings\n",
      "warnings.filterwarnings('ignore', 'statsmodels.tsa.arima_model.ARMA',\n",
      "                        FutureWarning)\n",
      "warnings.filterwarnings('ignore', 'statsmodels.tsa.arima_model.ARIMA',\n",
      "                        FutureWarning)\n",
      "\n",
      "  warnings.warn(ARIMA_DEPRECATION_WARN, FutureWarning)\n",
      "C:\\Users\\Yung\\Anaconda3\\envs\\fitsnbits\\lib\\site-packages\\statsmodels\\tsa\\arima_model.py:472: FutureWarning: \n",
      "statsmodels.tsa.arima_model.ARMA and statsmodels.tsa.arima_model.ARIMA have\n",
      "been deprecated in favor of statsmodels.tsa.arima.model.ARIMA (note the .\n",
      "between arima and model) and\n",
      "statsmodels.tsa.SARIMAX. These will be removed after the 0.12 release.\n",
      "\n",
      "statsmodels.tsa.arima.model.ARIMA makes use of the statespace framework and\n",
      "is both well tested and maintained.\n",
      "\n",
      "To silence this warning and continue using ARMA and ARIMA until they are\n",
      "removed, use:\n",
      "\n",
      "import warnings\n",
      "warnings.filterwarnings('ignore', 'statsmodels.tsa.arima_model.ARMA',\n",
      "                        FutureWarning)\n",
      "warnings.filterwarnings('ignore', 'statsmodels.tsa.arima_model.ARIMA',\n",
      "                        FutureWarning)\n",
      "\n",
      "  warnings.warn(ARIMA_DEPRECATION_WARN, FutureWarning)\n",
      "C:\\Users\\Yung\\Anaconda3\\envs\\fitsnbits\\lib\\site-packages\\statsmodels\\tsa\\arima_model.py:472: FutureWarning: \n",
      "statsmodels.tsa.arima_model.ARMA and statsmodels.tsa.arima_model.ARIMA have\n",
      "been deprecated in favor of statsmodels.tsa.arima.model.ARIMA (note the .\n",
      "between arima and model) and\n",
      "statsmodels.tsa.SARIMAX. These will be removed after the 0.12 release.\n",
      "\n",
      "statsmodels.tsa.arima.model.ARIMA makes use of the statespace framework and\n",
      "is both well tested and maintained.\n",
      "\n",
      "To silence this warning and continue using ARMA and ARIMA until they are\n",
      "removed, use:\n",
      "\n",
      "import warnings\n",
      "warnings.filterwarnings('ignore', 'statsmodels.tsa.arima_model.ARMA',\n",
      "                        FutureWarning)\n",
      "warnings.filterwarnings('ignore', 'statsmodels.tsa.arima_model.ARIMA',\n",
      "                        FutureWarning)\n",
      "\n",
      "  warnings.warn(ARIMA_DEPRECATION_WARN, FutureWarning)\n",
      "C:\\Users\\Yung\\Anaconda3\\envs\\fitsnbits\\lib\\site-packages\\statsmodels\\tsa\\arima_model.py:472: FutureWarning: \n",
      "statsmodels.tsa.arima_model.ARMA and statsmodels.tsa.arima_model.ARIMA have\n",
      "been deprecated in favor of statsmodels.tsa.arima.model.ARIMA (note the .\n",
      "between arima and model) and\n",
      "statsmodels.tsa.SARIMAX. These will be removed after the 0.12 release.\n",
      "\n",
      "statsmodels.tsa.arima.model.ARIMA makes use of the statespace framework and\n",
      "is both well tested and maintained.\n",
      "\n",
      "To silence this warning and continue using ARMA and ARIMA until they are\n",
      "removed, use:\n",
      "\n",
      "import warnings\n",
      "warnings.filterwarnings('ignore', 'statsmodels.tsa.arima_model.ARMA',\n",
      "                        FutureWarning)\n",
      "warnings.filterwarnings('ignore', 'statsmodels.tsa.arima_model.ARIMA',\n",
      "                        FutureWarning)\n",
      "\n",
      "  warnings.warn(ARIMA_DEPRECATION_WARN, FutureWarning)\n",
      "C:\\Users\\Yung\\Anaconda3\\envs\\fitsnbits\\lib\\site-packages\\statsmodels\\tsa\\arima_model.py:472: FutureWarning: \n",
      "statsmodels.tsa.arima_model.ARMA and statsmodels.tsa.arima_model.ARIMA have\n",
      "been deprecated in favor of statsmodels.tsa.arima.model.ARIMA (note the .\n",
      "between arima and model) and\n",
      "statsmodels.tsa.SARIMAX. These will be removed after the 0.12 release.\n",
      "\n",
      "statsmodels.tsa.arima.model.ARIMA makes use of the statespace framework and\n",
      "is both well tested and maintained.\n",
      "\n",
      "To silence this warning and continue using ARMA and ARIMA until they are\n",
      "removed, use:\n",
      "\n",
      "import warnings\n",
      "warnings.filterwarnings('ignore', 'statsmodels.tsa.arima_model.ARMA',\n",
      "                        FutureWarning)\n",
      "warnings.filterwarnings('ignore', 'statsmodels.tsa.arima_model.ARIMA',\n",
      "                        FutureWarning)\n",
      "\n",
      "  warnings.warn(ARIMA_DEPRECATION_WARN, FutureWarning)\n",
      "C:\\Users\\Yung\\Anaconda3\\envs\\fitsnbits\\lib\\site-packages\\statsmodels\\tsa\\arima_model.py:472: FutureWarning: \n",
      "statsmodels.tsa.arima_model.ARMA and statsmodels.tsa.arima_model.ARIMA have\n",
      "been deprecated in favor of statsmodels.tsa.arima.model.ARIMA (note the .\n",
      "between arima and model) and\n",
      "statsmodels.tsa.SARIMAX. These will be removed after the 0.12 release.\n",
      "\n",
      "statsmodels.tsa.arima.model.ARIMA makes use of the statespace framework and\n",
      "is both well tested and maintained.\n",
      "\n",
      "To silence this warning and continue using ARMA and ARIMA until they are\n",
      "removed, use:\n",
      "\n",
      "import warnings\n",
      "warnings.filterwarnings('ignore', 'statsmodels.tsa.arima_model.ARMA',\n",
      "                        FutureWarning)\n",
      "warnings.filterwarnings('ignore', 'statsmodels.tsa.arima_model.ARIMA',\n",
      "                        FutureWarning)\n",
      "\n",
      "  warnings.warn(ARIMA_DEPRECATION_WARN, FutureWarning)\n"
     ]
    },
    {
     "data": {
      "text/plain": [
       "(1, 2)"
      ]
     },
     "execution_count": 131,
     "metadata": {},
     "output_type": "execute_result"
    }
   ],
   "source": [
    "\n",
    "import statsmodels.api as sm\n",
    "import numpy as np\n",
    "arparams = np.array([.75, -.25])\n",
    "maparams = np.array([.65, .35])\n",
    "arparams = np.r_[1, -arparams]\n",
    "maparam = np.r_[1, maparams]\n",
    "nobs = 250\n",
    "np.random.seed(2014)\n",
    "y = arma_generate_sample(arparams, maparams, nobs)\n",
    "res = sm.tsa.arma_order_select_ic(y, ic=[\"aic\", \"bic\"], trend=\"nc\")\n",
    "res.aic_min_order\n",
    "res.bic_min_order"
   ]
  },
  {
   "cell_type": "code",
   "execution_count": null,
   "metadata": {},
   "outputs": [],
   "source": []
  },
  {
   "cell_type": "code",
   "execution_count": null,
   "metadata": {},
   "outputs": [],
   "source": []
  },
  {
   "cell_type": "code",
   "execution_count": null,
   "metadata": {},
   "outputs": [],
   "source": []
  },
  {
   "cell_type": "code",
   "execution_count": null,
   "metadata": {},
   "outputs": [],
   "source": []
  },
  {
   "cell_type": "code",
   "execution_count": null,
   "metadata": {},
   "outputs": [],
   "source": []
  },
  {
   "cell_type": "code",
   "execution_count": null,
   "metadata": {},
   "outputs": [],
   "source": []
  },
  {
   "cell_type": "code",
   "execution_count": null,
   "metadata": {},
   "outputs": [],
   "source": [
    "arima_model()"
   ]
  },
  {
   "cell_type": "code",
   "execution_count": 44,
   "metadata": {},
   "outputs": [
    {
     "name": "stderr",
     "output_type": "stream",
     "text": [
      "C:\\Users\\Yung\\Anaconda3\\envs\\fitsnbits\\lib\\site-packages\\statsmodels\\tsa\\arima_model.py:472: FutureWarning: \n",
      "statsmodels.tsa.arima_model.ARMA and statsmodels.tsa.arima_model.ARIMA have\n",
      "been deprecated in favor of statsmodels.tsa.arima.model.ARIMA (note the .\n",
      "between arima and model) and\n",
      "statsmodels.tsa.SARIMAX. These will be removed after the 0.12 release.\n",
      "\n",
      "statsmodels.tsa.arima.model.ARIMA makes use of the statespace framework and\n",
      "is both well tested and maintained.\n",
      "\n",
      "To silence this warning and continue using ARMA and ARIMA until they are\n",
      "removed, use:\n",
      "\n",
      "import warnings\n",
      "warnings.filterwarnings('ignore', 'statsmodels.tsa.arima_model.ARMA',\n",
      "                        FutureWarning)\n",
      "warnings.filterwarnings('ignore', 'statsmodels.tsa.arima_model.ARIMA',\n",
      "                        FutureWarning)\n",
      "\n",
      "  warnings.warn(ARIMA_DEPRECATION_WARN, FutureWarning)\n",
      "C:\\Users\\Yung\\Anaconda3\\envs\\fitsnbits\\lib\\site-packages\\statsmodels\\tsa\\arima_model.py:472: FutureWarning: \n",
      "statsmodels.tsa.arima_model.ARMA and statsmodels.tsa.arima_model.ARIMA have\n",
      "been deprecated in favor of statsmodels.tsa.arima.model.ARIMA (note the .\n",
      "between arima and model) and\n",
      "statsmodels.tsa.SARIMAX. These will be removed after the 0.12 release.\n",
      "\n",
      "statsmodels.tsa.arima.model.ARIMA makes use of the statespace framework and\n",
      "is both well tested and maintained.\n",
      "\n",
      "To silence this warning and continue using ARMA and ARIMA until they are\n",
      "removed, use:\n",
      "\n",
      "import warnings\n",
      "warnings.filterwarnings('ignore', 'statsmodels.tsa.arima_model.ARMA',\n",
      "                        FutureWarning)\n",
      "warnings.filterwarnings('ignore', 'statsmodels.tsa.arima_model.ARIMA',\n",
      "                        FutureWarning)\n",
      "\n",
      "  warnings.warn(ARIMA_DEPRECATION_WARN, FutureWarning)\n",
      "C:\\Users\\Yung\\Anaconda3\\envs\\fitsnbits\\lib\\site-packages\\statsmodels\\tsa\\arima_model.py:472: FutureWarning: \n",
      "statsmodels.tsa.arima_model.ARMA and statsmodels.tsa.arima_model.ARIMA have\n",
      "been deprecated in favor of statsmodels.tsa.arima.model.ARIMA (note the .\n",
      "between arima and model) and\n",
      "statsmodels.tsa.SARIMAX. These will be removed after the 0.12 release.\n",
      "\n",
      "statsmodels.tsa.arima.model.ARIMA makes use of the statespace framework and\n",
      "is both well tested and maintained.\n",
      "\n",
      "To silence this warning and continue using ARMA and ARIMA until they are\n",
      "removed, use:\n",
      "\n",
      "import warnings\n",
      "warnings.filterwarnings('ignore', 'statsmodels.tsa.arima_model.ARMA',\n",
      "                        FutureWarning)\n",
      "warnings.filterwarnings('ignore', 'statsmodels.tsa.arima_model.ARIMA',\n",
      "                        FutureWarning)\n",
      "\n",
      "  warnings.warn(ARIMA_DEPRECATION_WARN, FutureWarning)\n",
      "C:\\Users\\Yung\\Anaconda3\\envs\\fitsnbits\\lib\\site-packages\\statsmodels\\tsa\\arima_model.py:472: FutureWarning: \n",
      "statsmodels.tsa.arima_model.ARMA and statsmodels.tsa.arima_model.ARIMA have\n",
      "been deprecated in favor of statsmodels.tsa.arima.model.ARIMA (note the .\n",
      "between arima and model) and\n",
      "statsmodels.tsa.SARIMAX. These will be removed after the 0.12 release.\n",
      "\n",
      "statsmodels.tsa.arima.model.ARIMA makes use of the statespace framework and\n",
      "is both well tested and maintained.\n",
      "\n",
      "To silence this warning and continue using ARMA and ARIMA until they are\n",
      "removed, use:\n",
      "\n",
      "import warnings\n",
      "warnings.filterwarnings('ignore', 'statsmodels.tsa.arima_model.ARMA',\n",
      "                        FutureWarning)\n",
      "warnings.filterwarnings('ignore', 'statsmodels.tsa.arima_model.ARIMA',\n",
      "                        FutureWarning)\n",
      "\n",
      "  warnings.warn(ARIMA_DEPRECATION_WARN, FutureWarning)\n",
      "C:\\Users\\Yung\\Anaconda3\\envs\\fitsnbits\\lib\\site-packages\\statsmodels\\tsa\\arima_model.py:472: FutureWarning: \n",
      "statsmodels.tsa.arima_model.ARMA and statsmodels.tsa.arima_model.ARIMA have\n",
      "been deprecated in favor of statsmodels.tsa.arima.model.ARIMA (note the .\n",
      "between arima and model) and\n",
      "statsmodels.tsa.SARIMAX. These will be removed after the 0.12 release.\n",
      "\n",
      "statsmodels.tsa.arima.model.ARIMA makes use of the statespace framework and\n",
      "is both well tested and maintained.\n",
      "\n",
      "To silence this warning and continue using ARMA and ARIMA until they are\n",
      "removed, use:\n",
      "\n",
      "import warnings\n",
      "warnings.filterwarnings('ignore', 'statsmodels.tsa.arima_model.ARMA',\n",
      "                        FutureWarning)\n",
      "warnings.filterwarnings('ignore', 'statsmodels.tsa.arima_model.ARIMA',\n",
      "                        FutureWarning)\n",
      "\n",
      "  warnings.warn(ARIMA_DEPRECATION_WARN, FutureWarning)\n",
      "C:\\Users\\Yung\\Anaconda3\\envs\\fitsnbits\\lib\\site-packages\\statsmodels\\tsa\\arima_model.py:472: FutureWarning: \n",
      "statsmodels.tsa.arima_model.ARMA and statsmodels.tsa.arima_model.ARIMA have\n",
      "been deprecated in favor of statsmodels.tsa.arima.model.ARIMA (note the .\n",
      "between arima and model) and\n",
      "statsmodels.tsa.SARIMAX. These will be removed after the 0.12 release.\n",
      "\n",
      "statsmodels.tsa.arima.model.ARIMA makes use of the statespace framework and\n",
      "is both well tested and maintained.\n",
      "\n",
      "To silence this warning and continue using ARMA and ARIMA until they are\n",
      "removed, use:\n",
      "\n",
      "import warnings\n",
      "warnings.filterwarnings('ignore', 'statsmodels.tsa.arima_model.ARMA',\n",
      "                        FutureWarning)\n",
      "warnings.filterwarnings('ignore', 'statsmodels.tsa.arima_model.ARIMA',\n",
      "                        FutureWarning)\n",
      "\n",
      "  warnings.warn(ARIMA_DEPRECATION_WARN, FutureWarning)\n",
      "C:\\Users\\Yung\\Anaconda3\\envs\\fitsnbits\\lib\\site-packages\\statsmodels\\tsa\\arima_model.py:472: FutureWarning: \n",
      "statsmodels.tsa.arima_model.ARMA and statsmodels.tsa.arima_model.ARIMA have\n",
      "been deprecated in favor of statsmodels.tsa.arima.model.ARIMA (note the .\n",
      "between arima and model) and\n",
      "statsmodels.tsa.SARIMAX. These will be removed after the 0.12 release.\n",
      "\n",
      "statsmodels.tsa.arima.model.ARIMA makes use of the statespace framework and\n",
      "is both well tested and maintained.\n",
      "\n",
      "To silence this warning and continue using ARMA and ARIMA until they are\n",
      "removed, use:\n",
      "\n",
      "import warnings\n",
      "warnings.filterwarnings('ignore', 'statsmodels.tsa.arima_model.ARMA',\n",
      "                        FutureWarning)\n",
      "warnings.filterwarnings('ignore', 'statsmodels.tsa.arima_model.ARIMA',\n",
      "                        FutureWarning)\n",
      "\n",
      "  warnings.warn(ARIMA_DEPRECATION_WARN, FutureWarning)\n",
      "C:\\Users\\Yung\\Anaconda3\\envs\\fitsnbits\\lib\\site-packages\\statsmodels\\tsa\\arima_model.py:472: FutureWarning: \n",
      "statsmodels.tsa.arima_model.ARMA and statsmodels.tsa.arima_model.ARIMA have\n",
      "been deprecated in favor of statsmodels.tsa.arima.model.ARIMA (note the .\n",
      "between arima and model) and\n",
      "statsmodels.tsa.SARIMAX. These will be removed after the 0.12 release.\n",
      "\n",
      "statsmodels.tsa.arima.model.ARIMA makes use of the statespace framework and\n",
      "is both well tested and maintained.\n",
      "\n",
      "To silence this warning and continue using ARMA and ARIMA until they are\n",
      "removed, use:\n",
      "\n",
      "import warnings\n",
      "warnings.filterwarnings('ignore', 'statsmodels.tsa.arima_model.ARMA',\n",
      "                        FutureWarning)\n",
      "warnings.filterwarnings('ignore', 'statsmodels.tsa.arima_model.ARIMA',\n",
      "                        FutureWarning)\n",
      "\n",
      "  warnings.warn(ARIMA_DEPRECATION_WARN, FutureWarning)\n"
     ]
    },
    {
     "data": {
      "text/plain": [
       "(1, 2)"
      ]
     },
     "execution_count": 44,
     "metadata": {},
     "output_type": "execute_result"
    }
   ],
   "source": [
    "from statsmodels.tsa.arima_process import arma_generate_sample\n",
    "import statsmodels.api as sm\n",
    "import numpy as np\n",
    "arparams = np.array([.75, -.25])\n",
    "maparams = np.array([.65, .35])\n",
    "arparams = np.r_[1, -arparams]\n",
    "maparam = np.r_[1, maparams]\n",
    "nobs = 250\n",
    "np.random.seed(2014)\n",
    "y = arma_generate_sample(arparams, maparams, nobs)\n",
    "res = sm.tsa.arma_order_select_ic(y, ic=[\"aic\", \"bic\"], trend=\"nc\")\n",
    "res.aic_min_order\n",
    "res.bic_min_order"
   ]
  },
  {
   "cell_type": "code",
   "execution_count": null,
   "metadata": {},
   "outputs": [],
   "source": []
  },
  {
   "cell_type": "code",
   "execution_count": null,
   "metadata": {},
   "outputs": [],
   "source": []
  },
  {
   "cell_type": "code",
   "execution_count": null,
   "metadata": {},
   "outputs": [],
   "source": []
  },
  {
   "cell_type": "code",
   "execution_count": null,
   "metadata": {},
   "outputs": [],
   "source": []
  },
  {
   "cell_type": "code",
   "execution_count": null,
   "metadata": {},
   "outputs": [],
   "source": []
  },
  {
   "cell_type": "code",
   "execution_count": 13,
   "metadata": {},
   "outputs": [
    {
     "name": "stdout",
     "output_type": "stream",
     "text": [
      "<class 'numpy.ndarray'>\n",
      "<class 'numpy.ndarray'>\n",
      "<class 'numpy.ndarray'>\n"
     ]
    },
    {
     "name": "stderr",
     "output_type": "stream",
     "text": [
      "C:\\Users\\Yung\\Anaconda3\\envs\\fitsnbits\\lib\\site-packages\\statsmodels\\tsa\\stattools.py:657: FutureWarning: The default number of lags is changing from 40 tomin(int(10 * np.log10(nobs)), nobs - 1) after 0.12is released. Set the number of lags to an integer to  silence this warning.\n",
      "  FutureWarning,\n",
      "C:\\Users\\Yung\\Anaconda3\\envs\\fitsnbits\\lib\\site-packages\\statsmodels\\tsa\\stattools.py:666: FutureWarning: fft=True will become the default after the release of the 0.12 release of statsmodels. To suppress this warning, explicitly set fft=False.\n",
      "  FutureWarning,\n",
      "C:\\Users\\Yung\\Anaconda3\\envs\\fitsnbits\\lib\\site-packages\\statsmodels\\tsa\\stattools.py:657: FutureWarning: The default number of lags is changing from 40 tomin(int(10 * np.log10(nobs)), nobs - 1) after 0.12is released. Set the number of lags to an integer to  silence this warning.\n",
      "  FutureWarning,\n",
      "C:\\Users\\Yung\\Anaconda3\\envs\\fitsnbits\\lib\\site-packages\\statsmodels\\tsa\\stattools.py:666: FutureWarning: fft=True will become the default after the release of the 0.12 release of statsmodels. To suppress this warning, explicitly set fft=False.\n",
      "  FutureWarning,\n",
      "C:\\Users\\Yung\\Anaconda3\\envs\\fitsnbits\\lib\\site-packages\\statsmodels\\tsa\\stattools.py:657: FutureWarning: The default number of lags is changing from 40 tomin(int(10 * np.log10(nobs)), nobs - 1) after 0.12is released. Set the number of lags to an integer to  silence this warning.\n",
      "  FutureWarning,\n",
      "C:\\Users\\Yung\\Anaconda3\\envs\\fitsnbits\\lib\\site-packages\\statsmodels\\tsa\\stattools.py:666: FutureWarning: fft=True will become the default after the release of the 0.12 release of statsmodels. To suppress this warning, explicitly set fft=False.\n",
      "  FutureWarning,\n"
     ]
    },
    {
     "data": {
      "image/png": "[encoded data removed]",
      "text/plain": [
       "<Figure size 432x288 with 1 Axes>"
      ]
     },
     "metadata": {
      "needs_background": "light"
     },
     "output_type": "display_data"
    }
   ],
   "source": [
    "for symbol in symbols:\n",
    "    filepath = \"../data/{}_daily01.csv\".format(symbol)\n",
    "    stock_df = pd.read_csv(filepath)\n",
    "    stock_df = stock_df[(stock_df.to_datetime > analysis_date_start) & (stock_df.to_datetime < analysis_date_end)][pricetype]\n",
    "    acf_result = acf(stock_df)\n",
    "    print(type(acf_result))\n",
    "    plt.plot(acf_result)\n",
    "#     plot_title = \"{} ACF and PACF\".format(symbol)\n",
    "#     fig, ax = plt.subplots(1,2, figsize=(9,6))\n",
    "#     plot_acf(stock_df.values, ax=ax[0]);\n",
    "#     plot_pacf(stock_df.values, ax=ax[1]);\n",
    "#     fig.suptitle(plot_title, size=18)"
   ]
  },
  {
   "cell_type": "code",
   "execution_count": 28,
   "metadata": {},
   "outputs": [
    {
     "name": "stdout",
     "output_type": "stream",
     "text": [
      "<class 'tuple'>\n",
      "(41,)\n",
      "[ 1.00000000e+00  9.69889222e-01  3.10493108e-02  1.27593124e-02\n",
      " -7.61310292e-03  9.13116680e-03 -1.07554083e-03 -4.39077395e-04\n",
      " -3.44250352e-02 -4.18381161e-03 -2.84199365e-02  5.05579508e-02\n",
      " -2.11369744e-02 -3.39454063e-02  1.40001132e-02  1.33979489e-02\n",
      " -3.67155540e-02 -4.88355707e-02  4.39294617e-02  2.26902390e-02\n",
      "  2.36965710e-02  1.22318954e-03 -3.87526898e-02  1.96551049e-02\n",
      "  2.91359818e-02  3.90655524e-05  8.56103129e-03  3.86883899e-02\n",
      " -8.48831380e-03 -5.88035645e-02  8.52226351e-02 -1.76684073e-02\n",
      "  1.23886459e-02  1.24861218e-02 -6.60061268e-03 -2.71455308e-02\n",
      " -3.51353040e-02  5.21070203e-02 -3.74670394e-02  2.96713775e-02\n",
      "  1.46152344e-02]\n",
      "(41, 2)\n",
      "[[ 1.          1.        ]\n",
      " [ 0.84593022  1.09384823]\n",
      " [-0.0929097   0.15500832]\n",
      " [-0.11119969  0.13671832]\n",
      " [-0.13157211  0.1163459 ]\n",
      " [-0.11482784  0.13309017]\n",
      " [-0.12503455  0.12288347]\n",
      " [-0.12439808  0.12351993]\n",
      " [-0.15838404  0.08953397]\n",
      " [-0.12814282  0.11977519]\n",
      " [-0.15237894  0.09553907]\n",
      " [-0.07340106  0.17451696]\n",
      " [-0.14509598  0.10282203]\n",
      " [-0.15790441  0.0900136 ]\n",
      " [-0.10995889  0.13795912]\n",
      " [-0.11056106  0.13735696]\n",
      " [-0.16067456  0.08724345]\n",
      " [-0.17279458  0.07512344]\n",
      " [-0.08002954  0.16788847]\n",
      " [-0.10126877  0.14664925]\n",
      " [-0.10026244  0.14765558]\n",
      " [-0.12273582  0.1251822 ]\n",
      " [-0.1627117   0.08520632]\n",
      " [-0.1043039   0.14361411]\n",
      " [-0.09482302  0.15309499]\n",
      " [-0.12391994  0.12399807]\n",
      " [-0.11539798  0.13252004]\n",
      " [-0.08527062  0.1626474 ]\n",
      " [-0.13244732  0.11547069]\n",
      " [-0.18276257  0.06515544]\n",
      " [-0.03873637  0.20918164]\n",
      " [-0.14162741  0.1062906 ]\n",
      " [-0.11157036  0.13634765]\n",
      " [-0.11147288  0.13644513]\n",
      " [-0.13055962  0.11735839]\n",
      " [-0.15110454  0.09681348]\n",
      " [-0.15909431  0.0888237 ]\n",
      " [-0.07185199  0.17606603]\n",
      " [-0.16142605  0.08649197]\n",
      " [-0.09428763  0.15363038]\n",
      " [-0.10934377  0.13857424]]\n",
      "<class 'tuple'>\n",
      "(41,)\n",
      "[ 1.00000000e+00  9.81297671e-01 -9.88866611e-04  3.07480732e-02\n",
      "  3.61657240e-04  1.86015487e-02 -3.71506029e-02  1.41442349e-02\n",
      " -1.82986526e-02 -9.70555506e-04 -4.68346240e-02  1.21709141e-02\n",
      "  3.37132022e-03  1.23470386e-02 -1.74830501e-02  1.26567686e-02\n",
      " -3.74123993e-03 -7.32901895e-02  9.51897011e-02  2.47627683e-02\n",
      "  9.02326974e-03 -2.10538836e-02 -1.55617650e-02 -1.93842985e-03\n",
      " -2.43781481e-03 -4.50160949e-02  1.89960309e-02  3.26620171e-03\n",
      " -3.31087129e-02 -6.45375050e-02  3.76638826e-03 -3.44723102e-02\n",
      "  8.62714795e-03 -2.41624485e-02 -1.93217760e-02 -1.74976870e-02\n",
      "  6.27033159e-03  1.04873674e-02 -2.19541428e-02 -5.11612785e-03\n",
      " -1.88254759e-02]\n",
      "(41, 2)\n",
      "[[ 1.          1.        ]\n",
      " [ 0.85733866  1.10525668]\n",
      " [-0.12494787  0.12297014]\n",
      " [-0.09321093  0.15470708]\n",
      " [-0.12359735  0.12432066]\n",
      " [-0.10535746  0.14256056]\n",
      " [-0.16110961  0.0868084 ]\n",
      " [-0.10981477  0.13810324]\n",
      " [-0.14225766  0.10566035]\n",
      " [-0.12492956  0.12298845]\n",
      " [-0.17079363  0.07712438]\n",
      " [-0.11178809  0.13612992]\n",
      " [-0.12058769  0.12733033]\n",
      " [-0.11161197  0.13630605]\n",
      " [-0.14144206  0.10647596]\n",
      " [-0.11130224  0.13661578]\n",
      " [-0.12770025  0.12021777]\n",
      " [-0.1972492   0.05066882]\n",
      " [-0.02876931  0.21914871]\n",
      " [-0.09919624  0.14872177]\n",
      " [-0.11493574  0.13298228]\n",
      " [-0.14501289  0.10290512]\n",
      " [-0.13952077  0.10839724]\n",
      " [-0.12589744  0.12202058]\n",
      " [-0.12639682  0.12152119]\n",
      " [-0.1689751   0.07894291]\n",
      " [-0.10496298  0.14295504]\n",
      " [-0.1206928   0.12722521]\n",
      " [-0.15706772  0.09085029]\n",
      " [-0.18849651  0.0594215 ]\n",
      " [-0.12019262  0.12772539]\n",
      " [-0.15843132  0.0894867 ]\n",
      " [-0.11533186  0.13258615]\n",
      " [-0.14812145  0.09979656]\n",
      " [-0.14328078  0.10463723]\n",
      " [-0.14145669  0.10646132]\n",
      " [-0.11768867  0.13022934]\n",
      " [-0.11347164  0.13444637]\n",
      " [-0.14591315  0.10200486]\n",
      " [-0.12907513  0.11884288]\n",
      " [-0.14278448  0.10513353]]\n",
      "<class 'tuple'>\n",
      "(41,)\n",
      "[ 1.00000000e+00  9.83874078e-01  1.63039457e-02  1.92179080e-02\n",
      " -9.29417892e-03  2.12052499e-02 -1.40853628e-03 -4.32056465e-03\n",
      "  3.82241703e-02  3.84294353e-02 -1.99592703e-02  1.06056166e-02\n",
      " -2.66485695e-02  2.61531737e-02  9.02918451e-03 -1.30747934e-02\n",
      " -5.34260046e-02 -7.51651014e-02  6.82659559e-02 -5.43163682e-02\n",
      " -3.24138560e-02  3.67258152e-02 -2.24465989e-02 -4.02915924e-02\n",
      " -7.07936980e-03 -1.48454056e-02  3.15367229e-04  2.64864267e-02\n",
      " -4.43443849e-02 -8.29112452e-02  3.93562867e-02 -2.22375264e-02\n",
      " -1.64996076e-02  4.21682433e-02  9.31597216e-03  2.41523141e-02\n",
      " -1.24688886e-02  6.03528145e-02 -1.20458375e-02 -2.55650548e-02\n",
      " -8.05458059e-03]\n",
      "(41, 2)\n",
      "[[ 1.          1.        ]\n",
      " [ 0.85991507  1.10783308]\n",
      " [-0.10765506  0.14026295]\n",
      " [-0.1047411   0.14317691]\n",
      " [-0.13325319  0.11466483]\n",
      " [-0.10275376  0.14516426]\n",
      " [-0.12536754  0.12255047]\n",
      " [-0.12827957  0.11963844]\n",
      " [-0.08573484  0.16218318]\n",
      " [-0.08552957  0.16238844]\n",
      " [-0.14391828  0.10399974]\n",
      " [-0.11335339  0.13456462]\n",
      " [-0.15060758  0.09731044]\n",
      " [-0.09780583  0.15011218]\n",
      " [-0.11492982  0.13298819]\n",
      " [-0.1370338   0.11088421]\n",
      " [-0.17738501  0.070533  ]\n",
      " [-0.19912411  0.04879391]\n",
      " [-0.05569305  0.19222496]\n",
      " [-0.17827537  0.06964264]\n",
      " [-0.15637286  0.09154515]\n",
      " [-0.08723319  0.16068482]\n",
      " [-0.14640561  0.10151241]\n",
      " [-0.1642506   0.08366741]\n",
      " [-0.13103838  0.11687964]\n",
      " [-0.13880441  0.1091136 ]\n",
      " [-0.12364364  0.12427437]\n",
      " [-0.09747258  0.15044543]\n",
      " [-0.16830339  0.07961462]\n",
      " [-0.20687025  0.04104776]\n",
      " [-0.08460272  0.16331529]\n",
      " [-0.14619653  0.10172148]\n",
      " [-0.14045861  0.1074594 ]\n",
      " [-0.08179076  0.16612725]\n",
      " [-0.11464303  0.13327498]\n",
      " [-0.09980669  0.14811132]\n",
      " [-0.1364279   0.11149012]\n",
      " [-0.06360619  0.18431182]\n",
      " [-0.13600484  0.11191317]\n",
      " [-0.14952406  0.09839395]\n",
      " [-0.13201359  0.11590443]]\n"
     ]
    },
    {
     "name": "stderr",
     "output_type": "stream",
     "text": [
      "C:\\Users\\Yung\\Anaconda3\\envs\\fitsnbits\\lib\\site-packages\\statsmodels\\tsa\\stattools.py:1021: FutureWarning: The default number of lags is changing from 40 tomin(int(10 * np.log10(nobs)), nobs // 2 - 1) after 0.12is released. Set the number of lags to an integer to  silence this warning.\n",
      "  FutureWarning,\n",
      "C:\\Users\\Yung\\Anaconda3\\envs\\fitsnbits\\lib\\site-packages\\statsmodels\\tsa\\stattools.py:1021: FutureWarning: The default number of lags is changing from 40 tomin(int(10 * np.log10(nobs)), nobs // 2 - 1) after 0.12is released. Set the number of lags to an integer to  silence this warning.\n",
      "  FutureWarning,\n",
      "C:\\Users\\Yung\\Anaconda3\\envs\\fitsnbits\\lib\\site-packages\\statsmodels\\tsa\\stattools.py:1021: FutureWarning: The default number of lags is changing from 40 tomin(int(10 * np.log10(nobs)), nobs // 2 - 1) after 0.12is released. Set the number of lags to an integer to  silence this warning.\n",
      "  FutureWarning,\n"
     ]
    },
    {
     "data": {
      "image/png": "[encoded data removed]",
      "text/plain": [
       "<Figure size 432x288 with 1 Axes>"
      ]
     },
     "metadata": {
      "needs_background": "light"
     },
     "output_type": "display_data"
    }
   ],
   "source": [
    "for symbol in symbols:\n",
    "    filepath = \"../data/{}_daily01.csv\".format(symbol)\n",
    "    stock_df = pd.read_csv(filepath)\n",
    "    stock_df = stock_df[(stock_df.to_datetime > analysis_date_start) & (stock_df.to_datetime < analysis_date_end)][pricetype]\n",
    "    pacf_result = pacf(stock_df, alpha=0.05)\n",
    "    print(type(pacf_result))\n",
    "    print(pacf_result[0].shape)\n",
    "    print(pacf_result[0])\n",
    "    print(pacf_result[1].shape)\n",
    "    print(pacf_result[1])\n",
    "    plt.plot(pacf_result[0])\n",
    "    plt.plot(pacf_result[1])"
   ]
  },
  {
   "cell_type": "code",
   "execution_count": 29,
   "metadata": {},
   "outputs": [],
   "source": [
    "def ARIMA_gridsearch(p, d_max:int, q_max:int, data, prediction_length):\n",
    "    return_list = [] #initialize return list\n",
    "    train_data_idx = len(data) - prediction_length\n",
    "    train = data[:train_data_idx] #slice train and test data\n",
    "    test = data[train_data_idx:]\n",
    "    d_range = range(0, d_max+1)\n",
    "    q_range = range(1, q_max+1)\n",
    "    for d in d_range:\n",
    "        for q in q_range:\n",
    "            model = ARIMA(train, order=(p,d,q)) #fit and predict\n",
    "            arima_model = model.fit()\n",
    "            model_prediction = arima_model.forecast(steps=prediction_length)\n",
    "            warning = arima_model.mle_retvals[\"warnflag\"]\n",
    "            convergence = arima_model.mle_retvals[\"converged\"]\n",
    "            rmse_result = np.sqrt(mean_squared_error(test, model_prediction)) #get rmse\n",
    "            return_list.append([p,d,q,convergence, warning, rmse_result])\n",
    "    return sorted(return_list, key=lambda x: (x[-1], x[-2], (x[-3]*-1))) #order by RMSE, no warning, and convergence"
   ]
  },
  {
   "cell_type": "code",
   "execution_count": 32,
   "metadata": {},
   "outputs": [
    {
     "name": "stdout",
     "output_type": "stream",
     "text": [
      "SPY\n",
      "[[4, 2, 1, True, 0, 2.364195222441467], [4, 2, 4, False, 1, 2.376068706060797], [4, 2, 2, True, 0, 2.380089872772744], [4, 2, 3, False, 1, 2.4460391708999296], [4, 3, 3, False, 1, 3.9086198126718372], [4, 3, 4, False, 1, 4.189635760763447], [4, 1, 4, False, 1, 4.925671652018947], [4, 1, 1, True, 0, 6.067742281246259], [4, 1, 2, False, 1, 6.1541845561440125], [4, 1, 3, False, 1, 6.281136047846952], [4, 0, 4, False, 1, 6.430454524063897], [4, 0, 2, False, 1, 7.022610546643211], [4, 0, 3, False, 1, 7.376284352611175], [4, 0, 1, True, 0, 7.94746935809074], [4, 3, 1, True, 0, 9.754326202553715], [4, 3, 2, True, 0, 10.4106753798811]]\n",
      "AAPL\n",
      "[[4, 2, 1, True, 0, 1.5256281211765224], [4, 2, 3, True, 0, 1.529443294207699], [4, 2, 4, True, 0, 1.5345266573716634], [4, 1, 3, False, 1, 1.5484746035480874], [4, 1, 2, False, 1, 1.603789046103891], [4, 1, 1, True, 0, 1.6051689375782199], [4, 1, 4, False, 1, 1.6437753262038601], [4, 2, 2, True, 0, 1.9640255022231319], [4, 3, 1, True, 0, 2.7856980035525103], [4, 3, 2, True, 0, 3.136034893086777], [4, 0, 4, False, 1, 3.3908416809725526], [4, 0, 3, False, 1, 3.3987287446077463], [4, 0, 1, False, 1, 3.434791592896277], [4, 0, 2, False, 1, 3.6138112830847775], [4, 3, 3, False, 1, 5.3717150577462816], [4, 3, 4, False, 1, 5.478716077082293]]\n",
      "MSFT\n",
      "[[4, 2, 3, True, 0, 1.691021881057861], [4, 2, 4, False, 1, 1.691555973361689], [4, 2, 2, True, 0, 1.6937909671628628], [4, 2, 1, True, 0, 1.7151251429051078], [4, 3, 4, False, 1, 3.3062881672196203], [4, 3, 3, False, 1, 4.506293982079514], [4, 1, 3, True, 0, 4.72281102587969], [4, 1, 2, False, 1, 4.906624991920067], [4, 1, 4, False, 1, 5.1438656002690735], [4, 0, 4, False, 1, 5.159635157917076], [4, 1, 1, True, 0, 5.213093052914141], [4, 0, 3, False, 1, 5.488412330049955], [4, 0, 1, True, 0, 5.500887729579904], [4, 0, 2, False, 1, 5.5993665067433005], [4, 3, 1, True, 0, 13.985118229726915], [4, 3, 2, True, 0, 14.738127310893752]]\n"
     ]
    }
   ],
   "source": [
    "for symbol in symbols:\n",
    "    filepath = \"../data/{}_daily01.csv\".format(symbol)\n",
    "    stock_df = pd.read_csv(filepath)\n",
    "    stock_df = stock_df[(stock_df.to_datetime > analysis_date_start) & (stock_df.to_datetime < analysis_date_end)][pricetype]\n",
    "    grid_result = ARIMA_gridsearch(4, 3, 4, stock_df.values, 30)\n",
    "    print(symbol)\n",
    "    print(grid_result)"
   ]
  },
  {
   "cell_type": "code",
   "execution_count": null,
   "metadata": {},
   "outputs": [],
   "source": []
  }
 ],
 "metadata": {
  "kernelspec": {
   "display_name": "fitsnbits",
   "language": "python",
   "name": "fitsnbits"
  },
  "language_info": {
   "codemirror_mode": {
    "name": "ipython",
    "version": 3
   },
   "file_extension": ".py",
   "mimetype": "text/x-python",
   "name": "python",
   "nbconvert_exporter": "python",
   "pygments_lexer": "ipython3",
   "version": "3.7.9"
  }
 },
 "nbformat": 4,
 "nbformat_minor": 4
}
