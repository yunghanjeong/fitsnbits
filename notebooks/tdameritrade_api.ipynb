{
 "cells": [
  {
   "cell_type": "markdown",
   "metadata": {},
   "source": [
    "# Overview\n",
    "\n",
    "The purpose of this notebook is to utilize the custom function built around TD Ameritrade API to automatically query daily stock qoutes."
   ]
  },
  {
   "cell_type": "code",
   "execution_count": 2,
   "metadata": {},
   "outputs": [],
   "source": [
    "import requests\n",
    "import pandas as pd\n",
    "import json\n",
    "import os\n",
    "import sys\n",
    "sys.path.append('../')\n",
    "import datetime\n",
    "import time\n",
    "import src.tda_api_tools as tda"
   ]
  },
  {
   "cell_type": "markdown",
   "metadata": {},
   "source": [
    "## Data Collection\n",
    "\n",
    "The data collection is supported by TD Ameritrade API. A custom tool was built around the API to pass API parameters as key word arguments (kwargs) of the collection function. The collection function performes following:\n",
    "\n",
    "1. Convert start and end time to UNIX time stamp\n",
    "2. authenticate API call with TD Ameritrade\n",
    "3. Collect requested in JSON format\n",
    "4. Converts received JSON into pandas dataframe\n",
    "\n",
    "A for loop was constructed to utilized this tool to collect the `big 10` stocks of S&P500 along with S&P500 index. "
   ]
  },
  {
   "cell_type": "code",
   "execution_count": 3,
   "metadata": {},
   "outputs": [],
   "source": [
    "start = \"2015-10-14 17:00:00\" # start date of the data collection\n",
    "end = \"2020-12-17 18:00:00\" # end date of the data collection \n",
    "symbols=[\"SPY\", \"AAPL\", \"MSFT\", \"AMZN\", \"FB\", \"GOOGL\", \"GOOG\", \"BRK.B\", \"JNJ\", \"JPM\", \"V\"] #big 10 symbols to collect"
   ]
  },
  {
   "cell_type": "code",
   "execution_count": 4,
   "metadata": {},
   "outputs": [
    {
     "name": "stdout",
     "output_type": "stream",
     "text": [
      "collected SPY 6525\n",
      "collected AAPL 6525\n",
      "collected MSFT 6525\n",
      "collected AMZN 6525\n",
      "collected FB 6525\n",
      "collected GOOGL 6525\n",
      "collected GOOG 6525\n",
      "collected BRK.B 6525\n",
      "collected JNJ 6525\n",
      "collected JPM 6525\n",
      "collected V 6525\n"
     ]
    }
   ],
   "source": [
    "for symbol in symbols:\n",
    "    savepath = \"../data/{}_daily01.csv\".format(symbol)\n",
    "    daily_df = tda.get_price_history(symbol, \n",
    "                                  periodType=\"month\", \n",
    "                                  frequencyType=\"daily\", \n",
    "                                  frequency=1, \n",
    "                                  startDate=start, \n",
    "                                  endDate=end)\n",
    "    print(\"collected\", symbol, daily_df.size)\n",
    "    daily_df.to_csv(savepath)"
   ]
  },
  {
   "cell_type": "code",
   "execution_count": null,
   "metadata": {},
   "outputs": [],
   "source": []
  }
 ],
 "metadata": {
  "kernelspec": {
   "display_name": "learn-env",
   "language": "python",
   "name": "learn-env"
  },
  "language_info": {
   "codemirror_mode": {
    "name": "ipython",
    "version": 3
   },
   "file_extension": ".py",
   "mimetype": "text/x-python",
   "name": "python",
   "nbconvert_exporter": "python",
   "pygments_lexer": "ipython3",
   "version": "3.6.9"
  }
 },
 "nbformat": 4,
 "nbformat_minor": 4
}
