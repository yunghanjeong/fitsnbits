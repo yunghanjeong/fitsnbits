{
 "cells": [
  {
   "cell_type": "code",
   "execution_count": 1,
   "metadata": {},
   "outputs": [],
   "source": [
    "from twelvedata import TDClient\n",
    "import json\n",
    "import os\n",
    "import sys\n",
    "sys.path.append('../')\n",
    "import src.td_tools as tl"
   ]
  },
  {
   "cell_type": "code",
   "execution_count": 2,
   "metadata": {},
   "outputs": [],
   "source": [
    "file = open(\"../td_secret.json\")\n",
    "keys = json.load(file)\n",
    "td = TDClient(apikey=keys[\"key\"])"
   ]
  },
  {
   "cell_type": "code",
   "execution_count": 3,
   "metadata": {},
   "outputs": [],
   "source": [
    "company = \"AAPL\"\n",
    "interval = \"1h\"\n",
    "size = 500\n",
    "timezone = \"America/New_York\""
   ]
  },
  {
   "cell_type": "code",
   "execution_count": 4,
   "metadata": {},
   "outputs": [],
   "source": [
    "request_df = tl.td_get(sym=company, interval=\"1h\", size=size, timezone=timezone)"
   ]
  },
  {
   "cell_type": "code",
   "execution_count": 5,
   "metadata": {},
   "outputs": [],
   "source": [
    "request_df.to_csv(r\"..\\data\\appl_1h_500.csv\")"
   ]
  },
  {
   "cell_type": "code",
   "execution_count": 6,
   "metadata": {},
   "outputs": [
    {
     "data": {
      "text/html": [
       "<div>\n",
       "<style scoped>\n",
       "    .dataframe tbody tr th:only-of-type {\n",
       "        vertical-align: middle;\n",
       "    }\n",
       "\n",
       "    .dataframe tbody tr th {\n",
       "        vertical-align: top;\n",
       "    }\n",
       "\n",
       "    .dataframe thead th {\n",
       "        text-align: right;\n",
       "    }\n",
       "</style>\n",
       "<table border=\"1\" class=\"dataframe\">\n",
       "  <thead>\n",
       "    <tr style=\"text-align: right;\">\n",
       "      <th></th>\n",
       "      <th>open</th>\n",
       "      <th>high</th>\n",
       "      <th>low</th>\n",
       "      <th>close</th>\n",
       "      <th>volume</th>\n",
       "    </tr>\n",
       "    <tr>\n",
       "      <th>datetime</th>\n",
       "      <th></th>\n",
       "      <th></th>\n",
       "      <th></th>\n",
       "      <th></th>\n",
       "      <th></th>\n",
       "    </tr>\n",
       "  </thead>\n",
       "  <tbody>\n",
       "    <tr>\n",
       "      <th>2020-11-27 12:30:00</th>\n",
       "      <td>116.5200</td>\n",
       "      <td>116.6500</td>\n",
       "      <td>116.2200</td>\n",
       "      <td>116.59000</td>\n",
       "      <td>8125868</td>\n",
       "    </tr>\n",
       "    <tr>\n",
       "      <th>2020-11-27 11:30:00</th>\n",
       "      <td>117.0400</td>\n",
       "      <td>117.1410</td>\n",
       "      <td>116.3100</td>\n",
       "      <td>116.52000</td>\n",
       "      <td>8668059</td>\n",
       "    </tr>\n",
       "    <tr>\n",
       "      <th>2020-11-27 10:30:00</th>\n",
       "      <td>117.2200</td>\n",
       "      <td>117.4850</td>\n",
       "      <td>116.8300</td>\n",
       "      <td>117.03010</td>\n",
       "      <td>10494535</td>\n",
       "    </tr>\n",
       "    <tr>\n",
       "      <th>2020-11-27 09:30:00</th>\n",
       "      <td>116.5610</td>\n",
       "      <td>117.3000</td>\n",
       "      <td>116.4700</td>\n",
       "      <td>117.22500</td>\n",
       "      <td>17974686</td>\n",
       "    </tr>\n",
       "    <tr>\n",
       "      <th>2020-11-27 08:30:00</th>\n",
       "      <td>116.7700</td>\n",
       "      <td>116.9800</td>\n",
       "      <td>116.3000</td>\n",
       "      <td>116.56000</td>\n",
       "      <td>0</td>\n",
       "    </tr>\n",
       "    <tr>\n",
       "      <th>...</th>\n",
       "      <td>...</td>\n",
       "      <td>...</td>\n",
       "      <td>...</td>\n",
       "      <td>...</td>\n",
       "      <td>...</td>\n",
       "    </tr>\n",
       "    <tr>\n",
       "      <th>2020-08-19 09:30:00</th>\n",
       "      <td>115.9875</td>\n",
       "      <td>116.8000</td>\n",
       "      <td>115.6525</td>\n",
       "      <td>116.71752</td>\n",
       "      <td>3216649</td>\n",
       "    </tr>\n",
       "    <tr>\n",
       "      <th>2020-08-18 15:30:00</th>\n",
       "      <td>115.5500</td>\n",
       "      <td>115.7075</td>\n",
       "      <td>115.4525</td>\n",
       "      <td>115.56250</td>\n",
       "      <td>1284149</td>\n",
       "    </tr>\n",
       "    <tr>\n",
       "      <th>2020-08-18 14:30:00</th>\n",
       "      <td>115.9225</td>\n",
       "      <td>115.9675</td>\n",
       "      <td>115.4125</td>\n",
       "      <td>115.57250</td>\n",
       "      <td>496417</td>\n",
       "    </tr>\n",
       "    <tr>\n",
       "      <th>2020-08-18 13:30:00</th>\n",
       "      <td>115.6075</td>\n",
       "      <td>115.9975</td>\n",
       "      <td>115.5525</td>\n",
       "      <td>115.91577</td>\n",
       "      <td>2365328</td>\n",
       "    </tr>\n",
       "    <tr>\n",
       "      <th>2020-08-18 12:30:00</th>\n",
       "      <td>115.3000</td>\n",
       "      <td>115.6925</td>\n",
       "      <td>115.2300</td>\n",
       "      <td>115.58500</td>\n",
       "      <td>2034865</td>\n",
       "    </tr>\n",
       "  </tbody>\n",
       "</table>\n",
       "<p>500 rows × 5 columns</p>\n",
       "</div>"
      ],
      "text/plain": [
       "                         open      high       low      close    volume\n",
       "datetime                                                              \n",
       "2020-11-27 12:30:00  116.5200  116.6500  116.2200  116.59000   8125868\n",
       "2020-11-27 11:30:00  117.0400  117.1410  116.3100  116.52000   8668059\n",
       "2020-11-27 10:30:00  117.2200  117.4850  116.8300  117.03010  10494535\n",
       "2020-11-27 09:30:00  116.5610  117.3000  116.4700  117.22500  17974686\n",
       "2020-11-27 08:30:00  116.7700  116.9800  116.3000  116.56000         0\n",
       "...                       ...       ...       ...        ...       ...\n",
       "2020-08-19 09:30:00  115.9875  116.8000  115.6525  116.71752   3216649\n",
       "2020-08-18 15:30:00  115.5500  115.7075  115.4525  115.56250   1284149\n",
       "2020-08-18 14:30:00  115.9225  115.9675  115.4125  115.57250    496417\n",
       "2020-08-18 13:30:00  115.6075  115.9975  115.5525  115.91577   2365328\n",
       "2020-08-18 12:30:00  115.3000  115.6925  115.2300  115.58500   2034865\n",
       "\n",
       "[500 rows x 5 columns]"
      ]
     },
     "execution_count": 6,
     "metadata": {},
     "output_type": "execute_result"
    }
   ],
   "source": [
    "request_df"
   ]
  },
  {
   "cell_type": "code",
   "execution_count": 7,
   "metadata": {},
   "outputs": [],
   "source": [
    "def td_quote(sym:str, interval:str, size:int, timezone:str):\n",
    "    try:\n",
    "        return td.quote(symbol=sym, \n",
    "                              interval=interval,\n",
    "                              outputsize=size,\n",
    "                              timezone=timezone).as_pandas() \n",
    "    except ValueError:\n",
    "        print(\"Check Value Formats\")"
   ]
  },
  {
   "cell_type": "code",
   "execution_count": 8,
   "metadata": {},
   "outputs": [
    {
     "ename": "AttributeError",
     "evalue": "'TDClient' object has no attribute 'quote'",
     "output_type": "error",
     "traceback": [
      "\u001b[1;31m---------------------------------------------------------------------------\u001b[0m",
      "\u001b[1;31mAttributeError\u001b[0m                            Traceback (most recent call last)",
      "\u001b[1;32m<ipython-input-8-4783ba442d50>\u001b[0m in \u001b[0;36m<module>\u001b[1;34m\u001b[0m\n\u001b[1;32m----> 1\u001b[1;33m \u001b[0mrequest2_df\u001b[0m \u001b[1;33m=\u001b[0m \u001b[0mtd_quote\u001b[0m\u001b[1;33m(\u001b[0m\u001b[0msym\u001b[0m\u001b[1;33m=\u001b[0m\u001b[0mcompany\u001b[0m\u001b[1;33m,\u001b[0m \u001b[0minterval\u001b[0m\u001b[1;33m=\u001b[0m\u001b[1;34m\"1h\"\u001b[0m\u001b[1;33m,\u001b[0m \u001b[0msize\u001b[0m\u001b[1;33m=\u001b[0m\u001b[0msize\u001b[0m\u001b[1;33m,\u001b[0m \u001b[0mtimezone\u001b[0m\u001b[1;33m=\u001b[0m\u001b[0mtimezone\u001b[0m\u001b[1;33m)\u001b[0m\u001b[1;33m\u001b[0m\u001b[1;33m\u001b[0m\u001b[0m\n\u001b[0m",
      "\u001b[1;32m<ipython-input-7-5779293fb721>\u001b[0m in \u001b[0;36mtd_quote\u001b[1;34m(sym, interval, size, timezone)\u001b[0m\n\u001b[0;32m      1\u001b[0m \u001b[1;32mdef\u001b[0m \u001b[0mtd_quote\u001b[0m\u001b[1;33m(\u001b[0m\u001b[0msym\u001b[0m\u001b[1;33m:\u001b[0m\u001b[0mstr\u001b[0m\u001b[1;33m,\u001b[0m \u001b[0minterval\u001b[0m\u001b[1;33m:\u001b[0m\u001b[0mstr\u001b[0m\u001b[1;33m,\u001b[0m \u001b[0msize\u001b[0m\u001b[1;33m:\u001b[0m\u001b[0mint\u001b[0m\u001b[1;33m,\u001b[0m \u001b[0mtimezone\u001b[0m\u001b[1;33m:\u001b[0m\u001b[0mstr\u001b[0m\u001b[1;33m)\u001b[0m\u001b[1;33m:\u001b[0m\u001b[1;33m\u001b[0m\u001b[1;33m\u001b[0m\u001b[0m\n\u001b[0;32m      2\u001b[0m     \u001b[1;32mtry\u001b[0m\u001b[1;33m:\u001b[0m\u001b[1;33m\u001b[0m\u001b[1;33m\u001b[0m\u001b[0m\n\u001b[1;32m----> 3\u001b[1;33m         return td.quote(symbol=sym, \n\u001b[0m\u001b[0;32m      4\u001b[0m                               \u001b[0minterval\u001b[0m\u001b[1;33m=\u001b[0m\u001b[0minterval\u001b[0m\u001b[1;33m,\u001b[0m\u001b[1;33m\u001b[0m\u001b[1;33m\u001b[0m\u001b[0m\n\u001b[0;32m      5\u001b[0m                               \u001b[0moutputsize\u001b[0m\u001b[1;33m=\u001b[0m\u001b[0msize\u001b[0m\u001b[1;33m,\u001b[0m\u001b[1;33m\u001b[0m\u001b[1;33m\u001b[0m\u001b[0m\n",
      "\u001b[1;31mAttributeError\u001b[0m: 'TDClient' object has no attribute 'quote'"
     ]
    }
   ],
   "source": [
    "request2_df = td_quote(sym=company, interval=\"1h\", size=size, timezone=timezone)"
   ]
  },
  {
   "cell_type": "code",
   "execution_count": 7,
   "metadata": {
    "scrolled": true
   },
   "outputs": [
    {
     "ename": "ModuleNotFoundError",
     "evalue": "No module named 'mplfinance'",
     "output_type": "error",
     "traceback": [
      "\u001b[1;31m---------------------------------------------------------------------------\u001b[0m",
      "\u001b[1;31mModuleNotFoundError\u001b[0m                       Traceback (most recent call last)",
      "\u001b[1;32m<ipython-input-7-9c37dfed2c0f>\u001b[0m in \u001b[0;36m<module>\u001b[1;34m\u001b[0m\n\u001b[0;32m      5\u001b[0m )\n\u001b[0;32m      6\u001b[0m \u001b[1;31m# 1. Returns OHLCV chart\u001b[0m\u001b[1;33m\u001b[0m\u001b[1;33m\u001b[0m\u001b[1;33m\u001b[0m\u001b[0m\n\u001b[1;32m----> 7\u001b[1;33m \u001b[0mts\u001b[0m\u001b[1;33m.\u001b[0m\u001b[0mas_pyplot_figure\u001b[0m\u001b[1;33m(\u001b[0m\u001b[1;33m)\u001b[0m\u001b[1;33m\u001b[0m\u001b[1;33m\u001b[0m\u001b[0m\n\u001b[0m\u001b[0;32m      8\u001b[0m \u001b[1;33m\u001b[0m\u001b[0m\n\u001b[0;32m      9\u001b[0m \u001b[1;31m# 2. Returns OHLCV + BBANDS(close, 20, 2, SMA) + %B(close, 20, 2 SMA) + STOCH(14, 3, 3, SMA, SMA)\u001b[0m\u001b[1;33m\u001b[0m\u001b[1;33m\u001b[0m\u001b[1;33m\u001b[0m\u001b[0m\n",
      "\u001b[1;32m~\\Anaconda3\\envs\\fitsnbits\\lib\\site-packages\\twelvedata\\time_series.py\u001b[0m in \u001b[0;36mas_pyplot_figure\u001b[1;34m(self, figsize, candle_width)\u001b[0m\n\u001b[0;32m    208\u001b[0m                 \u001b[0max\u001b[0m\u001b[1;33m=\u001b[0m\u001b[0mprice_ax\u001b[0m\u001b[1;33m,\u001b[0m\u001b[1;33m\u001b[0m\u001b[1;33m\u001b[0m\u001b[0m\n\u001b[0;32m    209\u001b[0m                 \u001b[0mcandle_width\u001b[0m\u001b[1;33m=\u001b[0m\u001b[0mcandle_width\u001b[0m\u001b[1;33m,\u001b[0m\u001b[1;33m\u001b[0m\u001b[1;33m\u001b[0m\u001b[0m\n\u001b[1;32m--> 210\u001b[1;33m                 \u001b[0minterval_minutes\u001b[0m\u001b[1;33m=\u001b[0m\u001b[0minterval_minutes\u001b[0m\u001b[1;33m,\u001b[0m\u001b[1;33m\u001b[0m\u001b[1;33m\u001b[0m\u001b[0m\n\u001b[0m\u001b[0;32m    211\u001b[0m             )\n\u001b[0;32m    212\u001b[0m             \u001b[0mprice_ax\u001b[0m\u001b[1;33m.\u001b[0m\u001b[0myaxis\u001b[0m\u001b[1;33m.\u001b[0m\u001b[0mtick_right\u001b[0m\u001b[1;33m(\u001b[0m\u001b[1;33m)\u001b[0m\u001b[1;33m\u001b[0m\u001b[1;33m\u001b[0m\u001b[0m\n",
      "\u001b[1;32m~\\Anaconda3\\envs\\fitsnbits\\lib\\site-packages\\twelvedata\\endpoints.py\u001b[0m in \u001b[0;36mrender_matplotlib\u001b[1;34m(self, **kwargs)\u001b[0m\n\u001b[0;32m    159\u001b[0m \u001b[1;33m\u001b[0m\u001b[0m\n\u001b[0;32m    160\u001b[0m         \u001b[1;32mfor\u001b[0m \u001b[0mrender\u001b[0m \u001b[1;32min\u001b[0m \u001b[0mRENDERS_MAPPING\u001b[0m\u001b[1;33m[\u001b[0m\u001b[0mself\u001b[0m\u001b[1;33m.\u001b[0m\u001b[0m__class__\u001b[0m\u001b[1;33m]\u001b[0m\u001b[1;33m:\u001b[0m\u001b[1;33m\u001b[0m\u001b[1;33m\u001b[0m\u001b[0m\n\u001b[1;32m--> 161\u001b[1;33m             \u001b[0mrender\u001b[0m\u001b[1;33m.\u001b[0m\u001b[0mrender_matplotlib\u001b[0m\u001b[1;33m(\u001b[0m\u001b[0mctx\u001b[0m\u001b[1;33m,\u001b[0m \u001b[0mdf\u001b[0m\u001b[1;33m,\u001b[0m \u001b[1;33m**\u001b[0m\u001b[0mkwargs\u001b[0m\u001b[1;33m)\u001b[0m\u001b[1;33m\u001b[0m\u001b[1;33m\u001b[0m\u001b[0m\n\u001b[0m\u001b[0;32m    162\u001b[0m \u001b[1;33m\u001b[0m\u001b[0m\n\u001b[0;32m    163\u001b[0m     \u001b[1;32mdef\u001b[0m \u001b[0mrender_plotly\u001b[0m\u001b[1;33m(\u001b[0m\u001b[0mself\u001b[0m\u001b[1;33m,\u001b[0m \u001b[1;33m**\u001b[0m\u001b[0mkwargs\u001b[0m\u001b[1;33m)\u001b[0m\u001b[1;33m:\u001b[0m\u001b[1;33m\u001b[0m\u001b[1;33m\u001b[0m\u001b[0m\n",
      "\u001b[1;32m~\\Anaconda3\\envs\\fitsnbits\\lib\\site-packages\\twelvedata\\renders.py\u001b[0m in \u001b[0;36mrender_matplotlib\u001b[1;34m(self, ctx, df, ax, **kwargs)\u001b[0m\n\u001b[0;32m     97\u001b[0m \u001b[1;33m\u001b[0m\u001b[0m\n\u001b[0;32m     98\u001b[0m     \u001b[1;32mdef\u001b[0m \u001b[0mrender_matplotlib\u001b[0m\u001b[1;33m(\u001b[0m\u001b[0mself\u001b[0m\u001b[1;33m,\u001b[0m \u001b[0mctx\u001b[0m\u001b[1;33m,\u001b[0m \u001b[0mdf\u001b[0m\u001b[1;33m,\u001b[0m \u001b[0max\u001b[0m\u001b[1;33m,\u001b[0m \u001b[1;33m**\u001b[0m\u001b[0mkwargs\u001b[0m\u001b[1;33m)\u001b[0m\u001b[1;33m:\u001b[0m\u001b[1;33m\u001b[0m\u001b[1;33m\u001b[0m\u001b[0m\n\u001b[1;32m---> 99\u001b[1;33m         \u001b[1;32mimport\u001b[0m \u001b[0mmplfinance\u001b[0m \u001b[1;32mas\u001b[0m \u001b[0mmpf\u001b[0m\u001b[1;33m\u001b[0m\u001b[1;33m\u001b[0m\u001b[0m\n\u001b[0m\u001b[0;32m    100\u001b[0m         \u001b[1;32mimport\u001b[0m \u001b[0mpandas\u001b[0m \u001b[1;32mas\u001b[0m \u001b[0mpd\u001b[0m\u001b[1;33m\u001b[0m\u001b[1;33m\u001b[0m\u001b[0m\n\u001b[0;32m    101\u001b[0m \u001b[1;33m\u001b[0m\u001b[0m\n",
      "\u001b[1;31mModuleNotFoundError\u001b[0m: No module named 'mplfinance'"
     ]
    },
    {
     "data": {
      "image/png": "[encoded data removed]",
      "text/plain": [
       "<Figure size 1152x576 with 1 Axes>"
      ]
     },
     "metadata": {
      "needs_background": "light"
     },
     "output_type": "display_data"
    }
   ],
   "source": [
    "ts = td.time_series(\n",
    "    symbol=\"MSFT\",\n",
    "    outputsize=75,\n",
    "    interval=\"1day\",\n",
    ")\n",
    "# 1. Returns OHLCV chart\n",
    "ts.as_pyplot_figure()\n",
    "\n",
    "# 2. Returns OHLCV + BBANDS(close, 20, 2, SMA) + %B(close, 20, 2 SMA) + STOCH(14, 3, 3, SMA, SMA)\n",
    "ts.with_bbands().with_percent_b().with_stoch(slow_k_period=3).as_pyplot_figure()"
   ]
  },
  {
   "cell_type": "code",
   "execution_count": null,
   "metadata": {},
   "outputs": [],
   "source": []
  }
 ],
 "metadata": {
  "kernelspec": {
   "display_name": "fitsnbits",
   "language": "python",
   "name": "fitsnbits"
  },
  "language_info": {
   "codemirror_mode": {
    "name": "ipython",
    "version": 3
   },
   "file_extension": ".py",
   "mimetype": "text/x-python",
   "name": "python",
   "nbconvert_exporter": "python",
   "pygments_lexer": "ipython3",
   "version": "3.7.9"
  }
 },
 "nbformat": 4,
 "nbformat_minor": 4
}
